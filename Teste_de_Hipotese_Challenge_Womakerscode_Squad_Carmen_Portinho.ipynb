{
  "nbformat": 4,
  "nbformat_minor": 0,
  "metadata": {
    "colab": {
      "provenance": [],
      "toc_visible": true,
      "include_colab_link": true
    },
    "kernelspec": {
      "name": "python3",
      "display_name": "Python 3"
    },
    "language_info": {
      "name": "python"
    }
  },
  "cells": [
    {
      "cell_type": "markdown",
      "metadata": {
        "id": "view-in-github",
        "colab_type": "text"
      },
      "source": [
        "<a href=\"https://colab.research.google.com/github/Therezaclm/Estatistica-com-python/blob/main/Teste_de_Hipotese_Challenge_Womakerscode_Squad_Carmen_Portinho.ipynb\" target=\"_parent\"><img src=\"https://colab.research.google.com/assets/colab-badge.svg\" alt=\"Open In Colab\"/></a>"
      ]
    },
    {
      "cell_type": "markdown",
      "source": [
        "# <font color=green>**BootCamp TECH MINAs 2023**</font>\n",
        "\n"
      ],
      "metadata": {
        "id": "xeGzgGcmwirP"
      }
    },
    {
      "cell_type": "markdown",
      "source": [
        "# <font color=green>Challenge Teste de Hipóteses</font>\n",
        "\n",
        "## <font color=blue>Desafio 1: Cosméticos</font>"
      ],
      "metadata": {
        "id": "YxvKZG0rPYZj"
      }
    },
    {
      "cell_type": "markdown",
      "source": [
        "Suponha que você trabalha em uma empresa do ramo de cosméticos ou beleza. O Time de produtos dessa empresa está interessado criar novos batons com maior durabilidade. Para isso estão testando 3 diferentes fórmulas para irem a mercado.\n",
        "\n",
        "De posse dessas informacoes, o time de produtos solicitou aos analistas de dados da\n",
        "empresa as seguintes perguntas a serem respondidas:\n",
        "\n",
        "1 - Existe diferenca estatisticamente significativa na durabilidade dos batons com\n",
        "formulas diferentes?\n",
        "\n",
        "2 - Essa diferenca persiste ou nao quando a voluntária se expoe ao sol? E com\n",
        "relacao a idade?\n",
        "\n",
        "3- Qual fórmula de batom voce indicaria para consumidores que buscam maior\n",
        "durabilidade e exposicao ao sol?"
      ],
      "metadata": {
        "id": "lIaXDsNsCPxw"
      }
    },
    {
      "cell_type": "markdown",
      "source": [
        "*Será analisado inicialmente se as amostras dos batons de formula 1, 2 e 3 são provenientes de uma distribuição normal, tendo como hipótese nula:*\n",
        "\n",
        "*H0: Amostra proviniente de uma distribuição normal*"
      ],
      "metadata": {
        "id": "UNsDBV0sDUyW"
      }
    },
    {
      "cell_type": "code",
      "source": [
        "import pandas as pd   ##importando bibliotecas\n",
        "from scipy.stats import normaltest\n",
        "from scipy.stats import norm\n",
        "from statsmodels.stats.weightstats import ztest\n",
        "from statsmodels.stats.weightstats import DescrStatsW\n",
        "from scipy import stats\n",
        "import seaborn as sns\n",
        "import matplotlib.pyplot as plt"
      ],
      "metadata": {
        "id": "MNqVw4vdxFKN"
      },
      "execution_count": null,
      "outputs": []
    },
    {
      "cell_type": "code",
      "source": [
        "dados = pd.read_csv(\"desafio_01_cosmeticos.csv\")  ##leitura dos dados\n",
        "#dados = pd.read_csv(\"/content/sample_data/desafio_01_cosmeticos_challenge_testehipoteses-230206-120438.csv\")\n",
        "dados.head()"
      ],
      "metadata": {
        "id": "N-_QOFHtPSu2",
        "colab": {
          "base_uri": "https://localhost:8080/",
          "height": 206
        },
        "outputId": "5024f177-dab9-4cd9-d04a-a5a636d3aa8a"
      },
      "execution_count": null,
      "outputs": [
        {
          "output_type": "execute_result",
          "data": {
            "text/plain": [
              "   id_produto  id_voluntária  durabilidade  idade  exposicao_sol\n",
              "0           1              1            12     40              1\n",
              "1           2              2             5     36              0\n",
              "2           1              3            19     47              0\n",
              "3           1              4            14     36              1\n",
              "4           1              5            17     46              1"
            ],
            "text/html": [
              "\n",
              "  <div id=\"df-d4d8eee9-d342-41ba-a0f4-42fbacac388c\">\n",
              "    <div class=\"colab-df-container\">\n",
              "      <div>\n",
              "<style scoped>\n",
              "    .dataframe tbody tr th:only-of-type {\n",
              "        vertical-align: middle;\n",
              "    }\n",
              "\n",
              "    .dataframe tbody tr th {\n",
              "        vertical-align: top;\n",
              "    }\n",
              "\n",
              "    .dataframe thead th {\n",
              "        text-align: right;\n",
              "    }\n",
              "</style>\n",
              "<table border=\"1\" class=\"dataframe\">\n",
              "  <thead>\n",
              "    <tr style=\"text-align: right;\">\n",
              "      <th></th>\n",
              "      <th>id_produto</th>\n",
              "      <th>id_voluntária</th>\n",
              "      <th>durabilidade</th>\n",
              "      <th>idade</th>\n",
              "      <th>exposicao_sol</th>\n",
              "    </tr>\n",
              "  </thead>\n",
              "  <tbody>\n",
              "    <tr>\n",
              "      <th>0</th>\n",
              "      <td>1</td>\n",
              "      <td>1</td>\n",
              "      <td>12</td>\n",
              "      <td>40</td>\n",
              "      <td>1</td>\n",
              "    </tr>\n",
              "    <tr>\n",
              "      <th>1</th>\n",
              "      <td>2</td>\n",
              "      <td>2</td>\n",
              "      <td>5</td>\n",
              "      <td>36</td>\n",
              "      <td>0</td>\n",
              "    </tr>\n",
              "    <tr>\n",
              "      <th>2</th>\n",
              "      <td>1</td>\n",
              "      <td>3</td>\n",
              "      <td>19</td>\n",
              "      <td>47</td>\n",
              "      <td>0</td>\n",
              "    </tr>\n",
              "    <tr>\n",
              "      <th>3</th>\n",
              "      <td>1</td>\n",
              "      <td>4</td>\n",
              "      <td>14</td>\n",
              "      <td>36</td>\n",
              "      <td>1</td>\n",
              "    </tr>\n",
              "    <tr>\n",
              "      <th>4</th>\n",
              "      <td>1</td>\n",
              "      <td>5</td>\n",
              "      <td>17</td>\n",
              "      <td>46</td>\n",
              "      <td>1</td>\n",
              "    </tr>\n",
              "  </tbody>\n",
              "</table>\n",
              "</div>\n",
              "      <button class=\"colab-df-convert\" onclick=\"convertToInteractive('df-d4d8eee9-d342-41ba-a0f4-42fbacac388c')\"\n",
              "              title=\"Convert this dataframe to an interactive table.\"\n",
              "              style=\"display:none;\">\n",
              "        \n",
              "  <svg xmlns=\"http://www.w3.org/2000/svg\" height=\"24px\"viewBox=\"0 0 24 24\"\n",
              "       width=\"24px\">\n",
              "    <path d=\"M0 0h24v24H0V0z\" fill=\"none\"/>\n",
              "    <path d=\"M18.56 5.44l.94 2.06.94-2.06 2.06-.94-2.06-.94-.94-2.06-.94 2.06-2.06.94zm-11 1L8.5 8.5l.94-2.06 2.06-.94-2.06-.94L8.5 2.5l-.94 2.06-2.06.94zm10 10l.94 2.06.94-2.06 2.06-.94-2.06-.94-.94-2.06-.94 2.06-2.06.94z\"/><path d=\"M17.41 7.96l-1.37-1.37c-.4-.4-.92-.59-1.43-.59-.52 0-1.04.2-1.43.59L10.3 9.45l-7.72 7.72c-.78.78-.78 2.05 0 2.83L4 21.41c.39.39.9.59 1.41.59.51 0 1.02-.2 1.41-.59l7.78-7.78 2.81-2.81c.8-.78.8-2.07 0-2.86zM5.41 20L4 18.59l7.72-7.72 1.47 1.35L5.41 20z\"/>\n",
              "  </svg>\n",
              "      </button>\n",
              "      \n",
              "  <style>\n",
              "    .colab-df-container {\n",
              "      display:flex;\n",
              "      flex-wrap:wrap;\n",
              "      gap: 12px;\n",
              "    }\n",
              "\n",
              "    .colab-df-convert {\n",
              "      background-color: #E8F0FE;\n",
              "      border: none;\n",
              "      border-radius: 50%;\n",
              "      cursor: pointer;\n",
              "      display: none;\n",
              "      fill: #1967D2;\n",
              "      height: 32px;\n",
              "      padding: 0 0 0 0;\n",
              "      width: 32px;\n",
              "    }\n",
              "\n",
              "    .colab-df-convert:hover {\n",
              "      background-color: #E2EBFA;\n",
              "      box-shadow: 0px 1px 2px rgba(60, 64, 67, 0.3), 0px 1px 3px 1px rgba(60, 64, 67, 0.15);\n",
              "      fill: #174EA6;\n",
              "    }\n",
              "\n",
              "    [theme=dark] .colab-df-convert {\n",
              "      background-color: #3B4455;\n",
              "      fill: #D2E3FC;\n",
              "    }\n",
              "\n",
              "    [theme=dark] .colab-df-convert:hover {\n",
              "      background-color: #434B5C;\n",
              "      box-shadow: 0px 1px 3px 1px rgba(0, 0, 0, 0.15);\n",
              "      filter: drop-shadow(0px 1px 2px rgba(0, 0, 0, 0.3));\n",
              "      fill: #FFFFFF;\n",
              "    }\n",
              "  </style>\n",
              "\n",
              "      <script>\n",
              "        const buttonEl =\n",
              "          document.querySelector('#df-d4d8eee9-d342-41ba-a0f4-42fbacac388c button.colab-df-convert');\n",
              "        buttonEl.style.display =\n",
              "          google.colab.kernel.accessAllowed ? 'block' : 'none';\n",
              "\n",
              "        async function convertToInteractive(key) {\n",
              "          const element = document.querySelector('#df-d4d8eee9-d342-41ba-a0f4-42fbacac388c');\n",
              "          const dataTable =\n",
              "            await google.colab.kernel.invokeFunction('convertToInteractive',\n",
              "                                                     [key], {});\n",
              "          if (!dataTable) return;\n",
              "\n",
              "          const docLinkHtml = 'Like what you see? Visit the ' +\n",
              "            '<a target=\"_blank\" href=https://colab.research.google.com/notebooks/data_table.ipynb>data table notebook</a>'\n",
              "            + ' to learn more about interactive tables.';\n",
              "          element.innerHTML = '';\n",
              "          dataTable['output_type'] = 'display_data';\n",
              "          await google.colab.output.renderOutput(dataTable, element);\n",
              "          const docLink = document.createElement('div');\n",
              "          docLink.innerHTML = docLinkHtml;\n",
              "          element.appendChild(docLink);\n",
              "        }\n",
              "      </script>\n",
              "    </div>\n",
              "  </div>\n",
              "  "
            ]
          },
          "metadata": {},
          "execution_count": 6
        }
      ]
    },
    {
      "cell_type": "code",
      "source": [
        "dados.describe().round(2)"
      ],
      "metadata": {
        "id": "-mN5f3sFPooi",
        "colab": {
          "base_uri": "https://localhost:8080/",
          "height": 300
        },
        "outputId": "28f19bac-95ec-4edd-d57f-60b6695d01ed"
      },
      "execution_count": null,
      "outputs": [
        {
          "output_type": "execute_result",
          "data": {
            "text/plain": [
              "       id_produto  id_voluntária  durabilidade   idade  exposicao_sol\n",
              "count      300.00         300.00        300.00  300.00         300.00\n",
              "mean         2.00         150.50         17.13   36.89           0.44\n",
              "std          0.82          86.75         10.94   12.63           0.50\n",
              "min          1.00           1.00          5.00   18.00           0.00\n",
              "25%          1.00          75.75          9.00   26.00           0.00\n",
              "50%          2.00         150.50         14.00   36.00           0.00\n",
              "75%          3.00         225.25         20.00   48.00           1.00\n",
              "max          3.00         300.00         48.00   60.00           1.00"
            ],
            "text/html": [
              "\n",
              "  <div id=\"df-eb6be251-664e-4ac2-880f-0a43e938ae48\">\n",
              "    <div class=\"colab-df-container\">\n",
              "      <div>\n",
              "<style scoped>\n",
              "    .dataframe tbody tr th:only-of-type {\n",
              "        vertical-align: middle;\n",
              "    }\n",
              "\n",
              "    .dataframe tbody tr th {\n",
              "        vertical-align: top;\n",
              "    }\n",
              "\n",
              "    .dataframe thead th {\n",
              "        text-align: right;\n",
              "    }\n",
              "</style>\n",
              "<table border=\"1\" class=\"dataframe\">\n",
              "  <thead>\n",
              "    <tr style=\"text-align: right;\">\n",
              "      <th></th>\n",
              "      <th>id_produto</th>\n",
              "      <th>id_voluntária</th>\n",
              "      <th>durabilidade</th>\n",
              "      <th>idade</th>\n",
              "      <th>exposicao_sol</th>\n",
              "    </tr>\n",
              "  </thead>\n",
              "  <tbody>\n",
              "    <tr>\n",
              "      <th>count</th>\n",
              "      <td>300.00</td>\n",
              "      <td>300.00</td>\n",
              "      <td>300.00</td>\n",
              "      <td>300.00</td>\n",
              "      <td>300.00</td>\n",
              "    </tr>\n",
              "    <tr>\n",
              "      <th>mean</th>\n",
              "      <td>2.00</td>\n",
              "      <td>150.50</td>\n",
              "      <td>17.13</td>\n",
              "      <td>36.89</td>\n",
              "      <td>0.44</td>\n",
              "    </tr>\n",
              "    <tr>\n",
              "      <th>std</th>\n",
              "      <td>0.82</td>\n",
              "      <td>86.75</td>\n",
              "      <td>10.94</td>\n",
              "      <td>12.63</td>\n",
              "      <td>0.50</td>\n",
              "    </tr>\n",
              "    <tr>\n",
              "      <th>min</th>\n",
              "      <td>1.00</td>\n",
              "      <td>1.00</td>\n",
              "      <td>5.00</td>\n",
              "      <td>18.00</td>\n",
              "      <td>0.00</td>\n",
              "    </tr>\n",
              "    <tr>\n",
              "      <th>25%</th>\n",
              "      <td>1.00</td>\n",
              "      <td>75.75</td>\n",
              "      <td>9.00</td>\n",
              "      <td>26.00</td>\n",
              "      <td>0.00</td>\n",
              "    </tr>\n",
              "    <tr>\n",
              "      <th>50%</th>\n",
              "      <td>2.00</td>\n",
              "      <td>150.50</td>\n",
              "      <td>14.00</td>\n",
              "      <td>36.00</td>\n",
              "      <td>0.00</td>\n",
              "    </tr>\n",
              "    <tr>\n",
              "      <th>75%</th>\n",
              "      <td>3.00</td>\n",
              "      <td>225.25</td>\n",
              "      <td>20.00</td>\n",
              "      <td>48.00</td>\n",
              "      <td>1.00</td>\n",
              "    </tr>\n",
              "    <tr>\n",
              "      <th>max</th>\n",
              "      <td>3.00</td>\n",
              "      <td>300.00</td>\n",
              "      <td>48.00</td>\n",
              "      <td>60.00</td>\n",
              "      <td>1.00</td>\n",
              "    </tr>\n",
              "  </tbody>\n",
              "</table>\n",
              "</div>\n",
              "      <button class=\"colab-df-convert\" onclick=\"convertToInteractive('df-eb6be251-664e-4ac2-880f-0a43e938ae48')\"\n",
              "              title=\"Convert this dataframe to an interactive table.\"\n",
              "              style=\"display:none;\">\n",
              "        \n",
              "  <svg xmlns=\"http://www.w3.org/2000/svg\" height=\"24px\"viewBox=\"0 0 24 24\"\n",
              "       width=\"24px\">\n",
              "    <path d=\"M0 0h24v24H0V0z\" fill=\"none\"/>\n",
              "    <path d=\"M18.56 5.44l.94 2.06.94-2.06 2.06-.94-2.06-.94-.94-2.06-.94 2.06-2.06.94zm-11 1L8.5 8.5l.94-2.06 2.06-.94-2.06-.94L8.5 2.5l-.94 2.06-2.06.94zm10 10l.94 2.06.94-2.06 2.06-.94-2.06-.94-.94-2.06-.94 2.06-2.06.94z\"/><path d=\"M17.41 7.96l-1.37-1.37c-.4-.4-.92-.59-1.43-.59-.52 0-1.04.2-1.43.59L10.3 9.45l-7.72 7.72c-.78.78-.78 2.05 0 2.83L4 21.41c.39.39.9.59 1.41.59.51 0 1.02-.2 1.41-.59l7.78-7.78 2.81-2.81c.8-.78.8-2.07 0-2.86zM5.41 20L4 18.59l7.72-7.72 1.47 1.35L5.41 20z\"/>\n",
              "  </svg>\n",
              "      </button>\n",
              "      \n",
              "  <style>\n",
              "    .colab-df-container {\n",
              "      display:flex;\n",
              "      flex-wrap:wrap;\n",
              "      gap: 12px;\n",
              "    }\n",
              "\n",
              "    .colab-df-convert {\n",
              "      background-color: #E8F0FE;\n",
              "      border: none;\n",
              "      border-radius: 50%;\n",
              "      cursor: pointer;\n",
              "      display: none;\n",
              "      fill: #1967D2;\n",
              "      height: 32px;\n",
              "      padding: 0 0 0 0;\n",
              "      width: 32px;\n",
              "    }\n",
              "\n",
              "    .colab-df-convert:hover {\n",
              "      background-color: #E2EBFA;\n",
              "      box-shadow: 0px 1px 2px rgba(60, 64, 67, 0.3), 0px 1px 3px 1px rgba(60, 64, 67, 0.15);\n",
              "      fill: #174EA6;\n",
              "    }\n",
              "\n",
              "    [theme=dark] .colab-df-convert {\n",
              "      background-color: #3B4455;\n",
              "      fill: #D2E3FC;\n",
              "    }\n",
              "\n",
              "    [theme=dark] .colab-df-convert:hover {\n",
              "      background-color: #434B5C;\n",
              "      box-shadow: 0px 1px 3px 1px rgba(0, 0, 0, 0.15);\n",
              "      filter: drop-shadow(0px 1px 2px rgba(0, 0, 0, 0.3));\n",
              "      fill: #FFFFFF;\n",
              "    }\n",
              "  </style>\n",
              "\n",
              "      <script>\n",
              "        const buttonEl =\n",
              "          document.querySelector('#df-eb6be251-664e-4ac2-880f-0a43e938ae48 button.colab-df-convert');\n",
              "        buttonEl.style.display =\n",
              "          google.colab.kernel.accessAllowed ? 'block' : 'none';\n",
              "\n",
              "        async function convertToInteractive(key) {\n",
              "          const element = document.querySelector('#df-eb6be251-664e-4ac2-880f-0a43e938ae48');\n",
              "          const dataTable =\n",
              "            await google.colab.kernel.invokeFunction('convertToInteractive',\n",
              "                                                     [key], {});\n",
              "          if (!dataTable) return;\n",
              "\n",
              "          const docLinkHtml = 'Like what you see? Visit the ' +\n",
              "            '<a target=\"_blank\" href=https://colab.research.google.com/notebooks/data_table.ipynb>data table notebook</a>'\n",
              "            + ' to learn more about interactive tables.';\n",
              "          element.innerHTML = '';\n",
              "          dataTable['output_type'] = 'display_data';\n",
              "          await google.colab.output.renderOutput(dataTable, element);\n",
              "          const docLink = document.createElement('div');\n",
              "          docLink.innerHTML = docLinkHtml;\n",
              "          element.appendChild(docLink);\n",
              "        }\n",
              "      </script>\n",
              "    </div>\n",
              "  </div>\n",
              "  "
            ]
          },
          "metadata": {},
          "execution_count": 7
        }
      ]
    },
    {
      "cell_type": "code",
      "source": [
        "significancia = 0.05"
      ],
      "metadata": {
        "id": "vwhkdzJBPosF"
      },
      "execution_count": null,
      "outputs": []
    },
    {
      "cell_type": "code",
      "source": [
        "prod_1 = dados.query('id_produto == 1').durabilidade  ##seleção dos dados de durabilidade do produto 1\n",
        "prod_1.head()"
      ],
      "metadata": {
        "colab": {
          "base_uri": "https://localhost:8080/"
        },
        "id": "CTlbuZwkECqm",
        "outputId": "85fe6543-0206-46c7-d37b-363b64eee8f0"
      },
      "execution_count": null,
      "outputs": [
        {
          "output_type": "execute_result",
          "data": {
            "text/plain": [
              "0    12\n",
              "2    19\n",
              "3    14\n",
              "4    17\n",
              "5    14\n",
              "Name: durabilidade, dtype: int64"
            ]
          },
          "metadata": {},
          "execution_count": 8
        }
      ]
    },
    {
      "cell_type": "code",
      "source": [
        "stat_test1, pvalor1 = normaltest(prod_1) ## verificando se os dados seguem uma distribuição normal\n",
        "print(stat_test1)\n",
        "print(pvalor1)"
      ],
      "metadata": {
        "id": "A9B6ANIOPov5",
        "colab": {
          "base_uri": "https://localhost:8080/"
        },
        "outputId": "5ee05230-355b-44f3-df96-8dd0e8106e09"
      },
      "execution_count": null,
      "outputs": [
        {
          "output_type": "stream",
          "name": "stdout",
          "text": [
            "96.02641355261086\n",
            "1.4064660019609044e-21\n"
          ]
        }
      ]
    },
    {
      "cell_type": "code",
      "source": [
        "pvalor1 <= significancia"
      ],
      "metadata": {
        "colab": {
          "base_uri": "https://localhost:8080/"
        },
        "id": "sdboB3ZNEIIP",
        "outputId": "05f2e739-0b0b-4118-f5fe-39e0c1d0ea18"
      },
      "execution_count": null,
      "outputs": [
        {
          "output_type": "execute_result",
          "data": {
            "text/plain": [
              "True"
            ]
          },
          "metadata": {},
          "execution_count": 13
        }
      ]
    },
    {
      "cell_type": "markdown",
      "source": [
        "Considerando $H_0$ que os dados são provinientes de uma distribuição normal, temos que $p\\leq 0,05$, rejeitando assim a hipótese nula."
      ],
      "metadata": {
        "id": "5vm0zwIzEVvS"
      }
    },
    {
      "cell_type": "code",
      "source": [
        "prod_2 = dados.query('id_produto == 2').durabilidade ##seleção dos dados de durabilidade do produto 2\n",
        "prod_2.head()"
      ],
      "metadata": {
        "colab": {
          "base_uri": "https://localhost:8080/"
        },
        "id": "kqpC1fZOEJuS",
        "outputId": "e7e0143c-f83f-4bc2-9c24-fdb46a0f145f"
      },
      "execution_count": null,
      "outputs": [
        {
          "output_type": "execute_result",
          "data": {
            "text/plain": [
              "1     5\n",
              "9     7\n",
              "13    5\n",
              "14    9\n",
              "15    7\n",
              "Name: durabilidade, dtype: int64"
            ]
          },
          "metadata": {},
          "execution_count": 14
        }
      ]
    },
    {
      "cell_type": "code",
      "source": [
        "stat_test2, pvalor2 = normaltest(prod_2) ## verificando se os dados seguem uma distribuição normal\n",
        "print(stat_test2)\n",
        "print(pvalor2)"
      ],
      "metadata": {
        "colab": {
          "base_uri": "https://localhost:8080/"
        },
        "id": "a0FNjs5lEJkv",
        "outputId": "8802f564-8594-442a-991c-7ccc45b71b73"
      },
      "execution_count": null,
      "outputs": [
        {
          "output_type": "stream",
          "name": "stdout",
          "text": [
            "16.384994610596173\n",
            "0.0002767219614086259\n"
          ]
        }
      ]
    },
    {
      "cell_type": "code",
      "source": [
        "pvalor2 <= significancia"
      ],
      "metadata": {
        "colab": {
          "base_uri": "https://localhost:8080/"
        },
        "id": "YdFx5q1qE782",
        "outputId": "552d2fe2-2910-49d2-ea2b-784e03a72aab"
      },
      "execution_count": null,
      "outputs": [
        {
          "output_type": "execute_result",
          "data": {
            "text/plain": [
              "True"
            ]
          },
          "metadata": {},
          "execution_count": 16
        }
      ]
    },
    {
      "cell_type": "markdown",
      "source": [
        "Hipótese nula de distribuição normal rejeitada."
      ],
      "metadata": {
        "id": "iiX0-Aj1E87N"
      }
    },
    {
      "cell_type": "code",
      "source": [
        "prod_3 = dados.query('id_produto == 3').durabilidade ##seleção dos dados de durabilidade do produto 3\n",
        "prod_3.head()"
      ],
      "metadata": {
        "colab": {
          "base_uri": "https://localhost:8080/"
        },
        "id": "pHo3_12aFFpP",
        "outputId": "c7822b29-8dbd-43a3-d11b-6c488517597e"
      },
      "execution_count": null,
      "outputs": [
        {
          "output_type": "execute_result",
          "data": {
            "text/plain": [
              "10    31\n",
              "11    28\n",
              "12    38\n",
              "19    26\n",
              "23    30\n",
              "Name: durabilidade, dtype: int64"
            ]
          },
          "metadata": {},
          "execution_count": 17
        }
      ]
    },
    {
      "cell_type": "code",
      "source": [
        "stat_test3, pvalor3 = normaltest(prod_3) ## verificando se os dados seguem uma distribuição normal\n",
        "print(stat_test3)\n",
        "print(pvalor3)"
      ],
      "metadata": {
        "colab": {
          "base_uri": "https://localhost:8080/"
        },
        "id": "W6gOHf3_FIfb",
        "outputId": "a7ccd17e-4288-41b4-b957-02cc881166af"
      },
      "execution_count": null,
      "outputs": [
        {
          "output_type": "stream",
          "name": "stdout",
          "text": [
            "28.77341246593411\n",
            "5.648496581565088e-07\n"
          ]
        }
      ]
    },
    {
      "cell_type": "code",
      "source": [
        "pvalor2 <= significancia"
      ],
      "metadata": {
        "colab": {
          "base_uri": "https://localhost:8080/"
        },
        "id": "XHYHP83FFFfp",
        "outputId": "3418696a-0aba-4124-d280-e721cdb62e37"
      },
      "execution_count": null,
      "outputs": [
        {
          "output_type": "execute_result",
          "data": {
            "text/plain": [
              "True"
            ]
          },
          "metadata": {},
          "execution_count": 19
        }
      ]
    },
    {
      "cell_type": "markdown",
      "source": [
        "O teste realizado a amostra do batom de fórmula 3 não é proviniente de uma distribuição normal.\n",
        "\n",
        "\n",
        "**Considerando que as amostras não seguem uma distribuição normal, será necessário a utilização do teste não paramétrico Kruskal-Wallis  para verificar se temos diferença significativa na média de durabilidade dos produtos.**"
      ],
      "metadata": {
        "id": "58LmpWUNFXkd"
      }
    },
    {
      "cell_type": "markdown",
      "source": [
        "H0: A durabilidade do batom é a mesma para todos os grupos de dados\n",
        "\n",
        "H1: A durabilidade é diferente para todos os grupos de dados"
      ],
      "metadata": {
        "id": "PRKITjm7FehM"
      }
    },
    {
      "cell_type": "code",
      "source": [
        "stats_total, pvalor_total = stats.kruskal(prod_1, prod_2, prod_3)\n",
        "print(stats_total)\n",
        "print(pvalor_total)"
      ],
      "metadata": {
        "colab": {
          "base_uri": "https://localhost:8080/"
        },
        "id": "4v5n0Nn3FbDq",
        "outputId": "d69594e8-ba80-4e9a-cda6-bd2090390865"
      },
      "execution_count": null,
      "outputs": [
        {
          "output_type": "stream",
          "name": "stdout",
          "text": [
            "227.46096368302588\n",
            "4.050226510971091e-50\n"
          ]
        }
      ]
    },
    {
      "cell_type": "code",
      "source": [
        "pvalor_total <= significancia"
      ],
      "metadata": {
        "colab": {
          "base_uri": "https://localhost:8080/"
        },
        "id": "4AJUx77NFQmb",
        "outputId": "c9b82527-f5b4-41d1-b5a1-7e9321d25304"
      },
      "execution_count": null,
      "outputs": [
        {
          "output_type": "execute_result",
          "data": {
            "text/plain": [
              "True"
            ]
          },
          "metadata": {},
          "execution_count": 21
        }
      ]
    },
    {
      "cell_type": "markdown",
      "source": [
        "### <font color=green> Resposta:\n",
        "\n",
        "Considerando o resultado do teste Kruskal-Wallis, tendo o p-valor menor do que a significancia de 0.05, rejeita-se a hipótese nula de que a durabilidade é a mesma para o 3 tipos de cosméticos. </font>"
      ],
      "metadata": {
        "id": "MPyFBpL6F7fd"
      }
    },
    {
      "cell_type": "markdown",
      "source": [
        "2 - Essa diferenca persiste ou nao quando a voluntária se expoe ao sol? E com relacao a idade?"
      ],
      "metadata": {
        "id": "HcGMkF6zGDnY"
      }
    },
    {
      "cell_type": "code",
      "source": [
        "produto_sol = dados.query('exposicao_sol == 1')\n",
        "produto_sol.head()"
      ],
      "metadata": {
        "colab": {
          "base_uri": "https://localhost:8080/",
          "height": 206
        },
        "id": "L0bIOyo3GDVM",
        "outputId": "2a7f23c9-9375-4cf8-ff28-159cd4c2829f"
      },
      "execution_count": null,
      "outputs": [
        {
          "output_type": "execute_result",
          "data": {
            "text/plain": [
              "   id_produto  id_voluntária  durabilidade  idade  exposicao_sol\n",
              "0           1              1            12     40              1\n",
              "3           1              4            14     36              1\n",
              "4           1              5            17     46              1\n",
              "5           1              6            14     56              1\n",
              "6           1              7            12     29              1"
            ],
            "text/html": [
              "\n",
              "  <div id=\"df-151c6f84-51ea-4084-b648-06cd0bdab7bc\">\n",
              "    <div class=\"colab-df-container\">\n",
              "      <div>\n",
              "<style scoped>\n",
              "    .dataframe tbody tr th:only-of-type {\n",
              "        vertical-align: middle;\n",
              "    }\n",
              "\n",
              "    .dataframe tbody tr th {\n",
              "        vertical-align: top;\n",
              "    }\n",
              "\n",
              "    .dataframe thead th {\n",
              "        text-align: right;\n",
              "    }\n",
              "</style>\n",
              "<table border=\"1\" class=\"dataframe\">\n",
              "  <thead>\n",
              "    <tr style=\"text-align: right;\">\n",
              "      <th></th>\n",
              "      <th>id_produto</th>\n",
              "      <th>id_voluntária</th>\n",
              "      <th>durabilidade</th>\n",
              "      <th>idade</th>\n",
              "      <th>exposicao_sol</th>\n",
              "    </tr>\n",
              "  </thead>\n",
              "  <tbody>\n",
              "    <tr>\n",
              "      <th>0</th>\n",
              "      <td>1</td>\n",
              "      <td>1</td>\n",
              "      <td>12</td>\n",
              "      <td>40</td>\n",
              "      <td>1</td>\n",
              "    </tr>\n",
              "    <tr>\n",
              "      <th>3</th>\n",
              "      <td>1</td>\n",
              "      <td>4</td>\n",
              "      <td>14</td>\n",
              "      <td>36</td>\n",
              "      <td>1</td>\n",
              "    </tr>\n",
              "    <tr>\n",
              "      <th>4</th>\n",
              "      <td>1</td>\n",
              "      <td>5</td>\n",
              "      <td>17</td>\n",
              "      <td>46</td>\n",
              "      <td>1</td>\n",
              "    </tr>\n",
              "    <tr>\n",
              "      <th>5</th>\n",
              "      <td>1</td>\n",
              "      <td>6</td>\n",
              "      <td>14</td>\n",
              "      <td>56</td>\n",
              "      <td>1</td>\n",
              "    </tr>\n",
              "    <tr>\n",
              "      <th>6</th>\n",
              "      <td>1</td>\n",
              "      <td>7</td>\n",
              "      <td>12</td>\n",
              "      <td>29</td>\n",
              "      <td>1</td>\n",
              "    </tr>\n",
              "  </tbody>\n",
              "</table>\n",
              "</div>\n",
              "      <button class=\"colab-df-convert\" onclick=\"convertToInteractive('df-151c6f84-51ea-4084-b648-06cd0bdab7bc')\"\n",
              "              title=\"Convert this dataframe to an interactive table.\"\n",
              "              style=\"display:none;\">\n",
              "        \n",
              "  <svg xmlns=\"http://www.w3.org/2000/svg\" height=\"24px\"viewBox=\"0 0 24 24\"\n",
              "       width=\"24px\">\n",
              "    <path d=\"M0 0h24v24H0V0z\" fill=\"none\"/>\n",
              "    <path d=\"M18.56 5.44l.94 2.06.94-2.06 2.06-.94-2.06-.94-.94-2.06-.94 2.06-2.06.94zm-11 1L8.5 8.5l.94-2.06 2.06-.94-2.06-.94L8.5 2.5l-.94 2.06-2.06.94zm10 10l.94 2.06.94-2.06 2.06-.94-2.06-.94-.94-2.06-.94 2.06-2.06.94z\"/><path d=\"M17.41 7.96l-1.37-1.37c-.4-.4-.92-.59-1.43-.59-.52 0-1.04.2-1.43.59L10.3 9.45l-7.72 7.72c-.78.78-.78 2.05 0 2.83L4 21.41c.39.39.9.59 1.41.59.51 0 1.02-.2 1.41-.59l7.78-7.78 2.81-2.81c.8-.78.8-2.07 0-2.86zM5.41 20L4 18.59l7.72-7.72 1.47 1.35L5.41 20z\"/>\n",
              "  </svg>\n",
              "      </button>\n",
              "      \n",
              "  <style>\n",
              "    .colab-df-container {\n",
              "      display:flex;\n",
              "      flex-wrap:wrap;\n",
              "      gap: 12px;\n",
              "    }\n",
              "\n",
              "    .colab-df-convert {\n",
              "      background-color: #E8F0FE;\n",
              "      border: none;\n",
              "      border-radius: 50%;\n",
              "      cursor: pointer;\n",
              "      display: none;\n",
              "      fill: #1967D2;\n",
              "      height: 32px;\n",
              "      padding: 0 0 0 0;\n",
              "      width: 32px;\n",
              "    }\n",
              "\n",
              "    .colab-df-convert:hover {\n",
              "      background-color: #E2EBFA;\n",
              "      box-shadow: 0px 1px 2px rgba(60, 64, 67, 0.3), 0px 1px 3px 1px rgba(60, 64, 67, 0.15);\n",
              "      fill: #174EA6;\n",
              "    }\n",
              "\n",
              "    [theme=dark] .colab-df-convert {\n",
              "      background-color: #3B4455;\n",
              "      fill: #D2E3FC;\n",
              "    }\n",
              "\n",
              "    [theme=dark] .colab-df-convert:hover {\n",
              "      background-color: #434B5C;\n",
              "      box-shadow: 0px 1px 3px 1px rgba(0, 0, 0, 0.15);\n",
              "      filter: drop-shadow(0px 1px 2px rgba(0, 0, 0, 0.3));\n",
              "      fill: #FFFFFF;\n",
              "    }\n",
              "  </style>\n",
              "\n",
              "      <script>\n",
              "        const buttonEl =\n",
              "          document.querySelector('#df-151c6f84-51ea-4084-b648-06cd0bdab7bc button.colab-df-convert');\n",
              "        buttonEl.style.display =\n",
              "          google.colab.kernel.accessAllowed ? 'block' : 'none';\n",
              "\n",
              "        async function convertToInteractive(key) {\n",
              "          const element = document.querySelector('#df-151c6f84-51ea-4084-b648-06cd0bdab7bc');\n",
              "          const dataTable =\n",
              "            await google.colab.kernel.invokeFunction('convertToInteractive',\n",
              "                                                     [key], {});\n",
              "          if (!dataTable) return;\n",
              "\n",
              "          const docLinkHtml = 'Like what you see? Visit the ' +\n",
              "            '<a target=\"_blank\" href=https://colab.research.google.com/notebooks/data_table.ipynb>data table notebook</a>'\n",
              "            + ' to learn more about interactive tables.';\n",
              "          element.innerHTML = '';\n",
              "          dataTable['output_type'] = 'display_data';\n",
              "          await google.colab.output.renderOutput(dataTable, element);\n",
              "          const docLink = document.createElement('div');\n",
              "          docLink.innerHTML = docLinkHtml;\n",
              "          element.appendChild(docLink);\n",
              "        }\n",
              "      </script>\n",
              "    </div>\n",
              "  </div>\n",
              "  "
            ]
          },
          "metadata": {},
          "execution_count": 22
        }
      ]
    },
    {
      "cell_type": "code",
      "source": [
        "produto_sol.query('id_produto == 1').mean()[['durabilidade']] ##média de durabilidade do produto 1 com exposição ao sol"
      ],
      "metadata": {
        "colab": {
          "base_uri": "https://localhost:8080/"
        },
        "id": "9dbFHdfVGDEY",
        "outputId": "cc4dc5b2-6eee-40ae-9373-8645a67f9149"
      },
      "execution_count": null,
      "outputs": [
        {
          "output_type": "execute_result",
          "data": {
            "text/plain": [
              "durabilidade    11.911111\n",
              "dtype: float64"
            ]
          },
          "metadata": {},
          "execution_count": 23
        }
      ]
    },
    {
      "cell_type": "code",
      "source": [
        "produto_sol.query('id_produto == 1').std()[['durabilidade']] ##desvio de durabilidade do produto 1 com exposição ao sol"
      ],
      "metadata": {
        "colab": {
          "base_uri": "https://localhost:8080/"
        },
        "id": "rkEdswunGL4N",
        "outputId": "e22f20fb-4c40-42ae-fd88-ca2f19d1014e"
      },
      "execution_count": null,
      "outputs": [
        {
          "output_type": "execute_result",
          "data": {
            "text/plain": [
              "durabilidade    1.578581\n",
              "dtype: float64"
            ]
          },
          "metadata": {},
          "execution_count": 24
        }
      ]
    },
    {
      "cell_type": "code",
      "source": [
        "produto_sol.query('id_produto == 2').mean()[['durabilidade']] ##média de durabilidade do produto 2 com exposição ao sol"
      ],
      "metadata": {
        "colab": {
          "base_uri": "https://localhost:8080/"
        },
        "id": "tY2KL_mwGL0r",
        "outputId": "df30f43c-3166-46c5-d849-716aab60917c"
      },
      "execution_count": null,
      "outputs": [
        {
          "output_type": "execute_result",
          "data": {
            "text/plain": [
              "durabilidade    7.5625\n",
              "dtype: float64"
            ]
          },
          "metadata": {},
          "execution_count": 25
        }
      ]
    },
    {
      "cell_type": "code",
      "source": [
        "produto_sol.query('id_produto == 2').std()[['durabilidade']]  ##desvio de durabilidade do produto 2 com exposição ao sol"
      ],
      "metadata": {
        "colab": {
          "base_uri": "https://localhost:8080/"
        },
        "id": "1caRx7nLGZ4j",
        "outputId": "58ef5490-43e6-48cd-c78c-5153f266ce1b"
      },
      "execution_count": null,
      "outputs": [
        {
          "output_type": "execute_result",
          "data": {
            "text/plain": [
              "durabilidade    1.809035\n",
              "dtype: float64"
            ]
          },
          "metadata": {},
          "execution_count": 26
        }
      ]
    },
    {
      "cell_type": "code",
      "source": [
        "produto_sol.query('id_produto == 3').mean()[['durabilidade']] ##média de durabilidade do produto 3 com exposição ao sol"
      ],
      "metadata": {
        "colab": {
          "base_uri": "https://localhost:8080/"
        },
        "id": "-XPE9w2aGLx7",
        "outputId": "3d26ecc7-b935-465d-90e5-d3a52671ff7b"
      },
      "execution_count": null,
      "outputs": [
        {
          "output_type": "execute_result",
          "data": {
            "text/plain": [
              "durabilidade    20.102564\n",
              "dtype: float64"
            ]
          },
          "metadata": {},
          "execution_count": 27
        }
      ]
    },
    {
      "cell_type": "code",
      "source": [
        "produto_sol.query('id_produto == 3').std()[['durabilidade']] ##desvio de durabilidade do produto 3 com exposição ao sol"
      ],
      "metadata": {
        "colab": {
          "base_uri": "https://localhost:8080/"
        },
        "id": "jXd0-5KFGkLr",
        "outputId": "ad40d4ea-0abb-4a90-e9aa-69cf4789fd6b"
      },
      "execution_count": null,
      "outputs": [
        {
          "output_type": "execute_result",
          "data": {
            "text/plain": [
              "durabilidade    8.466015\n",
              "dtype: float64"
            ]
          },
          "metadata": {},
          "execution_count": 28
        }
      ]
    },
    {
      "cell_type": "code",
      "source": [
        "produto_naosol = dados.query('exposicao_sol == 0')\n",
        "produto_naosol.head()"
      ],
      "metadata": {
        "colab": {
          "base_uri": "https://localhost:8080/",
          "height": 206
        },
        "id": "Wgugk4s5GLmn",
        "outputId": "4af87a34-4650-4afd-b65e-c40b7c525a8a"
      },
      "execution_count": null,
      "outputs": [
        {
          "output_type": "execute_result",
          "data": {
            "text/plain": [
              "    id_produto  id_voluntária  durabilidade  idade  exposicao_sol\n",
              "1            2              2             5     36              0\n",
              "2            1              3            19     47              0\n",
              "8            1              9            18     27              0\n",
              "10           3             11            31     21              0\n",
              "11           3             12            28     26              0"
            ],
            "text/html": [
              "\n",
              "  <div id=\"df-efb2c48b-9a08-4751-a410-877270973f88\">\n",
              "    <div class=\"colab-df-container\">\n",
              "      <div>\n",
              "<style scoped>\n",
              "    .dataframe tbody tr th:only-of-type {\n",
              "        vertical-align: middle;\n",
              "    }\n",
              "\n",
              "    .dataframe tbody tr th {\n",
              "        vertical-align: top;\n",
              "    }\n",
              "\n",
              "    .dataframe thead th {\n",
              "        text-align: right;\n",
              "    }\n",
              "</style>\n",
              "<table border=\"1\" class=\"dataframe\">\n",
              "  <thead>\n",
              "    <tr style=\"text-align: right;\">\n",
              "      <th></th>\n",
              "      <th>id_produto</th>\n",
              "      <th>id_voluntária</th>\n",
              "      <th>durabilidade</th>\n",
              "      <th>idade</th>\n",
              "      <th>exposicao_sol</th>\n",
              "    </tr>\n",
              "  </thead>\n",
              "  <tbody>\n",
              "    <tr>\n",
              "      <th>1</th>\n",
              "      <td>2</td>\n",
              "      <td>2</td>\n",
              "      <td>5</td>\n",
              "      <td>36</td>\n",
              "      <td>0</td>\n",
              "    </tr>\n",
              "    <tr>\n",
              "      <th>2</th>\n",
              "      <td>1</td>\n",
              "      <td>3</td>\n",
              "      <td>19</td>\n",
              "      <td>47</td>\n",
              "      <td>0</td>\n",
              "    </tr>\n",
              "    <tr>\n",
              "      <th>8</th>\n",
              "      <td>1</td>\n",
              "      <td>9</td>\n",
              "      <td>18</td>\n",
              "      <td>27</td>\n",
              "      <td>0</td>\n",
              "    </tr>\n",
              "    <tr>\n",
              "      <th>10</th>\n",
              "      <td>3</td>\n",
              "      <td>11</td>\n",
              "      <td>31</td>\n",
              "      <td>21</td>\n",
              "      <td>0</td>\n",
              "    </tr>\n",
              "    <tr>\n",
              "      <th>11</th>\n",
              "      <td>3</td>\n",
              "      <td>12</td>\n",
              "      <td>28</td>\n",
              "      <td>26</td>\n",
              "      <td>0</td>\n",
              "    </tr>\n",
              "  </tbody>\n",
              "</table>\n",
              "</div>\n",
              "      <button class=\"colab-df-convert\" onclick=\"convertToInteractive('df-efb2c48b-9a08-4751-a410-877270973f88')\"\n",
              "              title=\"Convert this dataframe to an interactive table.\"\n",
              "              style=\"display:none;\">\n",
              "        \n",
              "  <svg xmlns=\"http://www.w3.org/2000/svg\" height=\"24px\"viewBox=\"0 0 24 24\"\n",
              "       width=\"24px\">\n",
              "    <path d=\"M0 0h24v24H0V0z\" fill=\"none\"/>\n",
              "    <path d=\"M18.56 5.44l.94 2.06.94-2.06 2.06-.94-2.06-.94-.94-2.06-.94 2.06-2.06.94zm-11 1L8.5 8.5l.94-2.06 2.06-.94-2.06-.94L8.5 2.5l-.94 2.06-2.06.94zm10 10l.94 2.06.94-2.06 2.06-.94-2.06-.94-.94-2.06-.94 2.06-2.06.94z\"/><path d=\"M17.41 7.96l-1.37-1.37c-.4-.4-.92-.59-1.43-.59-.52 0-1.04.2-1.43.59L10.3 9.45l-7.72 7.72c-.78.78-.78 2.05 0 2.83L4 21.41c.39.39.9.59 1.41.59.51 0 1.02-.2 1.41-.59l7.78-7.78 2.81-2.81c.8-.78.8-2.07 0-2.86zM5.41 20L4 18.59l7.72-7.72 1.47 1.35L5.41 20z\"/>\n",
              "  </svg>\n",
              "      </button>\n",
              "      \n",
              "  <style>\n",
              "    .colab-df-container {\n",
              "      display:flex;\n",
              "      flex-wrap:wrap;\n",
              "      gap: 12px;\n",
              "    }\n",
              "\n",
              "    .colab-df-convert {\n",
              "      background-color: #E8F0FE;\n",
              "      border: none;\n",
              "      border-radius: 50%;\n",
              "      cursor: pointer;\n",
              "      display: none;\n",
              "      fill: #1967D2;\n",
              "      height: 32px;\n",
              "      padding: 0 0 0 0;\n",
              "      width: 32px;\n",
              "    }\n",
              "\n",
              "    .colab-df-convert:hover {\n",
              "      background-color: #E2EBFA;\n",
              "      box-shadow: 0px 1px 2px rgba(60, 64, 67, 0.3), 0px 1px 3px 1px rgba(60, 64, 67, 0.15);\n",
              "      fill: #174EA6;\n",
              "    }\n",
              "\n",
              "    [theme=dark] .colab-df-convert {\n",
              "      background-color: #3B4455;\n",
              "      fill: #D2E3FC;\n",
              "    }\n",
              "\n",
              "    [theme=dark] .colab-df-convert:hover {\n",
              "      background-color: #434B5C;\n",
              "      box-shadow: 0px 1px 3px 1px rgba(0, 0, 0, 0.15);\n",
              "      filter: drop-shadow(0px 1px 2px rgba(0, 0, 0, 0.3));\n",
              "      fill: #FFFFFF;\n",
              "    }\n",
              "  </style>\n",
              "\n",
              "      <script>\n",
              "        const buttonEl =\n",
              "          document.querySelector('#df-efb2c48b-9a08-4751-a410-877270973f88 button.colab-df-convert');\n",
              "        buttonEl.style.display =\n",
              "          google.colab.kernel.accessAllowed ? 'block' : 'none';\n",
              "\n",
              "        async function convertToInteractive(key) {\n",
              "          const element = document.querySelector('#df-efb2c48b-9a08-4751-a410-877270973f88');\n",
              "          const dataTable =\n",
              "            await google.colab.kernel.invokeFunction('convertToInteractive',\n",
              "                                                     [key], {});\n",
              "          if (!dataTable) return;\n",
              "\n",
              "          const docLinkHtml = 'Like what you see? Visit the ' +\n",
              "            '<a target=\"_blank\" href=https://colab.research.google.com/notebooks/data_table.ipynb>data table notebook</a>'\n",
              "            + ' to learn more about interactive tables.';\n",
              "          element.innerHTML = '';\n",
              "          dataTable['output_type'] = 'display_data';\n",
              "          await google.colab.output.renderOutput(dataTable, element);\n",
              "          const docLink = document.createElement('div');\n",
              "          docLink.innerHTML = docLinkHtml;\n",
              "          element.appendChild(docLink);\n",
              "        }\n",
              "      </script>\n",
              "    </div>\n",
              "  </div>\n",
              "  "
            ]
          },
          "metadata": {},
          "execution_count": 29
        }
      ]
    },
    {
      "cell_type": "code",
      "source": [
        "#intervalo interquartil.\n",
        "print(produto_sol.query('id_produto == 1').quantile(q=0.75) - produto_sol.query('id_produto == 1').quantile(q=0.25))\n",
        "print(produto_sol.query('id_produto == 2').quantile(q=0.75) - produto_sol.query('id_produto == 2').quantile(q=0.25))\n",
        "print(produto_sol.query('id_produto == 3').quantile(q=0.75) - produto_sol.query('id_produto == 3').quantile(q=0.25))"
      ],
      "metadata": {
        "id": "ZmI0LijuGvk2",
        "colab": {
          "base_uri": "https://localhost:8080/"
        },
        "outputId": "c0deb538-fd90-4e25-9c5e-9b684ae8b2bd"
      },
      "execution_count": null,
      "outputs": [
        {
          "output_type": "stream",
          "name": "stdout",
          "text": [
            "id_produto         0.0\n",
            "id_voluntária    119.0\n",
            "durabilidade       2.0\n",
            "idade             16.0\n",
            "exposicao_sol      0.0\n",
            "dtype: float64\n",
            "id_produto         0.00\n",
            "id_voluntária    150.75\n",
            "durabilidade       3.00\n",
            "idade             22.00\n",
            "exposicao_sol      0.00\n",
            "dtype: float64\n",
            "id_produto         0.0\n",
            "id_voluntária    140.0\n",
            "durabilidade       9.0\n",
            "idade             12.5\n",
            "exposicao_sol      0.0\n",
            "dtype: float64\n"
          ]
        }
      ]
    },
    {
      "cell_type": "code",
      "source": [
        "ax = sns.displot(produto_sol[\"idade\"], kde = True)\n",
        "ax.figure.set_size_inches(10,5)\n",
        "ax"
      ],
      "metadata": {
        "colab": {
          "base_uri": "https://localhost:8080/",
          "height": 386
        },
        "id": "sGvhWJ2ws8jr",
        "outputId": "4f5f6f4b-102d-4c85-98af-9936b7d8d76c"
      },
      "execution_count": null,
      "outputs": [
        {
          "output_type": "execute_result",
          "data": {
            "text/plain": [
              "<seaborn.axisgrid.FacetGrid at 0x7f5c59befbb0>"
            ]
          },
          "metadata": {},
          "execution_count": 149
        },
        {
          "output_type": "display_data",
          "data": {
            "text/plain": [
              "<Figure size 720x360 with 1 Axes>"
            ],
            "image/png": "[encoded data removed]"
          },
          "metadata": {
            "needs_background": "light"
          }
        }
      ]
    },
    {
      "cell_type": "code",
      "source": [
        "sns.boxplot(dados[\"idade\"],orient='h')"
      ],
      "metadata": {
        "colab": {
          "base_uri": "https://localhost:8080/",
          "height": 282
        },
        "id": "8C119LmntVps",
        "outputId": "ee8e5dfd-cf61-4672-b453-477d9e2eec79"
      },
      "execution_count": null,
      "outputs": [
        {
          "output_type": "execute_result",
          "data": {
            "text/plain": [
              "<Axes: >"
            ]
          },
          "metadata": {},
          "execution_count": 153
        },
        {
          "output_type": "display_data",
          "data": {
            "text/plain": [
              "<Figure size 432x288 with 1 Axes>"
            ],
            "image/png": "[encoded data removed]"
          },
          "metadata": {
            "needs_background": "light"
          }
        }
      ]
    },
    {
      "cell_type": "code",
      "source": [
        "ax = sns.displot(produto_sol[\"durabilidade\"], kde = True)\n",
        "ax.figure.set_size_inches(10,5)\n",
        "ax"
      ],
      "metadata": {
        "colab": {
          "base_uri": "https://localhost:8080/",
          "height": 386
        },
        "id": "19DB6RX1svgq",
        "outputId": "a1e813a6-4675-4db1-ba3f-193766b7a479"
      },
      "execution_count": null,
      "outputs": [
        {
          "output_type": "execute_result",
          "data": {
            "text/plain": [
              "<seaborn.axisgrid.FacetGrid at 0x7f5c59560a60>"
            ]
          },
          "metadata": {},
          "execution_count": 148
        },
        {
          "output_type": "display_data",
          "data": {
            "text/plain": [
              "<Figure size 720x360 with 1 Axes>"
            ],
            "image/png": "[encoded data removed]"
          },
          "metadata": {
            "needs_background": "light"
          }
        }
      ]
    },
    {
      "cell_type": "code",
      "source": [
        "sns.boxplot(dados[\"durabilidade\"],orient='h')"
      ],
      "metadata": {
        "colab": {
          "base_uri": "https://localhost:8080/",
          "height": 282
        },
        "id": "QiB9q4xvtdlN",
        "outputId": "b99d4960-6d66-47ea-f403-196c18c6f610"
      },
      "execution_count": null,
      "outputs": [
        {
          "output_type": "execute_result",
          "data": {
            "text/plain": [
              "<Axes: >"
            ]
          },
          "metadata": {},
          "execution_count": 152
        },
        {
          "output_type": "display_data",
          "data": {
            "text/plain": [
              "<Figure size 432x288 with 1 Axes>"
            ],
            "image/png": "[encoded data removed]"
          },
          "metadata": {
            "needs_background": "light"
          }
        }
      ]
    },
    {
      "cell_type": "code",
      "source": [
        "produto_sol.corr()"
      ],
      "metadata": {
        "colab": {
          "base_uri": "https://localhost:8080/",
          "height": 206
        },
        "id": "fsEE9M-lgeH5",
        "outputId": "4a9a709f-5d84-46ac-a70f-fe51153a8c60"
      },
      "execution_count": null,
      "outputs": [
        {
          "output_type": "execute_result",
          "data": {
            "text/plain": [
              "               id_produto  id_voluntária  durabilidade     idade  \\\n",
              "id_produto       1.000000       0.255433      0.442645  0.269866   \n",
              "id_voluntária    0.255433       1.000000      0.125548  0.147184   \n",
              "durabilidade     0.442645       0.125548      1.000000  0.089011   \n",
              "idade            0.269866       0.147184      0.089011  1.000000   \n",
              "exposicao_sol         NaN            NaN           NaN       NaN   \n",
              "\n",
              "               exposicao_sol  \n",
              "id_produto               NaN  \n",
              "id_voluntária            NaN  \n",
              "durabilidade             NaN  \n",
              "idade                    NaN  \n",
              "exposicao_sol            NaN  "
            ],
            "text/html": [
              "\n",
              "  <div id=\"df-389dad6f-021f-4c8a-8e93-febb64ea9a14\">\n",
              "    <div class=\"colab-df-container\">\n",
              "      <div>\n",
              "<style scoped>\n",
              "    .dataframe tbody tr th:only-of-type {\n",
              "        vertical-align: middle;\n",
              "    }\n",
              "\n",
              "    .dataframe tbody tr th {\n",
              "        vertical-align: top;\n",
              "    }\n",
              "\n",
              "    .dataframe thead th {\n",
              "        text-align: right;\n",
              "    }\n",
              "</style>\n",
              "<table border=\"1\" class=\"dataframe\">\n",
              "  <thead>\n",
              "    <tr style=\"text-align: right;\">\n",
              "      <th></th>\n",
              "      <th>id_produto</th>\n",
              "      <th>id_voluntária</th>\n",
              "      <th>durabilidade</th>\n",
              "      <th>idade</th>\n",
              "      <th>exposicao_sol</th>\n",
              "    </tr>\n",
              "  </thead>\n",
              "  <tbody>\n",
              "    <tr>\n",
              "      <th>id_produto</th>\n",
              "      <td>1.000000</td>\n",
              "      <td>0.255433</td>\n",
              "      <td>0.442645</td>\n",
              "      <td>0.269866</td>\n",
              "      <td>NaN</td>\n",
              "    </tr>\n",
              "    <tr>\n",
              "      <th>id_voluntária</th>\n",
              "      <td>0.255433</td>\n",
              "      <td>1.000000</td>\n",
              "      <td>0.125548</td>\n",
              "      <td>0.147184</td>\n",
              "      <td>NaN</td>\n",
              "    </tr>\n",
              "    <tr>\n",
              "      <th>durabilidade</th>\n",
              "      <td>0.442645</td>\n",
              "      <td>0.125548</td>\n",
              "      <td>1.000000</td>\n",
              "      <td>0.089011</td>\n",
              "      <td>NaN</td>\n",
              "    </tr>\n",
              "    <tr>\n",
              "      <th>idade</th>\n",
              "      <td>0.269866</td>\n",
              "      <td>0.147184</td>\n",
              "      <td>0.089011</td>\n",
              "      <td>1.000000</td>\n",
              "      <td>NaN</td>\n",
              "    </tr>\n",
              "    <tr>\n",
              "      <th>exposicao_sol</th>\n",
              "      <td>NaN</td>\n",
              "      <td>NaN</td>\n",
              "      <td>NaN</td>\n",
              "      <td>NaN</td>\n",
              "      <td>NaN</td>\n",
              "    </tr>\n",
              "  </tbody>\n",
              "</table>\n",
              "</div>\n",
              "      <button class=\"colab-df-convert\" onclick=\"convertToInteractive('df-389dad6f-021f-4c8a-8e93-febb64ea9a14')\"\n",
              "              title=\"Convert this dataframe to an interactive table.\"\n",
              "              style=\"display:none;\">\n",
              "        \n",
              "  <svg xmlns=\"http://www.w3.org/2000/svg\" height=\"24px\"viewBox=\"0 0 24 24\"\n",
              "       width=\"24px\">\n",
              "    <path d=\"M0 0h24v24H0V0z\" fill=\"none\"/>\n",
              "    <path d=\"M18.56 5.44l.94 2.06.94-2.06 2.06-.94-2.06-.94-.94-2.06-.94 2.06-2.06.94zm-11 1L8.5 8.5l.94-2.06 2.06-.94-2.06-.94L8.5 2.5l-.94 2.06-2.06.94zm10 10l.94 2.06.94-2.06 2.06-.94-2.06-.94-.94-2.06-.94 2.06-2.06.94z\"/><path d=\"M17.41 7.96l-1.37-1.37c-.4-.4-.92-.59-1.43-.59-.52 0-1.04.2-1.43.59L10.3 9.45l-7.72 7.72c-.78.78-.78 2.05 0 2.83L4 21.41c.39.39.9.59 1.41.59.51 0 1.02-.2 1.41-.59l7.78-7.78 2.81-2.81c.8-.78.8-2.07 0-2.86zM5.41 20L4 18.59l7.72-7.72 1.47 1.35L5.41 20z\"/>\n",
              "  </svg>\n",
              "      </button>\n",
              "      \n",
              "  <style>\n",
              "    .colab-df-container {\n",
              "      display:flex;\n",
              "      flex-wrap:wrap;\n",
              "      gap: 12px;\n",
              "    }\n",
              "\n",
              "    .colab-df-convert {\n",
              "      background-color: #E8F0FE;\n",
              "      border: none;\n",
              "      border-radius: 50%;\n",
              "      cursor: pointer;\n",
              "      display: none;\n",
              "      fill: #1967D2;\n",
              "      height: 32px;\n",
              "      padding: 0 0 0 0;\n",
              "      width: 32px;\n",
              "    }\n",
              "\n",
              "    .colab-df-convert:hover {\n",
              "      background-color: #E2EBFA;\n",
              "      box-shadow: 0px 1px 2px rgba(60, 64, 67, 0.3), 0px 1px 3px 1px rgba(60, 64, 67, 0.15);\n",
              "      fill: #174EA6;\n",
              "    }\n",
              "\n",
              "    [theme=dark] .colab-df-convert {\n",
              "      background-color: #3B4455;\n",
              "      fill: #D2E3FC;\n",
              "    }\n",
              "\n",
              "    [theme=dark] .colab-df-convert:hover {\n",
              "      background-color: #434B5C;\n",
              "      box-shadow: 0px 1px 3px 1px rgba(0, 0, 0, 0.15);\n",
              "      filter: drop-shadow(0px 1px 2px rgba(0, 0, 0, 0.3));\n",
              "      fill: #FFFFFF;\n",
              "    }\n",
              "  </style>\n",
              "\n",
              "      <script>\n",
              "        const buttonEl =\n",
              "          document.querySelector('#df-389dad6f-021f-4c8a-8e93-febb64ea9a14 button.colab-df-convert');\n",
              "        buttonEl.style.display =\n",
              "          google.colab.kernel.accessAllowed ? 'block' : 'none';\n",
              "\n",
              "        async function convertToInteractive(key) {\n",
              "          const element = document.querySelector('#df-389dad6f-021f-4c8a-8e93-febb64ea9a14');\n",
              "          const dataTable =\n",
              "            await google.colab.kernel.invokeFunction('convertToInteractive',\n",
              "                                                     [key], {});\n",
              "          if (!dataTable) return;\n",
              "\n",
              "          const docLinkHtml = 'Like what you see? Visit the ' +\n",
              "            '<a target=\"_blank\" href=https://colab.research.google.com/notebooks/data_table.ipynb>data table notebook</a>'\n",
              "            + ' to learn more about interactive tables.';\n",
              "          element.innerHTML = '';\n",
              "          dataTable['output_type'] = 'display_data';\n",
              "          await google.colab.output.renderOutput(dataTable, element);\n",
              "          const docLink = document.createElement('div');\n",
              "          docLink.innerHTML = docLinkHtml;\n",
              "          element.appendChild(docLink);\n",
              "        }\n",
              "      </script>\n",
              "    </div>\n",
              "  </div>\n",
              "  "
            ]
          },
          "metadata": {},
          "execution_count": 106
        }
      ]
    },
    {
      "cell_type": "code",
      "source": [
        "sns.lmplot(data=dados, x=\"id_voluntária\", y=\"durabilidade\")"
      ],
      "metadata": {
        "colab": {
          "base_uri": "https://localhost:8080/",
          "height": 386
        },
        "id": "LsEyCCLJgjqj",
        "outputId": "9ee019a0-eff9-432f-c6dd-631b34392804"
      },
      "execution_count": null,
      "outputs": [
        {
          "output_type": "execute_result",
          "data": {
            "text/plain": [
              "<seaborn.axisgrid.FacetGrid at 0x7f5c598a1be0>"
            ]
          },
          "metadata": {},
          "execution_count": 107
        },
        {
          "output_type": "display_data",
          "data": {
            "text/plain": [
              "<Figure size 360x360 with 1 Axes>"
            ],
            "image/png": "[encoded data removed]"
          },
          "metadata": {
            "needs_background": "light"
          }
        }
      ]
    },
    {
      "cell_type": "code",
      "source": [
        "#Testando H0 --> Se não há diferença do produto em relação a  durabilidade na idade das voluntárias quando expostas ao sol\n",
        "desvio_padrao = produto_sol.durabilidade.std()\n",
        "media =  produto_sol.durabilidade.mean()\n",
        "n=1000\n",
        "\n",
        "amostra = np.random.normal(loc=media,scale=desvio_padrao,size=n)\n",
        "\n",
        "\n",
        "estatistica_teste,p_valor =ztest(amostra,value=media)\n",
        "if p_valor <= significancia:\n",
        "  resultado = f'Rejeita H0: Média menor que {media}'\n",
        "else:\n",
        "  resultado =  f'Não rejeita H0'\n",
        "print(f'media={media}',resultado)\n",
        "\n"
      ],
      "metadata": {
        "colab": {
          "base_uri": "https://localhost:8080/"
        },
        "id": "rIwrxUUol1UM",
        "outputId": "7b63ce16-fcf6-40db-83d5-765f2561c692"
      },
      "execution_count": null,
      "outputs": [
        {
          "output_type": "stream",
          "name": "stdout",
          "text": [
            "media=12.75 Não rejeita H0\n"
          ]
        }
      ]
    },
    {
      "cell_type": "markdown",
      "source": [
        "### <font color=green> Resposta:\n",
        "\n",
        "Considerando o resultado das médias da durabilidade dos produtos quando expostos ao sol,a durabilidade vária conforme a idade das voluntárias </font>"
      ],
      "metadata": {
        "id": "uzBd3qohgTr7"
      }
    },
    {
      "cell_type": "markdown",
      "source": [
        "3- Qual fórmula de batom voce indicaria para consumidores que buscam maior durabilidade e exposicao ao sol?"
      ],
      "metadata": {
        "id": "E7PQaEFWGwWW"
      }
    },
    {
      "cell_type": "code",
      "source": [
        "import statsmodels.stats.weightstats as test_t\n",
        "#Teste t de Student --> Comparando as médias e apresentando as diferenças significativas"
      ],
      "metadata": {
        "id": "H-9A7yba0eKw"
      },
      "execution_count": null,
      "outputs": []
    },
    {
      "cell_type": "code",
      "source": [
        "resultado_teste_t1 = test_t.ttest_ind(produto_sol.query('id_produto == 1'),produto_sol.query('id_produto == 2'),alternative = 'two-sided' )\n",
        "print('valor p do teste', resultado_teste_t1[1])"
      ],
      "metadata": {
        "colab": {
          "base_uri": "https://localhost:8080/"
        },
        "id": "2Noy1YV40uHD",
        "outputId": "96083e83-1d18-4ce8-d2d4-9a0f52121f9a"
      },
      "execution_count": null,
      "outputs": [
        {
          "output_type": "stream",
          "name": "stdout",
          "text": [
            "valor p do teste [0.00000000e+00 8.91073891e-02 4.32215311e-21 7.22606328e-01\n",
            "            nan]\n"
          ]
        },
        {
          "output_type": "stream",
          "name": "stderr",
          "text": [
            "/usr/local/lib/python3.9/dist-packages/statsmodels/stats/weightstats.py:650: RuntimeWarning: divide by zero encountered in true_divide\n",
            "  tstat = (value1 - value2 - diff) / std_diff\n",
            "/usr/local/lib/python3.9/dist-packages/statsmodels/stats/weightstats.py:650: RuntimeWarning: invalid value encountered in true_divide\n",
            "  tstat = (value1 - value2 - diff) / std_diff\n"
          ]
        }
      ]
    },
    {
      "cell_type": "code",
      "source": [
        "resultado_teste_t2 = test_t.ttest_ind(produto_sol.query('id_produto == 1'),produto_sol.query('id_produto == 3'),alternative = 'two-sided' )\n",
        "print('valor p do teste', resultado_teste_t2[1])"
      ],
      "metadata": {
        "colab": {
          "base_uri": "https://localhost:8080/"
        },
        "id": "d8qJ-djO1aYE",
        "outputId": "bce46908-b57a-493e-8c1c-83520537ce91"
      },
      "execution_count": null,
      "outputs": [
        {
          "output_type": "stream",
          "name": "stdout",
          "text": [
            "valor p do teste [0.00000000e+00 2.60631165e-03 1.03723342e-08 7.07912204e-04\n",
            "            nan]\n"
          ]
        },
        {
          "output_type": "stream",
          "name": "stderr",
          "text": [
            "/usr/local/lib/python3.9/dist-packages/statsmodels/stats/weightstats.py:650: RuntimeWarning: divide by zero encountered in true_divide\n",
            "  tstat = (value1 - value2 - diff) / std_diff\n",
            "/usr/local/lib/python3.9/dist-packages/statsmodels/stats/weightstats.py:650: RuntimeWarning: invalid value encountered in true_divide\n",
            "  tstat = (value1 - value2 - diff) / std_diff\n"
          ]
        }
      ]
    },
    {
      "cell_type": "code",
      "source": [
        "resultado_teste_t3= test_t.ttest_ind(produto_sol.query('id_produto == 2'),produto_sol.query('id_produto == 3'),alternative = 'two-sided' )\n",
        "print('valor p do teste', resultado_teste_t3[1])"
      ],
      "metadata": {
        "colab": {
          "base_uri": "https://localhost:8080/"
        },
        "id": "q031NBrC1glL",
        "outputId": "767cdfc9-3807-4f18-eab4-34336f80ae8d"
      },
      "execution_count": null,
      "outputs": [
        {
          "output_type": "stream",
          "name": "stdout",
          "text": [
            "valor p do teste [0.00000000e+00 1.80012499e-01 5.19317998e-16 5.05969095e-03\n",
            "            nan]\n"
          ]
        },
        {
          "output_type": "stream",
          "name": "stderr",
          "text": [
            "/usr/local/lib/python3.9/dist-packages/statsmodels/stats/weightstats.py:650: RuntimeWarning: divide by zero encountered in true_divide\n",
            "  tstat = (value1 - value2 - diff) / std_diff\n",
            "/usr/local/lib/python3.9/dist-packages/statsmodels/stats/weightstats.py:650: RuntimeWarning: invalid value encountered in true_divide\n",
            "  tstat = (value1 - value2 - diff) / std_diff\n"
          ]
        }
      ]
    },
    {
      "cell_type": "code",
      "source": [
        "from statsmodels.stats.power import TTestPower"
      ],
      "metadata": {
        "id": "AIWFii8Uv1Ot"
      },
      "execution_count": null,
      "outputs": []
    },
    {
      "cell_type": "code",
      "source": [
        "\n",
        "delta_mean =  produto_sol['durabilidade'].mean() -  produto_sol['exposicao_sol'].mean()\n",
        "print('delta_mean: % 2f' %delta_mean)\n",
        "delta_desvio =  produto_sol['durabilidade'].std() - produto_sol['exposicao_sol'].std()\n",
        "print('delta_desvio: % 2f' %delta_desvio)\n",
        "effect_size = delta_mean/delta_desvio\n",
        "print('effect_size: % 2f' %effect_size)\n",
        "\n",
        "#from statsmodels.stats.power import TTestIndPower\n",
        "power= TTestPower()\n",
        "resultado_f = power.solve_power(effect_size=effect_size, alpha=0.05, power=None,\n",
        "                    nobs=40, alternative='two-sided')\n",
        "print('power: % 2f' %resultado_f)"
      ],
      "metadata": {
        "id": "mfQKLdANGxih",
        "colab": {
          "base_uri": "https://localhost:8080/"
        },
        "outputId": "a52e9835-3817-4251-95b9-4710e26e662e"
      },
      "execution_count": null,
      "outputs": [
        {
          "output_type": "stream",
          "name": "stdout",
          "text": [
            "delta_mean:  11.750000\n",
            "delta_desvio:  6.999864\n",
            "effect_size:  1.678604\n",
            "power:  1.000000\n"
          ]
        }
      ]
    },
    {
      "cell_type": "markdown",
      "source": [
        "### <font color=green> Resposta:\n",
        "\n",
        "Considerando o teste t de Student para comparar as amostras, com base em sua durabildiade diante da exposição do sol, percebe-se que o produto que apresenta maior desempenho é o produto 3  </font>"
      ],
      "metadata": {
        "id": "X_d0bte-0Rub"
      }
    },
    {
      "cell_type": "markdown",
      "source": [
        "---"
      ],
      "metadata": {
        "id": "DpcLxlh7PpDv"
      }
    },
    {
      "cell_type": "markdown",
      "source": [
        "# <font color=green>Challenge Teste de Hipóteses</font>\n",
        "\n",
        "# <font color=blue>Desafio 2: Empresa de Picolé</font>"
      ],
      "metadata": {
        "id": "7ivgP9rwPsON"
      }
    },
    {
      "cell_type": "markdown",
      "source": [
        "Imagine que voce trabalha em uma empresa do setor alimentício, e o preço de determinado produto, um novo picolé, tem uma distribuição  normal com média igual a R$7,85\n",
        "e desvio padrão igual a R$3,32. Suspeita-se que devido ao verão, em determinadas localidades de praia o preco do picolé esteja mais caro.\n",
        "\n",
        "Para verificar se esse efeito é estatisticamente significativo, contactaram voce, analista de dados.\n",
        "\n",
        "Suponha que para realizar essa análise voce tenha dados de 45 lojas em cidades do litoral, escolhidas aleatoriamente. E constatou que o preço médio do picolé nessas cidades é de R$11,52.\n",
        "\n",
        "1. Voce pode concluir que existe diferenca de precos estatisticamente relevante com 5% de significancia?\n",
        "\n",
        "2. Qual o valor da variável teste, o intervalo de confianca e o p-valor?"
      ],
      "metadata": {
        "id": "P9O0cWjEP97P"
      }
    },
    {
      "cell_type": "code",
      "source": [
        "import pandas as pd\n",
        "import numpy as np\n",
        "import matplotlib.pyplot as plt\n",
        "%matplotlib inline\n",
        "import seaborn as sns\n",
        "import scipy\n",
        "from scipy.stats import norm\n",
        "from scipy.stats import normaltest\n",
        "import math"
      ],
      "metadata": {
        "id": "l-O-Ci2kPp7d"
      },
      "execution_count": null,
      "outputs": []
    },
    {
      "cell_type": "markdown",
      "source": [
        "# Hipótese do nosso modelo:\n",
        "\n",
        "## H0: u = 7,85\n",
        "## H1: u != 7,85"
      ],
      "metadata": {
        "id": "3DjmzkQPQFM0"
      }
    },
    {
      "cell_type": "markdown",
      "source": [
        "## 1.Voce pode concluir que existe diferenca de precos estatisticamente relevante com 5% de significancia?"
      ],
      "metadata": {
        "id": "EPN4InAzQFQS"
      }
    },
    {
      "cell_type": "markdown",
      "source": [
        "### Definindo a significância do teste ($\\alpha$)"
      ],
      "metadata": {
        "id": "YdJLNC-wQJUr"
      }
    },
    {
      "cell_type": "code",
      "source": [
        "significancia = 0.05"
      ],
      "metadata": {
        "id": "c5tG2SEbQCFT"
      },
      "execution_count": null,
      "outputs": []
    },
    {
      "cell_type": "markdown",
      "source": [
        "### Testando a variável:"
      ],
      "metadata": {
        "id": "5V-oTGFYQPrm"
      }
    },
    {
      "cell_type": "markdown",
      "source": [
        "### <font color='red'>Critério do valor $p$</font>\n",
        "\n",
        "> ### Rejeitar $H_0$ se o valor $p\\leq 0,05$"
      ],
      "metadata": {
        "id": "QlTbqH9zQSQg"
      }
    },
    {
      "cell_type": "markdown",
      "source": [
        "### <font color='green'>Resposta: Sim podemos concluir que existe diferenca de precos estatisticamente relevante com 5% de significancia, pois o p valor foi menor que a significancia 0.05.</font>"
      ],
      "metadata": {
        "id": "jZs7D-mTQVtW"
      }
    },
    {
      "cell_type": "markdown",
      "source": [
        "## 2. Qual o valor da variável teste, o intervalo de confianca e o p-valor?"
      ],
      "metadata": {
        "id": "AVgp4yB5QZCj"
      }
    },
    {
      "cell_type": "markdown",
      "source": [
        "### <font color='green'>Resposta: O valor da variavel teste é R$ 7.85.</font>"
      ],
      "metadata": {
        "id": "2TdC1BtrQaLv"
      }
    },
    {
      "cell_type": "code",
      "source": [
        "media_preco = 11.52\n",
        "media_preco"
      ],
      "metadata": {
        "colab": {
          "base_uri": "https://localhost:8080/"
        },
        "id": "8dX2VoLEQNSK",
        "outputId": "f4225b3d-88d0-44d3-fa04-0ab3cac9222c"
      },
      "execution_count": null,
      "outputs": [
        {
          "output_type": "execute_result",
          "data": {
            "text/plain": [
              "11.52"
            ]
          },
          "metadata": {},
          "execution_count": 63
        }
      ]
    },
    {
      "cell_type": "code",
      "source": [
        "desvio_padrao_preco = 3.32\n",
        "desvio_padrao_preco"
      ],
      "metadata": {
        "colab": {
          "base_uri": "https://localhost:8080/"
        },
        "id": "1fM4t93NQeEY",
        "outputId": "1faf714e-1b70-4529-c0c5-1d6058cb33c0"
      },
      "execution_count": null,
      "outputs": [
        {
          "output_type": "execute_result",
          "data": {
            "text/plain": [
              "3.32"
            ]
          },
          "metadata": {},
          "execution_count": 64
        }
      ]
    },
    {
      "cell_type": "code",
      "source": [
        "media_distr = 7.85\n",
        "significancia = 0.05\n",
        "confianca = 1 - significancia\n",
        "n_picoles = 45"
      ],
      "metadata": {
        "id": "G9udSD8EQf1q"
      },
      "execution_count": null,
      "outputs": []
    },
    {
      "cell_type": "markdown",
      "source": [
        "# Hipótese do nosso modelo:\n",
        "\n",
        "## H0: u = 7,85\n",
        "## H1: u != 7,85"
      ],
      "metadata": {
        "id": "G5rhOqOcQioe"
      }
    },
    {
      "cell_type": "code",
      "source": [
        "probabilidade = (0.5 + (confianca / 2))\n",
        "probabilidade"
      ],
      "metadata": {
        "colab": {
          "base_uri": "https://localhost:8080/"
        },
        "id": "udPV-Po4Qh8w",
        "outputId": "087c0584-ebaf-4cbb-9cfa-6d47975f4563"
      },
      "execution_count": null,
      "outputs": [
        {
          "output_type": "execute_result",
          "data": {
            "text/plain": [
              "0.975"
            ]
          },
          "metadata": {},
          "execution_count": 66
        }
      ]
    },
    {
      "cell_type": "markdown",
      "source": [
        "### <font color='green'>Resposta: Intervalo de Confiança.</font>"
      ],
      "metadata": {
        "id": "LgjnhOWvQpQ0"
      }
    },
    {
      "cell_type": "code",
      "source": [
        "probabilidade = confianca\n",
        "probabilidade"
      ],
      "metadata": {
        "colab": {
          "base_uri": "https://localhost:8080/"
        },
        "id": "dNrAFgqwQmt3",
        "outputId": "a777e4cc-552f-453b-b25f-6fe6aac7a219"
      },
      "execution_count": null,
      "outputs": [
        {
          "output_type": "execute_result",
          "data": {
            "text/plain": [
              "0.95"
            ]
          },
          "metadata": {},
          "execution_count": 67
        }
      ]
    },
    {
      "cell_type": "markdown",
      "source": [
        "### Obtendo $z_{\\alpha/2}$"
      ],
      "metadata": {
        "id": "SPTJJVNIQuJc"
      }
    },
    {
      "cell_type": "code",
      "source": [
        "z_alpha_2 = norm.ppf(probabilidade)\n",
        "z_alpha_2"
      ],
      "metadata": {
        "colab": {
          "base_uri": "https://localhost:8080/"
        },
        "id": "T3-mhPJ6Qr9V",
        "outputId": "6098d470-49be-4177-ef30-8e98f5d255f0"
      },
      "execution_count": null,
      "outputs": [
        {
          "output_type": "execute_result",
          "data": {
            "text/plain": [
              "1.6448536269514722"
            ]
          },
          "metadata": {},
          "execution_count": 68
        }
      ]
    },
    {
      "cell_type": "code",
      "source": [
        "z = (media_preco - media_distr) / (desvio_padrao_preco / np.sqrt(n_picoles))\n",
        "z"
      ],
      "metadata": {
        "colab": {
          "base_uri": "https://localhost:8080/"
        },
        "id": "kBWwBteVQwiG",
        "outputId": "942aa7a3-5646-4610-edcf-be4c401dc755"
      },
      "execution_count": null,
      "outputs": [
        {
          "output_type": "execute_result",
          "data": {
            "text/plain": [
              "7.415394106106231"
            ]
          },
          "metadata": {},
          "execution_count": 69
        }
      ]
    },
    {
      "cell_type": "markdown",
      "source": [
        "### <font color='red'>Critério do valor crítico</font>\n",
        "\n",
        "> ### Teste Bicaudal\n",
        "> ### Rejeitar $H_0$ se $z \\leq -z_{\\alpha / 2}$ ou se $z \\geq z_{\\alpha / 2}$"
      ],
      "metadata": {
        "id": "IFMrh3qRQ06Q"
      }
    },
    {
      "cell_type": "code",
      "source": [
        "z <= -z_alpha_2"
      ],
      "metadata": {
        "colab": {
          "base_uri": "https://localhost:8080/"
        },
        "id": "v7u9W6-uQybo",
        "outputId": "f4eb5e47-a991-4f1b-bf95-bcb924bba21d"
      },
      "execution_count": null,
      "outputs": [
        {
          "output_type": "execute_result",
          "data": {
            "text/plain": [
              "False"
            ]
          },
          "metadata": {},
          "execution_count": 70
        }
      ]
    },
    {
      "cell_type": "code",
      "source": [
        "z >= z_alpha_2"
      ],
      "metadata": {
        "colab": {
          "base_uri": "https://localhost:8080/"
        },
        "id": "Z-YrVVafQ3T2",
        "outputId": "28b28b5d-a4cb-4ff2-9e3f-f63942216131"
      },
      "execution_count": null,
      "outputs": [
        {
          "output_type": "execute_result",
          "data": {
            "text/plain": [
              "True"
            ]
          },
          "metadata": {},
          "execution_count": 71
        }
      ]
    },
    {
      "cell_type": "markdown",
      "source": [
        "### <font color='green'>Resposta: P valor.</font>"
      ],
      "metadata": {
        "id": "89EwzD7cQ55m"
      }
    },
    {
      "cell_type": "markdown",
      "source": [
        "### <font color='red'>Critério do $p-valor$</font>\n",
        "\n",
        "> ### Teste Bicaudal\n",
        "> ### Rejeitar $H_0$ se o valor $p\\leq\\alpha$"
      ],
      "metadata": {
        "id": "TV7irdwQQ-uU"
      }
    },
    {
      "cell_type": "code",
      "source": [
        "p_valor = 2 * (1 - norm.cdf(z))\n",
        "p_valor"
      ],
      "metadata": {
        "colab": {
          "base_uri": "https://localhost:8080/"
        },
        "id": "WqiLMn5iQ5L7",
        "outputId": "d84422a6-59c9-452a-af79-c6a189a9f492"
      },
      "execution_count": null,
      "outputs": [
        {
          "output_type": "execute_result",
          "data": {
            "text/plain": [
              "1.212363542890671e-13"
            ]
          },
          "metadata": {},
          "execution_count": 72
        }
      ]
    },
    {
      "cell_type": "code",
      "source": [
        "p_valor = 2 * (norm.sf(z))\n",
        "p_valor"
      ],
      "metadata": {
        "colab": {
          "base_uri": "https://localhost:8080/"
        },
        "id": "izImRTzYRCmc",
        "outputId": "258256cd-759a-4621-ec4f-626dc4671569"
      },
      "execution_count": null,
      "outputs": [
        {
          "output_type": "execute_result",
          "data": {
            "text/plain": [
              "1.2126366281061861e-13"
            ]
          },
          "metadata": {},
          "execution_count": 73
        }
      ]
    },
    {
      "cell_type": "code",
      "source": [
        "p_valor <= significancia"
      ],
      "metadata": {
        "colab": {
          "base_uri": "https://localhost:8080/"
        },
        "id": "U1e6rUKbREgS",
        "outputId": "445412dd-d910-44fc-dbff-1d287e37fecc"
      },
      "execution_count": null,
      "outputs": [
        {
          "output_type": "execute_result",
          "data": {
            "text/plain": [
              "True"
            ]
          },
          "metadata": {},
          "execution_count": 74
        }
      ]
    },
    {
      "cell_type": "markdown",
      "source": [
        "### <font color='green'>Resposta: Como a média amostral $\\bar{x}$ é significativamente maior que R$ 7.85, rejeitamos $H_0$. Neste caso, devem ser tomadas providências para unificar os preços dos picolés.</font>"
      ],
      "metadata": {
        "id": "wOdH9ClFRJbU"
      }
    },
    {
      "cell_type": "markdown",
      "source": [
        "---"
      ],
      "metadata": {
        "id": "_zsDAshFRMXW"
      }
    }
  ]
}