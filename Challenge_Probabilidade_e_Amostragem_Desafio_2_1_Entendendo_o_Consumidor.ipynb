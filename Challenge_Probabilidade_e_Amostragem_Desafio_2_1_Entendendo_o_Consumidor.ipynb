{
  "nbformat": 4,
  "nbformat_minor": 0,
  "metadata": {
    "colab": {
      "provenance": [],
      "include_colab_link": true
    },
    "kernelspec": {
      "name": "python3",
      "display_name": "Python 3"
    },
    "language_info": {
      "name": "python"
    }
  },
  "cells": [
    {
      "cell_type": "markdown",
      "metadata": {
        "id": "view-in-github",
        "colab_type": "text"
      },
      "source": [
        "<a href=\"https://colab.research.google.com/github/Therezaclm/Bootcamp-D-Science/blob/main/Challenge_Probabilidade_e_Amostragem_Desafio_2_1_Entendendo_o_Consumidor.ipynb\" target=\"_parent\"><img src=\"https://colab.research.google.com/assets/colab-badge.svg\" alt=\"Open In Colab\"/></a>"
      ]
    },
    {
      "cell_type": "markdown",
      "source": [
        "# <font color=green>**BootCamp TECH MINAs 2023**</font>\n",
        "# <font color=green>Challenge Probabilidade e Amostragem</font>\n",
        "\n",
        "# <font color=blue>Desafio 1: Entendendo o Consumidor</font>\n",
        "\n"
      ],
      "metadata": {
        "id": "xeGzgGcmwirP"
      }
    },
    {
      "cell_type": "markdown",
      "source": [
        "# <font color=purple>**SQUAD CARMEN PORTINHO **</font>\n",
        "  # <font color=purple>Alunas:</font>\n",
        "###            <font color=purple>Amanda Guimarães</font>\n",
        "###            <font color=purple>Flávia Arruda</font>\n",
        "###            <font color=purple>Júlia Bandeira</font>\n",
        "###            <font color=purple>Lhaíslla Cavalcanti</font>\n",
        "###            <font color=purple>Maria Layane</font>\n",
        "###            <font color=purple>Nirvana Reis</font>\n",
        "###            <font color=purple>Synnara Lima</font>\n",
        "###            <font color=purple>Taciana Vasconcelos</font>\n",
        "###            <font color=purple>Thaína Cordeiro</font>\n",
        "###            <font color=purple>Thereza Melo</font>\n",
        "\n",
        "\n"
      ],
      "metadata": {
        "id": "MaLMRNNhxpOe"
      }
    },
    {
      "cell_type": "markdown",
      "source": [
        "# O DESAFIO\n",
        " "
      ],
      "metadata": {
        "id": "28ZFvjA5_V9C"
      }
    },
    {
      "cell_type": "markdown",
      "source": [
        "Suponha que você trabalha em uma empresa de produtos de beleza populares e, com a pandemia, você suspeita que o perfil de seus clientes mudou. O time de marketing,pediu a sua ajuda e gostaria de entender se: \n",
        "1. isso de fato aconteceu e \n",
        "2. quais as diferenças do novo perfil de clientes para o antigo, pois assim poderiam personalizar melhor os seus anúncios. \n",
        "\n",
        "Para isso, eles te enviaram a base de dados (desafio_01_consumidor.csv). Como você poderia ajudá-los?\n",
        "\n",
        "#### Para responder esse desafio:\n",
        "\n",
        "A base de dados: desafio_01_consumidor.csv contém informações de seus clientes (anonimizados) no período pré e pós pandemia. A coluna \"pré-pandemia\" indica se o dado é pré-pandemia ou não, sendo 1, caso positivo ou 0 caso negativo.\n",
        "\n",
        "#### Dica / Passo a Passo:\n",
        "\n",
        "1. Entenda a distribuição de variáveis como de idade / renda / regiao /produtos mais comprados antes e depois da pandemia\n",
        "\n",
        "a. Identifique as distribuições\n",
        "\n",
        "b. Plote histogramas / boxplots\n",
        "\n",
        "2. Você notou diferenças nítidas pré e pós pandemia? Como você poderia provar estatisticamente que essas diferenças são significativas ? (pergunta extra)\n",
        "\n",
        "3. Suponha agora que os dados recebidos são somente uma amostra da sua população total de clientes. Suponha que a sua \"população\" de clientes verdadeira é de 100000. Qual o tamanho da amostra necessária para chegarmos a conclusões com 95% de confiança e 2% de margem de erro? A base informada é suficiente? E com uma margem de erro de 10%?"
      ],
      "metadata": {
        "id": "r2m-ATXC_fYZ"
      }
    },
    {
      "cell_type": "code",
      "source": [
        "import pandas as pd\n",
        "import numpy as np\n",
        "import matplotlib.pyplot as plt\n",
        "%matplotlib inline\n",
        "import seaborn as sns\n",
        "import scipy\n",
        "from scipy.stats import norm\n",
        "import math"
      ],
      "metadata": {
        "id": "HD3rydpv9dem"
      },
      "execution_count": null,
      "outputs": []
    },
    {
      "cell_type": "code",
      "source": [
        "dados = pd.read_csv(\"desafio01consumidor-230209-165113.csv\")\n",
        "dados"
      ],
      "metadata": {
        "id": "EpD8NG449d6f",
        "colab": {
          "base_uri": "https://localhost:8080/",
          "height": 424
        },
        "outputId": "5b8153da-0d4a-4508-8ddd-66e2276b0332"
      },
      "execution_count": null,
      "outputs": [
        {
          "output_type": "execute_result",
          "data": {
            "text/plain": [
              "    id_cliente  idade  renda      produto     regiao-BR  pre-pandemia\n",
              "0    XXXXXXX72     30   7452        batom       Sudeste             1\n",
              "1    XXXXXXX15     59    837  desodorante      Nordeste             1\n",
              "2    XXXXXXX70     28   3231       sombra  Centro-Oeste             1\n",
              "3    XXXXXXX99     27   5409        batom           Sul             1\n",
              "4    XXXXXXX98     24   1142        batom       Sudeste             1\n",
              "..         ...    ...    ...          ...           ...           ...\n",
              "198  XXXXXXX25     46  16918  desodorante           Sul             0\n",
              "199  XXXXXXX50     43  10930  antissinais         Norte             0\n",
              "200  XXXXXXX65     48  10246      perfume      Nordeste             0\n",
              "201  XXXXXXX61     47  12337        batom       Sudeste             0\n",
              "202  XXXXXXX89     58  14108  desodorante           Sul             0\n",
              "\n",
              "[203 rows x 6 columns]"
            ],
            "text/html": [
              "\n",
              "  <div id=\"df-7ea920d6-cb05-43b2-bdfa-f6fa8f01f5b3\">\n",
              "    <div class=\"colab-df-container\">\n",
              "      <div>\n",
              "<style scoped>\n",
              "    .dataframe tbody tr th:only-of-type {\n",
              "        vertical-align: middle;\n",
              "    }\n",
              "\n",
              "    .dataframe tbody tr th {\n",
              "        vertical-align: top;\n",
              "    }\n",
              "\n",
              "    .dataframe thead th {\n",
              "        text-align: right;\n",
              "    }\n",
              "</style>\n",
              "<table border=\"1\" class=\"dataframe\">\n",
              "  <thead>\n",
              "    <tr style=\"text-align: right;\">\n",
              "      <th></th>\n",
              "      <th>id_cliente</th>\n",
              "      <th>idade</th>\n",
              "      <th>renda</th>\n",
              "      <th>produto</th>\n",
              "      <th>regiao-BR</th>\n",
              "      <th>pre-pandemia</th>\n",
              "    </tr>\n",
              "  </thead>\n",
              "  <tbody>\n",
              "    <tr>\n",
              "      <th>0</th>\n",
              "      <td>XXXXXXX72</td>\n",
              "      <td>30</td>\n",
              "      <td>7452</td>\n",
              "      <td>batom</td>\n",
              "      <td>Sudeste</td>\n",
              "      <td>1</td>\n",
              "    </tr>\n",
              "    <tr>\n",
              "      <th>1</th>\n",
              "      <td>XXXXXXX15</td>\n",
              "      <td>59</td>\n",
              "      <td>837</td>\n",
              "      <td>desodorante</td>\n",
              "      <td>Nordeste</td>\n",
              "      <td>1</td>\n",
              "    </tr>\n",
              "    <tr>\n",
              "      <th>2</th>\n",
              "      <td>XXXXXXX70</td>\n",
              "      <td>28</td>\n",
              "      <td>3231</td>\n",
              "      <td>sombra</td>\n",
              "      <td>Centro-Oeste</td>\n",
              "      <td>1</td>\n",
              "    </tr>\n",
              "    <tr>\n",
              "      <th>3</th>\n",
              "      <td>XXXXXXX99</td>\n",
              "      <td>27</td>\n",
              "      <td>5409</td>\n",
              "      <td>batom</td>\n",
              "      <td>Sul</td>\n",
              "      <td>1</td>\n",
              "    </tr>\n",
              "    <tr>\n",
              "      <th>4</th>\n",
              "      <td>XXXXXXX98</td>\n",
              "      <td>24</td>\n",
              "      <td>1142</td>\n",
              "      <td>batom</td>\n",
              "      <td>Sudeste</td>\n",
              "      <td>1</td>\n",
              "    </tr>\n",
              "    <tr>\n",
              "      <th>...</th>\n",
              "      <td>...</td>\n",
              "      <td>...</td>\n",
              "      <td>...</td>\n",
              "      <td>...</td>\n",
              "      <td>...</td>\n",
              "      <td>...</td>\n",
              "    </tr>\n",
              "    <tr>\n",
              "      <th>198</th>\n",
              "      <td>XXXXXXX25</td>\n",
              "      <td>46</td>\n",
              "      <td>16918</td>\n",
              "      <td>desodorante</td>\n",
              "      <td>Sul</td>\n",
              "      <td>0</td>\n",
              "    </tr>\n",
              "    <tr>\n",
              "      <th>199</th>\n",
              "      <td>XXXXXXX50</td>\n",
              "      <td>43</td>\n",
              "      <td>10930</td>\n",
              "      <td>antissinais</td>\n",
              "      <td>Norte</td>\n",
              "      <td>0</td>\n",
              "    </tr>\n",
              "    <tr>\n",
              "      <th>200</th>\n",
              "      <td>XXXXXXX65</td>\n",
              "      <td>48</td>\n",
              "      <td>10246</td>\n",
              "      <td>perfume</td>\n",
              "      <td>Nordeste</td>\n",
              "      <td>0</td>\n",
              "    </tr>\n",
              "    <tr>\n",
              "      <th>201</th>\n",
              "      <td>XXXXXXX61</td>\n",
              "      <td>47</td>\n",
              "      <td>12337</td>\n",
              "      <td>batom</td>\n",
              "      <td>Sudeste</td>\n",
              "      <td>0</td>\n",
              "    </tr>\n",
              "    <tr>\n",
              "      <th>202</th>\n",
              "      <td>XXXXXXX89</td>\n",
              "      <td>58</td>\n",
              "      <td>14108</td>\n",
              "      <td>desodorante</td>\n",
              "      <td>Sul</td>\n",
              "      <td>0</td>\n",
              "    </tr>\n",
              "  </tbody>\n",
              "</table>\n",
              "<p>203 rows × 6 columns</p>\n",
              "</div>\n",
              "      <button class=\"colab-df-convert\" onclick=\"convertToInteractive('df-7ea920d6-cb05-43b2-bdfa-f6fa8f01f5b3')\"\n",
              "              title=\"Convert this dataframe to an interactive table.\"\n",
              "              style=\"display:none;\">\n",
              "        \n",
              "  <svg xmlns=\"http://www.w3.org/2000/svg\" height=\"24px\"viewBox=\"0 0 24 24\"\n",
              "       width=\"24px\">\n",
              "    <path d=\"M0 0h24v24H0V0z\" fill=\"none\"/>\n",
              "    <path d=\"M18.56 5.44l.94 2.06.94-2.06 2.06-.94-2.06-.94-.94-2.06-.94 2.06-2.06.94zm-11 1L8.5 8.5l.94-2.06 2.06-.94-2.06-.94L8.5 2.5l-.94 2.06-2.06.94zm10 10l.94 2.06.94-2.06 2.06-.94-2.06-.94-.94-2.06-.94 2.06-2.06.94z\"/><path d=\"M17.41 7.96l-1.37-1.37c-.4-.4-.92-.59-1.43-.59-.52 0-1.04.2-1.43.59L10.3 9.45l-7.72 7.72c-.78.78-.78 2.05 0 2.83L4 21.41c.39.39.9.59 1.41.59.51 0 1.02-.2 1.41-.59l7.78-7.78 2.81-2.81c.8-.78.8-2.07 0-2.86zM5.41 20L4 18.59l7.72-7.72 1.47 1.35L5.41 20z\"/>\n",
              "  </svg>\n",
              "      </button>\n",
              "      \n",
              "  <style>\n",
              "    .colab-df-container {\n",
              "      display:flex;\n",
              "      flex-wrap:wrap;\n",
              "      gap: 12px;\n",
              "    }\n",
              "\n",
              "    .colab-df-convert {\n",
              "      background-color: #E8F0FE;\n",
              "      border: none;\n",
              "      border-radius: 50%;\n",
              "      cursor: pointer;\n",
              "      display: none;\n",
              "      fill: #1967D2;\n",
              "      height: 32px;\n",
              "      padding: 0 0 0 0;\n",
              "      width: 32px;\n",
              "    }\n",
              "\n",
              "    .colab-df-convert:hover {\n",
              "      background-color: #E2EBFA;\n",
              "      box-shadow: 0px 1px 2px rgba(60, 64, 67, 0.3), 0px 1px 3px 1px rgba(60, 64, 67, 0.15);\n",
              "      fill: #174EA6;\n",
              "    }\n",
              "\n",
              "    [theme=dark] .colab-df-convert {\n",
              "      background-color: #3B4455;\n",
              "      fill: #D2E3FC;\n",
              "    }\n",
              "\n",
              "    [theme=dark] .colab-df-convert:hover {\n",
              "      background-color: #434B5C;\n",
              "      box-shadow: 0px 1px 3px 1px rgba(0, 0, 0, 0.15);\n",
              "      filter: drop-shadow(0px 1px 2px rgba(0, 0, 0, 0.3));\n",
              "      fill: #FFFFFF;\n",
              "    }\n",
              "  </style>\n",
              "\n",
              "      <script>\n",
              "        const buttonEl =\n",
              "          document.querySelector('#df-7ea920d6-cb05-43b2-bdfa-f6fa8f01f5b3 button.colab-df-convert');\n",
              "        buttonEl.style.display =\n",
              "          google.colab.kernel.accessAllowed ? 'block' : 'none';\n",
              "\n",
              "        async function convertToInteractive(key) {\n",
              "          const element = document.querySelector('#df-7ea920d6-cb05-43b2-bdfa-f6fa8f01f5b3');\n",
              "          const dataTable =\n",
              "            await google.colab.kernel.invokeFunction('convertToInteractive',\n",
              "                                                     [key], {});\n",
              "          if (!dataTable) return;\n",
              "\n",
              "          const docLinkHtml = 'Like what you see? Visit the ' +\n",
              "            '<a target=\"_blank\" href=https://colab.research.google.com/notebooks/data_table.ipynb>data table notebook</a>'\n",
              "            + ' to learn more about interactive tables.';\n",
              "          element.innerHTML = '';\n",
              "          dataTable['output_type'] = 'display_data';\n",
              "          await google.colab.output.renderOutput(dataTable, element);\n",
              "          const docLink = document.createElement('div');\n",
              "          docLink.innerHTML = docLinkHtml;\n",
              "          element.appendChild(docLink);\n",
              "        }\n",
              "      </script>\n",
              "    </div>\n",
              "  </div>\n",
              "  "
            ]
          },
          "metadata": {},
          "execution_count": 3
        }
      ]
    },
    {
      "cell_type": "markdown",
      "source": [
        "#### Primeiras análises do dataframe:"
      ],
      "metadata": {
        "id": "cX-JDp5ZAXRo"
      }
    },
    {
      "cell_type": "markdown",
      "source": [
        "Usando o info() para imprimir as informações do dataframe (apesar desse comando já trazer muitas das informações que serão obtidas com os subsequentes métodos ou operações)"
      ],
      "metadata": {
        "id": "rx-mYVogAaHg"
      }
    },
    {
      "cell_type": "code",
      "source": [
        "dados.info()"
      ],
      "metadata": {
        "colab": {
          "base_uri": "https://localhost:8080/"
        },
        "id": "E_4zu45XAMNZ",
        "outputId": "086831a6-34c7-4d6f-bd40-b38057f39f47"
      },
      "execution_count": null,
      "outputs": [
        {
          "output_type": "stream",
          "name": "stdout",
          "text": [
            "<class 'pandas.core.frame.DataFrame'>\n",
            "RangeIndex: 203 entries, 0 to 202\n",
            "Data columns (total 6 columns):\n",
            " #   Column        Non-Null Count  Dtype \n",
            "---  ------        --------------  ----- \n",
            " 0   id_cliente    203 non-null    object\n",
            " 1   idade         203 non-null    int64 \n",
            " 2   renda         203 non-null    int64 \n",
            " 3   produto       203 non-null    object\n",
            " 4   regiao-BR     203 non-null    object\n",
            " 5   pre-pandemia  203 non-null    int64 \n",
            "dtypes: int64(3), object(3)\n",
            "memory usage: 9.6+ KB\n"
          ]
        }
      ]
    },
    {
      "cell_type": "markdown",
      "source": [
        "Usando describe() para ter um resumo estatístico do dataframe"
      ],
      "metadata": {
        "id": "kzW6RT8LAgN4"
      }
    },
    {
      "cell_type": "code",
      "source": [
        "dados.describe()"
      ],
      "metadata": {
        "colab": {
          "base_uri": "https://localhost:8080/",
          "height": 300
        },
        "id": "_BQRSGNWAdix",
        "outputId": "172d4874-2ea1-4aa2-c622-53cd351d0483"
      },
      "execution_count": null,
      "outputs": [
        {
          "output_type": "execute_result",
          "data": {
            "text/plain": [
              "            idade         renda  pre-pandemia\n",
              "count  203.000000    203.000000    203.000000\n",
              "mean    42.403941  11586.364532      0.497537\n",
              "std     14.400715   6288.016708      0.501230\n",
              "min     15.000000    110.000000      0.000000\n",
              "25%     31.000000   6705.000000      0.000000\n",
              "50%     41.000000  11145.000000      0.000000\n",
              "75%     53.000000  15590.500000      1.000000\n",
              "max     80.000000  30000.000000      1.000000"
            ],
            "text/html": [
              "\n",
              "  <div id=\"df-bc4fbe3c-b91a-4fa1-8e66-011174721234\">\n",
              "    <div class=\"colab-df-container\">\n",
              "      <div>\n",
              "<style scoped>\n",
              "    .dataframe tbody tr th:only-of-type {\n",
              "        vertical-align: middle;\n",
              "    }\n",
              "\n",
              "    .dataframe tbody tr th {\n",
              "        vertical-align: top;\n",
              "    }\n",
              "\n",
              "    .dataframe thead th {\n",
              "        text-align: right;\n",
              "    }\n",
              "</style>\n",
              "<table border=\"1\" class=\"dataframe\">\n",
              "  <thead>\n",
              "    <tr style=\"text-align: right;\">\n",
              "      <th></th>\n",
              "      <th>idade</th>\n",
              "      <th>renda</th>\n",
              "      <th>pre-pandemia</th>\n",
              "    </tr>\n",
              "  </thead>\n",
              "  <tbody>\n",
              "    <tr>\n",
              "      <th>count</th>\n",
              "      <td>203.000000</td>\n",
              "      <td>203.000000</td>\n",
              "      <td>203.000000</td>\n",
              "    </tr>\n",
              "    <tr>\n",
              "      <th>mean</th>\n",
              "      <td>42.403941</td>\n",
              "      <td>11586.364532</td>\n",
              "      <td>0.497537</td>\n",
              "    </tr>\n",
              "    <tr>\n",
              "      <th>std</th>\n",
              "      <td>14.400715</td>\n",
              "      <td>6288.016708</td>\n",
              "      <td>0.501230</td>\n",
              "    </tr>\n",
              "    <tr>\n",
              "      <th>min</th>\n",
              "      <td>15.000000</td>\n",
              "      <td>110.000000</td>\n",
              "      <td>0.000000</td>\n",
              "    </tr>\n",
              "    <tr>\n",
              "      <th>25%</th>\n",
              "      <td>31.000000</td>\n",
              "      <td>6705.000000</td>\n",
              "      <td>0.000000</td>\n",
              "    </tr>\n",
              "    <tr>\n",
              "      <th>50%</th>\n",
              "      <td>41.000000</td>\n",
              "      <td>11145.000000</td>\n",
              "      <td>0.000000</td>\n",
              "    </tr>\n",
              "    <tr>\n",
              "      <th>75%</th>\n",
              "      <td>53.000000</td>\n",
              "      <td>15590.500000</td>\n",
              "      <td>1.000000</td>\n",
              "    </tr>\n",
              "    <tr>\n",
              "      <th>max</th>\n",
              "      <td>80.000000</td>\n",
              "      <td>30000.000000</td>\n",
              "      <td>1.000000</td>\n",
              "    </tr>\n",
              "  </tbody>\n",
              "</table>\n",
              "</div>\n",
              "      <button class=\"colab-df-convert\" onclick=\"convertToInteractive('df-bc4fbe3c-b91a-4fa1-8e66-011174721234')\"\n",
              "              title=\"Convert this dataframe to an interactive table.\"\n",
              "              style=\"display:none;\">\n",
              "        \n",
              "  <svg xmlns=\"http://www.w3.org/2000/svg\" height=\"24px\"viewBox=\"0 0 24 24\"\n",
              "       width=\"24px\">\n",
              "    <path d=\"M0 0h24v24H0V0z\" fill=\"none\"/>\n",
              "    <path d=\"M18.56 5.44l.94 2.06.94-2.06 2.06-.94-2.06-.94-.94-2.06-.94 2.06-2.06.94zm-11 1L8.5 8.5l.94-2.06 2.06-.94-2.06-.94L8.5 2.5l-.94 2.06-2.06.94zm10 10l.94 2.06.94-2.06 2.06-.94-2.06-.94-.94-2.06-.94 2.06-2.06.94z\"/><path d=\"M17.41 7.96l-1.37-1.37c-.4-.4-.92-.59-1.43-.59-.52 0-1.04.2-1.43.59L10.3 9.45l-7.72 7.72c-.78.78-.78 2.05 0 2.83L4 21.41c.39.39.9.59 1.41.59.51 0 1.02-.2 1.41-.59l7.78-7.78 2.81-2.81c.8-.78.8-2.07 0-2.86zM5.41 20L4 18.59l7.72-7.72 1.47 1.35L5.41 20z\"/>\n",
              "  </svg>\n",
              "      </button>\n",
              "      \n",
              "  <style>\n",
              "    .colab-df-container {\n",
              "      display:flex;\n",
              "      flex-wrap:wrap;\n",
              "      gap: 12px;\n",
              "    }\n",
              "\n",
              "    .colab-df-convert {\n",
              "      background-color: #E8F0FE;\n",
              "      border: none;\n",
              "      border-radius: 50%;\n",
              "      cursor: pointer;\n",
              "      display: none;\n",
              "      fill: #1967D2;\n",
              "      height: 32px;\n",
              "      padding: 0 0 0 0;\n",
              "      width: 32px;\n",
              "    }\n",
              "\n",
              "    .colab-df-convert:hover {\n",
              "      background-color: #E2EBFA;\n",
              "      box-shadow: 0px 1px 2px rgba(60, 64, 67, 0.3), 0px 1px 3px 1px rgba(60, 64, 67, 0.15);\n",
              "      fill: #174EA6;\n",
              "    }\n",
              "\n",
              "    [theme=dark] .colab-df-convert {\n",
              "      background-color: #3B4455;\n",
              "      fill: #D2E3FC;\n",
              "    }\n",
              "\n",
              "    [theme=dark] .colab-df-convert:hover {\n",
              "      background-color: #434B5C;\n",
              "      box-shadow: 0px 1px 3px 1px rgba(0, 0, 0, 0.15);\n",
              "      filter: drop-shadow(0px 1px 2px rgba(0, 0, 0, 0.3));\n",
              "      fill: #FFFFFF;\n",
              "    }\n",
              "  </style>\n",
              "\n",
              "      <script>\n",
              "        const buttonEl =\n",
              "          document.querySelector('#df-bc4fbe3c-b91a-4fa1-8e66-011174721234 button.colab-df-convert');\n",
              "        buttonEl.style.display =\n",
              "          google.colab.kernel.accessAllowed ? 'block' : 'none';\n",
              "\n",
              "        async function convertToInteractive(key) {\n",
              "          const element = document.querySelector('#df-bc4fbe3c-b91a-4fa1-8e66-011174721234');\n",
              "          const dataTable =\n",
              "            await google.colab.kernel.invokeFunction('convertToInteractive',\n",
              "                                                     [key], {});\n",
              "          if (!dataTable) return;\n",
              "\n",
              "          const docLinkHtml = 'Like what you see? Visit the ' +\n",
              "            '<a target=\"_blank\" href=https://colab.research.google.com/notebooks/data_table.ipynb>data table notebook</a>'\n",
              "            + ' to learn more about interactive tables.';\n",
              "          element.innerHTML = '';\n",
              "          dataTable['output_type'] = 'display_data';\n",
              "          await google.colab.output.renderOutput(dataTable, element);\n",
              "          const docLink = document.createElement('div');\n",
              "          docLink.innerHTML = docLinkHtml;\n",
              "          element.appendChild(docLink);\n",
              "        }\n",
              "      </script>\n",
              "    </div>\n",
              "  </div>\n",
              "  "
            ]
          },
          "metadata": {},
          "execution_count": 5
        }
      ]
    },
    {
      "cell_type": "markdown",
      "source": [
        "Usando columns para imprimir as colunas existentes"
      ],
      "metadata": {
        "id": "pHrPo076Ak29"
      }
    },
    {
      "cell_type": "code",
      "source": [
        "dados.columns"
      ],
      "metadata": {
        "colab": {
          "base_uri": "https://localhost:8080/"
        },
        "id": "25NhpJhOAiqT",
        "outputId": "2ee1a457-2e82-47a6-a859-5a8e660d461d"
      },
      "execution_count": null,
      "outputs": [
        {
          "output_type": "execute_result",
          "data": {
            "text/plain": [
              "Index(['id_cliente', 'idade', 'renda', 'produto', 'regiao-BR', 'pre-pandemia'], dtype='object')"
            ]
          },
          "metadata": {},
          "execution_count": 6
        }
      ]
    },
    {
      "cell_type": "markdown",
      "source": [
        "Usando dtypes para o tipo de dado de cada coluna"
      ],
      "metadata": {
        "id": "jLzzelBaAqUt"
      }
    },
    {
      "cell_type": "code",
      "source": [
        "dados.dtypes"
      ],
      "metadata": {
        "colab": {
          "base_uri": "https://localhost:8080/"
        },
        "id": "ufLVF6IpAnIv",
        "outputId": "8faedbd8-7e2e-4a98-bd96-fa8623c9282c"
      },
      "execution_count": null,
      "outputs": [
        {
          "output_type": "execute_result",
          "data": {
            "text/plain": [
              "id_cliente      object\n",
              "idade            int64\n",
              "renda            int64\n",
              "produto         object\n",
              "regiao-BR       object\n",
              "pre-pandemia     int64\n",
              "dtype: object"
            ]
          },
          "metadata": {},
          "execution_count": 7
        }
      ]
    },
    {
      "cell_type": "markdown",
      "source": [
        "Contabilizando o número de células vazias por coluna"
      ],
      "metadata": {
        "id": "Yd3iGNtWAvUV"
      }
    },
    {
      "cell_type": "code",
      "source": [
        "dados.isna().sum()"
      ],
      "metadata": {
        "colab": {
          "base_uri": "https://localhost:8080/"
        },
        "id": "GGWcQb2BAswq",
        "outputId": "fbb0f8ec-5ef3-4f7f-9e86-0fc0d01e01e5"
      },
      "execution_count": null,
      "outputs": [
        {
          "output_type": "execute_result",
          "data": {
            "text/plain": [
              "id_cliente      0\n",
              "idade           0\n",
              "renda           0\n",
              "produto         0\n",
              "regiao-BR       0\n",
              "pre-pandemia    0\n",
              "dtype: int64"
            ]
          },
          "metadata": {},
          "execution_count": 8
        }
      ]
    },
    {
      "cell_type": "markdown",
      "source": [
        "Usando shape para conhecer o tamanho do dataframe"
      ],
      "metadata": {
        "id": "Dvo1dPhHA0Wp"
      }
    },
    {
      "cell_type": "code",
      "source": [
        "dados.shape"
      ],
      "metadata": {
        "colab": {
          "base_uri": "https://localhost:8080/"
        },
        "id": "QLnlHsTlAyJV",
        "outputId": "3262c055-7e5d-4bc1-f308-cc9596ddcf5b"
      },
      "execution_count": null,
      "outputs": [
        {
          "output_type": "execute_result",
          "data": {
            "text/plain": [
              "(203, 6)"
            ]
          },
          "metadata": {},
          "execution_count": 9
        }
      ]
    },
    {
      "cell_type": "markdown",
      "source": [
        "Usando unique() conhecer os valores únicos das colunas"
      ],
      "metadata": {
        "id": "wILNlo5jA4m6"
      }
    },
    {
      "cell_type": "code",
      "source": [
        "dados['pre-pandemia'].unique()"
      ],
      "metadata": {
        "colab": {
          "base_uri": "https://localhost:8080/"
        },
        "id": "nnFNsqgtA2l0",
        "outputId": "2010c0da-3f19-41fe-bde4-1f1f26bc67b9"
      },
      "execution_count": null,
      "outputs": [
        {
          "output_type": "execute_result",
          "data": {
            "text/plain": [
              "array([1, 0])"
            ]
          },
          "metadata": {},
          "execution_count": 10
        }
      ]
    },
    {
      "cell_type": "code",
      "source": [
        "dados['produto'].unique()"
      ],
      "metadata": {
        "colab": {
          "base_uri": "https://localhost:8080/"
        },
        "id": "PeXOjX4pA7ES",
        "outputId": "9b31d561-4a94-42bf-a440-45aa27e22614"
      },
      "execution_count": null,
      "outputs": [
        {
          "output_type": "execute_result",
          "data": {
            "text/plain": [
              "array(['batom', 'desodorante', 'sombra', 'perfume', 'antissinais', 'base'],\n",
              "      dtype=object)"
            ]
          },
          "metadata": {},
          "execution_count": 11
        }
      ]
    },
    {
      "cell_type": "code",
      "source": [
        "dados['regiao-BR'].unique()"
      ],
      "metadata": {
        "colab": {
          "base_uri": "https://localhost:8080/"
        },
        "id": "-cFGDDBtA9Y2",
        "outputId": "aae98853-08b7-4074-b486-cbedcb009e86"
      },
      "execution_count": null,
      "outputs": [
        {
          "output_type": "execute_result",
          "data": {
            "text/plain": [
              "array(['Sudeste', 'Nordeste', 'Centro-Oeste', 'Sul', 'Norte'],\n",
              "      dtype=object)"
            ]
          },
          "metadata": {},
          "execution_count": 12
        }
      ]
    },
    {
      "cell_type": "markdown",
      "source": [
        "Criando dois novos dataframes pré e pós pandemia"
      ],
      "metadata": {
        "id": "r3SFawJ1BBxi"
      }
    },
    {
      "cell_type": "code",
      "source": [
        "pre_pandemia = dados[dados['pre-pandemia'] == 1]\n",
        "pre_pandemia"
      ],
      "metadata": {
        "colab": {
          "base_uri": "https://localhost:8080/",
          "height": 424
        },
        "id": "2IjnpQeZA_pC",
        "outputId": "6466d741-c85c-47fc-a601-0a48819238f9"
      },
      "execution_count": null,
      "outputs": [
        {
          "output_type": "execute_result",
          "data": {
            "text/plain": [
              "    id_cliente  idade  renda      produto     regiao-BR  pre-pandemia\n",
              "0    XXXXXXX72     30   7452        batom       Sudeste             1\n",
              "1    XXXXXXX15     59    837  desodorante      Nordeste             1\n",
              "2    XXXXXXX70     28   3231       sombra  Centro-Oeste             1\n",
              "3    XXXXXXX99     27   5409        batom           Sul             1\n",
              "4    XXXXXXX98     24   1142        batom       Sudeste             1\n",
              "..         ...    ...    ...          ...           ...           ...\n",
              "96   XXXXXXX80     32   6251  antissinais         Norte             1\n",
              "97   XXXXXXX92     43   2616        batom           Sul             1\n",
              "98   XXXXXXX65     54   2324  antissinais         Norte             1\n",
              "99   XXXXXXX79     61  12278         base  Centro-Oeste             1\n",
              "100  XXXXXXX29     48   1286        batom      Nordeste             1\n",
              "\n",
              "[101 rows x 6 columns]"
            ],
            "text/html": [
              "\n",
              "  <div id=\"df-d555796d-51e4-4ace-9b10-b735d01a017e\">\n",
              "    <div class=\"colab-df-container\">\n",
              "      <div>\n",
              "<style scoped>\n",
              "    .dataframe tbody tr th:only-of-type {\n",
              "        vertical-align: middle;\n",
              "    }\n",
              "\n",
              "    .dataframe tbody tr th {\n",
              "        vertical-align: top;\n",
              "    }\n",
              "\n",
              "    .dataframe thead th {\n",
              "        text-align: right;\n",
              "    }\n",
              "</style>\n",
              "<table border=\"1\" class=\"dataframe\">\n",
              "  <thead>\n",
              "    <tr style=\"text-align: right;\">\n",
              "      <th></th>\n",
              "      <th>id_cliente</th>\n",
              "      <th>idade</th>\n",
              "      <th>renda</th>\n",
              "      <th>produto</th>\n",
              "      <th>regiao-BR</th>\n",
              "      <th>pre-pandemia</th>\n",
              "    </tr>\n",
              "  </thead>\n",
              "  <tbody>\n",
              "    <tr>\n",
              "      <th>0</th>\n",
              "      <td>XXXXXXX72</td>\n",
              "      <td>30</td>\n",
              "      <td>7452</td>\n",
              "      <td>batom</td>\n",
              "      <td>Sudeste</td>\n",
              "      <td>1</td>\n",
              "    </tr>\n",
              "    <tr>\n",
              "      <th>1</th>\n",
              "      <td>XXXXXXX15</td>\n",
              "      <td>59</td>\n",
              "      <td>837</td>\n",
              "      <td>desodorante</td>\n",
              "      <td>Nordeste</td>\n",
              "      <td>1</td>\n",
              "    </tr>\n",
              "    <tr>\n",
              "      <th>2</th>\n",
              "      <td>XXXXXXX70</td>\n",
              "      <td>28</td>\n",
              "      <td>3231</td>\n",
              "      <td>sombra</td>\n",
              "      <td>Centro-Oeste</td>\n",
              "      <td>1</td>\n",
              "    </tr>\n",
              "    <tr>\n",
              "      <th>3</th>\n",
              "      <td>XXXXXXX99</td>\n",
              "      <td>27</td>\n",
              "      <td>5409</td>\n",
              "      <td>batom</td>\n",
              "      <td>Sul</td>\n",
              "      <td>1</td>\n",
              "    </tr>\n",
              "    <tr>\n",
              "      <th>4</th>\n",
              "      <td>XXXXXXX98</td>\n",
              "      <td>24</td>\n",
              "      <td>1142</td>\n",
              "      <td>batom</td>\n",
              "      <td>Sudeste</td>\n",
              "      <td>1</td>\n",
              "    </tr>\n",
              "    <tr>\n",
              "      <th>...</th>\n",
              "      <td>...</td>\n",
              "      <td>...</td>\n",
              "      <td>...</td>\n",
              "      <td>...</td>\n",
              "      <td>...</td>\n",
              "      <td>...</td>\n",
              "    </tr>\n",
              "    <tr>\n",
              "      <th>96</th>\n",
              "      <td>XXXXXXX80</td>\n",
              "      <td>32</td>\n",
              "      <td>6251</td>\n",
              "      <td>antissinais</td>\n",
              "      <td>Norte</td>\n",
              "      <td>1</td>\n",
              "    </tr>\n",
              "    <tr>\n",
              "      <th>97</th>\n",
              "      <td>XXXXXXX92</td>\n",
              "      <td>43</td>\n",
              "      <td>2616</td>\n",
              "      <td>batom</td>\n",
              "      <td>Sul</td>\n",
              "      <td>1</td>\n",
              "    </tr>\n",
              "    <tr>\n",
              "      <th>98</th>\n",
              "      <td>XXXXXXX65</td>\n",
              "      <td>54</td>\n",
              "      <td>2324</td>\n",
              "      <td>antissinais</td>\n",
              "      <td>Norte</td>\n",
              "      <td>1</td>\n",
              "    </tr>\n",
              "    <tr>\n",
              "      <th>99</th>\n",
              "      <td>XXXXXXX79</td>\n",
              "      <td>61</td>\n",
              "      <td>12278</td>\n",
              "      <td>base</td>\n",
              "      <td>Centro-Oeste</td>\n",
              "      <td>1</td>\n",
              "    </tr>\n",
              "    <tr>\n",
              "      <th>100</th>\n",
              "      <td>XXXXXXX29</td>\n",
              "      <td>48</td>\n",
              "      <td>1286</td>\n",
              "      <td>batom</td>\n",
              "      <td>Nordeste</td>\n",
              "      <td>1</td>\n",
              "    </tr>\n",
              "  </tbody>\n",
              "</table>\n",
              "<p>101 rows × 6 columns</p>\n",
              "</div>\n",
              "      <button class=\"colab-df-convert\" onclick=\"convertToInteractive('df-d555796d-51e4-4ace-9b10-b735d01a017e')\"\n",
              "              title=\"Convert this dataframe to an interactive table.\"\n",
              "              style=\"display:none;\">\n",
              "        \n",
              "  <svg xmlns=\"http://www.w3.org/2000/svg\" height=\"24px\"viewBox=\"0 0 24 24\"\n",
              "       width=\"24px\">\n",
              "    <path d=\"M0 0h24v24H0V0z\" fill=\"none\"/>\n",
              "    <path d=\"M18.56 5.44l.94 2.06.94-2.06 2.06-.94-2.06-.94-.94-2.06-.94 2.06-2.06.94zm-11 1L8.5 8.5l.94-2.06 2.06-.94-2.06-.94L8.5 2.5l-.94 2.06-2.06.94zm10 10l.94 2.06.94-2.06 2.06-.94-2.06-.94-.94-2.06-.94 2.06-2.06.94z\"/><path d=\"M17.41 7.96l-1.37-1.37c-.4-.4-.92-.59-1.43-.59-.52 0-1.04.2-1.43.59L10.3 9.45l-7.72 7.72c-.78.78-.78 2.05 0 2.83L4 21.41c.39.39.9.59 1.41.59.51 0 1.02-.2 1.41-.59l7.78-7.78 2.81-2.81c.8-.78.8-2.07 0-2.86zM5.41 20L4 18.59l7.72-7.72 1.47 1.35L5.41 20z\"/>\n",
              "  </svg>\n",
              "      </button>\n",
              "      \n",
              "  <style>\n",
              "    .colab-df-container {\n",
              "      display:flex;\n",
              "      flex-wrap:wrap;\n",
              "      gap: 12px;\n",
              "    }\n",
              "\n",
              "    .colab-df-convert {\n",
              "      background-color: #E8F0FE;\n",
              "      border: none;\n",
              "      border-radius: 50%;\n",
              "      cursor: pointer;\n",
              "      display: none;\n",
              "      fill: #1967D2;\n",
              "      height: 32px;\n",
              "      padding: 0 0 0 0;\n",
              "      width: 32px;\n",
              "    }\n",
              "\n",
              "    .colab-df-convert:hover {\n",
              "      background-color: #E2EBFA;\n",
              "      box-shadow: 0px 1px 2px rgba(60, 64, 67, 0.3), 0px 1px 3px 1px rgba(60, 64, 67, 0.15);\n",
              "      fill: #174EA6;\n",
              "    }\n",
              "\n",
              "    [theme=dark] .colab-df-convert {\n",
              "      background-color: #3B4455;\n",
              "      fill: #D2E3FC;\n",
              "    }\n",
              "\n",
              "    [theme=dark] .colab-df-convert:hover {\n",
              "      background-color: #434B5C;\n",
              "      box-shadow: 0px 1px 3px 1px rgba(0, 0, 0, 0.15);\n",
              "      filter: drop-shadow(0px 1px 2px rgba(0, 0, 0, 0.3));\n",
              "      fill: #FFFFFF;\n",
              "    }\n",
              "  </style>\n",
              "\n",
              "      <script>\n",
              "        const buttonEl =\n",
              "          document.querySelector('#df-d555796d-51e4-4ace-9b10-b735d01a017e button.colab-df-convert');\n",
              "        buttonEl.style.display =\n",
              "          google.colab.kernel.accessAllowed ? 'block' : 'none';\n",
              "\n",
              "        async function convertToInteractive(key) {\n",
              "          const element = document.querySelector('#df-d555796d-51e4-4ace-9b10-b735d01a017e');\n",
              "          const dataTable =\n",
              "            await google.colab.kernel.invokeFunction('convertToInteractive',\n",
              "                                                     [key], {});\n",
              "          if (!dataTable) return;\n",
              "\n",
              "          const docLinkHtml = 'Like what you see? Visit the ' +\n",
              "            '<a target=\"_blank\" href=https://colab.research.google.com/notebooks/data_table.ipynb>data table notebook</a>'\n",
              "            + ' to learn more about interactive tables.';\n",
              "          element.innerHTML = '';\n",
              "          dataTable['output_type'] = 'display_data';\n",
              "          await google.colab.output.renderOutput(dataTable, element);\n",
              "          const docLink = document.createElement('div');\n",
              "          docLink.innerHTML = docLinkHtml;\n",
              "          element.appendChild(docLink);\n",
              "        }\n",
              "      </script>\n",
              "    </div>\n",
              "  </div>\n",
              "  "
            ]
          },
          "metadata": {},
          "execution_count": 13
        }
      ]
    },
    {
      "cell_type": "code",
      "source": [
        "pos_pandemia = dados[dados['pre-pandemia'] == 0]\n",
        "pos_pandemia"
      ],
      "metadata": {
        "colab": {
          "base_uri": "https://localhost:8080/",
          "height": 424
        },
        "id": "ykPAt-iXBEKw",
        "outputId": "369ce538-035d-44c2-ea9e-a673d3c181a2"
      },
      "execution_count": null,
      "outputs": [
        {
          "output_type": "execute_result",
          "data": {
            "text/plain": [
              "    id_cliente  idade  renda      produto     regiao-BR  pre-pandemia\n",
              "101  XXXXXXX67     35  25959        batom           Sul             0\n",
              "102  XXXXXXX60     35   1995  desodorante      Nordeste             0\n",
              "103  XXXXXXX48     53  23314  antissinais  Centro-Oeste             0\n",
              "104  XXXXXXX67     44  16693  antissinais  Centro-Oeste             0\n",
              "105  XXXXXXX59     37  14631         base      Nordeste             0\n",
              "..         ...    ...    ...          ...           ...           ...\n",
              "198  XXXXXXX25     46  16918  desodorante           Sul             0\n",
              "199  XXXXXXX50     43  10930  antissinais         Norte             0\n",
              "200  XXXXXXX65     48  10246      perfume      Nordeste             0\n",
              "201  XXXXXXX61     47  12337        batom       Sudeste             0\n",
              "202  XXXXXXX89     58  14108  desodorante           Sul             0\n",
              "\n",
              "[102 rows x 6 columns]"
            ],
            "text/html": [
              "\n",
              "  <div id=\"df-27999651-944f-4018-a5c7-ee088ff3a348\">\n",
              "    <div class=\"colab-df-container\">\n",
              "      <div>\n",
              "<style scoped>\n",
              "    .dataframe tbody tr th:only-of-type {\n",
              "        vertical-align: middle;\n",
              "    }\n",
              "\n",
              "    .dataframe tbody tr th {\n",
              "        vertical-align: top;\n",
              "    }\n",
              "\n",
              "    .dataframe thead th {\n",
              "        text-align: right;\n",
              "    }\n",
              "</style>\n",
              "<table border=\"1\" class=\"dataframe\">\n",
              "  <thead>\n",
              "    <tr style=\"text-align: right;\">\n",
              "      <th></th>\n",
              "      <th>id_cliente</th>\n",
              "      <th>idade</th>\n",
              "      <th>renda</th>\n",
              "      <th>produto</th>\n",
              "      <th>regiao-BR</th>\n",
              "      <th>pre-pandemia</th>\n",
              "    </tr>\n",
              "  </thead>\n",
              "  <tbody>\n",
              "    <tr>\n",
              "      <th>101</th>\n",
              "      <td>XXXXXXX67</td>\n",
              "      <td>35</td>\n",
              "      <td>25959</td>\n",
              "      <td>batom</td>\n",
              "      <td>Sul</td>\n",
              "      <td>0</td>\n",
              "    </tr>\n",
              "    <tr>\n",
              "      <th>102</th>\n",
              "      <td>XXXXXXX60</td>\n",
              "      <td>35</td>\n",
              "      <td>1995</td>\n",
              "      <td>desodorante</td>\n",
              "      <td>Nordeste</td>\n",
              "      <td>0</td>\n",
              "    </tr>\n",
              "    <tr>\n",
              "      <th>103</th>\n",
              "      <td>XXXXXXX48</td>\n",
              "      <td>53</td>\n",
              "      <td>23314</td>\n",
              "      <td>antissinais</td>\n",
              "      <td>Centro-Oeste</td>\n",
              "      <td>0</td>\n",
              "    </tr>\n",
              "    <tr>\n",
              "      <th>104</th>\n",
              "      <td>XXXXXXX67</td>\n",
              "      <td>44</td>\n",
              "      <td>16693</td>\n",
              "      <td>antissinais</td>\n",
              "      <td>Centro-Oeste</td>\n",
              "      <td>0</td>\n",
              "    </tr>\n",
              "    <tr>\n",
              "      <th>105</th>\n",
              "      <td>XXXXXXX59</td>\n",
              "      <td>37</td>\n",
              "      <td>14631</td>\n",
              "      <td>base</td>\n",
              "      <td>Nordeste</td>\n",
              "      <td>0</td>\n",
              "    </tr>\n",
              "    <tr>\n",
              "      <th>...</th>\n",
              "      <td>...</td>\n",
              "      <td>...</td>\n",
              "      <td>...</td>\n",
              "      <td>...</td>\n",
              "      <td>...</td>\n",
              "      <td>...</td>\n",
              "    </tr>\n",
              "    <tr>\n",
              "      <th>198</th>\n",
              "      <td>XXXXXXX25</td>\n",
              "      <td>46</td>\n",
              "      <td>16918</td>\n",
              "      <td>desodorante</td>\n",
              "      <td>Sul</td>\n",
              "      <td>0</td>\n",
              "    </tr>\n",
              "    <tr>\n",
              "      <th>199</th>\n",
              "      <td>XXXXXXX50</td>\n",
              "      <td>43</td>\n",
              "      <td>10930</td>\n",
              "      <td>antissinais</td>\n",
              "      <td>Norte</td>\n",
              "      <td>0</td>\n",
              "    </tr>\n",
              "    <tr>\n",
              "      <th>200</th>\n",
              "      <td>XXXXXXX65</td>\n",
              "      <td>48</td>\n",
              "      <td>10246</td>\n",
              "      <td>perfume</td>\n",
              "      <td>Nordeste</td>\n",
              "      <td>0</td>\n",
              "    </tr>\n",
              "    <tr>\n",
              "      <th>201</th>\n",
              "      <td>XXXXXXX61</td>\n",
              "      <td>47</td>\n",
              "      <td>12337</td>\n",
              "      <td>batom</td>\n",
              "      <td>Sudeste</td>\n",
              "      <td>0</td>\n",
              "    </tr>\n",
              "    <tr>\n",
              "      <th>202</th>\n",
              "      <td>XXXXXXX89</td>\n",
              "      <td>58</td>\n",
              "      <td>14108</td>\n",
              "      <td>desodorante</td>\n",
              "      <td>Sul</td>\n",
              "      <td>0</td>\n",
              "    </tr>\n",
              "  </tbody>\n",
              "</table>\n",
              "<p>102 rows × 6 columns</p>\n",
              "</div>\n",
              "      <button class=\"colab-df-convert\" onclick=\"convertToInteractive('df-27999651-944f-4018-a5c7-ee088ff3a348')\"\n",
              "              title=\"Convert this dataframe to an interactive table.\"\n",
              "              style=\"display:none;\">\n",
              "        \n",
              "  <svg xmlns=\"http://www.w3.org/2000/svg\" height=\"24px\"viewBox=\"0 0 24 24\"\n",
              "       width=\"24px\">\n",
              "    <path d=\"M0 0h24v24H0V0z\" fill=\"none\"/>\n",
              "    <path d=\"M18.56 5.44l.94 2.06.94-2.06 2.06-.94-2.06-.94-.94-2.06-.94 2.06-2.06.94zm-11 1L8.5 8.5l.94-2.06 2.06-.94-2.06-.94L8.5 2.5l-.94 2.06-2.06.94zm10 10l.94 2.06.94-2.06 2.06-.94-2.06-.94-.94-2.06-.94 2.06-2.06.94z\"/><path d=\"M17.41 7.96l-1.37-1.37c-.4-.4-.92-.59-1.43-.59-.52 0-1.04.2-1.43.59L10.3 9.45l-7.72 7.72c-.78.78-.78 2.05 0 2.83L4 21.41c.39.39.9.59 1.41.59.51 0 1.02-.2 1.41-.59l7.78-7.78 2.81-2.81c.8-.78.8-2.07 0-2.86zM5.41 20L4 18.59l7.72-7.72 1.47 1.35L5.41 20z\"/>\n",
              "  </svg>\n",
              "      </button>\n",
              "      \n",
              "  <style>\n",
              "    .colab-df-container {\n",
              "      display:flex;\n",
              "      flex-wrap:wrap;\n",
              "      gap: 12px;\n",
              "    }\n",
              "\n",
              "    .colab-df-convert {\n",
              "      background-color: #E8F0FE;\n",
              "      border: none;\n",
              "      border-radius: 50%;\n",
              "      cursor: pointer;\n",
              "      display: none;\n",
              "      fill: #1967D2;\n",
              "      height: 32px;\n",
              "      padding: 0 0 0 0;\n",
              "      width: 32px;\n",
              "    }\n",
              "\n",
              "    .colab-df-convert:hover {\n",
              "      background-color: #E2EBFA;\n",
              "      box-shadow: 0px 1px 2px rgba(60, 64, 67, 0.3), 0px 1px 3px 1px rgba(60, 64, 67, 0.15);\n",
              "      fill: #174EA6;\n",
              "    }\n",
              "\n",
              "    [theme=dark] .colab-df-convert {\n",
              "      background-color: #3B4455;\n",
              "      fill: #D2E3FC;\n",
              "    }\n",
              "\n",
              "    [theme=dark] .colab-df-convert:hover {\n",
              "      background-color: #434B5C;\n",
              "      box-shadow: 0px 1px 3px 1px rgba(0, 0, 0, 0.15);\n",
              "      filter: drop-shadow(0px 1px 2px rgba(0, 0, 0, 0.3));\n",
              "      fill: #FFFFFF;\n",
              "    }\n",
              "  </style>\n",
              "\n",
              "      <script>\n",
              "        const buttonEl =\n",
              "          document.querySelector('#df-27999651-944f-4018-a5c7-ee088ff3a348 button.colab-df-convert');\n",
              "        buttonEl.style.display =\n",
              "          google.colab.kernel.accessAllowed ? 'block' : 'none';\n",
              "\n",
              "        async function convertToInteractive(key) {\n",
              "          const element = document.querySelector('#df-27999651-944f-4018-a5c7-ee088ff3a348');\n",
              "          const dataTable =\n",
              "            await google.colab.kernel.invokeFunction('convertToInteractive',\n",
              "                                                     [key], {});\n",
              "          if (!dataTable) return;\n",
              "\n",
              "          const docLinkHtml = 'Like what you see? Visit the ' +\n",
              "            '<a target=\"_blank\" href=https://colab.research.google.com/notebooks/data_table.ipynb>data table notebook</a>'\n",
              "            + ' to learn more about interactive tables.';\n",
              "          element.innerHTML = '';\n",
              "          dataTable['output_type'] = 'display_data';\n",
              "          await google.colab.output.renderOutput(dataTable, element);\n",
              "          const docLink = document.createElement('div');\n",
              "          docLink.innerHTML = docLinkHtml;\n",
              "          element.appendChild(docLink);\n",
              "        }\n",
              "      </script>\n",
              "    </div>\n",
              "  </div>\n",
              "  "
            ]
          },
          "metadata": {},
          "execution_count": 14
        }
      ]
    },
    {
      "cell_type": "markdown",
      "source": [
        "## 1.Entenda a distribuição de variáveis como de idade / renda / regiao /produtos mais comprados antes e depois da pandemia\n",
        "\n",
        "### a. Identifique as distribuições\n",
        "\n",
        "### b. Plote histogramas / boxplots"
      ],
      "metadata": {
        "id": "qL-X70KZO7M3"
      }
    },
    {
      "cell_type": "markdown",
      "source": [
        "#### Quantificando os registros pré e pós pandemia"
      ],
      "metadata": {
        "id": "NECPd4pdO_nI"
      }
    },
    {
      "cell_type": "code",
      "source": [
        "frequencia = dados['pre-pandemia'].value_counts()\n",
        "frequencia"
      ],
      "metadata": {
        "colab": {
          "base_uri": "https://localhost:8080/"
        },
        "id": "fcdfV2wOO32L",
        "outputId": "58272041-0139-4c1a-ca5f-05f2093d7b93"
      },
      "execution_count": null,
      "outputs": [
        {
          "output_type": "execute_result",
          "data": {
            "text/plain": [
              "0    102\n",
              "1    101\n",
              "Name: pre-pandemia, dtype: int64"
            ]
          },
          "metadata": {},
          "execution_count": 15
        }
      ]
    },
    {
      "cell_type": "markdown",
      "source": [
        "normalizando o resultado"
      ],
      "metadata": {
        "id": "gsJpsrbCPE1n"
      }
    },
    {
      "cell_type": "code",
      "source": [
        "percentual = dados['pre-pandemia'].value_counts(normalize = True).round(4) * 100\n",
        "percentual"
      ],
      "metadata": {
        "colab": {
          "base_uri": "https://localhost:8080/"
        },
        "id": "4VossabNPCPB",
        "outputId": "91c8ede5-58e9-4d1c-fa4b-d9b6b96a616b"
      },
      "execution_count": null,
      "outputs": [
        {
          "output_type": "execute_result",
          "data": {
            "text/plain": [
              "0    50.25\n",
              "1    49.75\n",
              "Name: pre-pandemia, dtype: float64"
            ]
          },
          "metadata": {},
          "execution_count": 16
        }
      ]
    },
    {
      "cell_type": "code",
      "source": [
        "dist_freq_qualitativa = pd.DataFrame({'frequencia': frequencia, 'porcentagem (%)': percentual})\n",
        "dist_freq_qualitativa.rename(index = {0: 'pós pandemia', 1: 'pré pandemia'}, inplace = True)\n",
        "dist_freq_qualitativa.rename_axis('Período', axis = 'columns', inplace  = True)\n",
        "dist_freq_qualitativa"
      ],
      "metadata": {
        "colab": {
          "base_uri": "https://localhost:8080/",
          "height": 112
        },
        "id": "AYTj2_KMPHU_",
        "outputId": "e3085b07-73a6-440f-9fb6-5e4220602911"
      },
      "execution_count": null,
      "outputs": [
        {
          "output_type": "execute_result",
          "data": {
            "text/plain": [
              "Período       frequencia  porcentagem (%)\n",
              "pós pandemia         102            50.25\n",
              "pré pandemia         101            49.75"
            ],
            "text/html": [
              "\n",
              "  <div id=\"df-240b8aaf-b6ea-48ee-b1fc-a57e5f9ab625\">\n",
              "    <div class=\"colab-df-container\">\n",
              "      <div>\n",
              "<style scoped>\n",
              "    .dataframe tbody tr th:only-of-type {\n",
              "        vertical-align: middle;\n",
              "    }\n",
              "\n",
              "    .dataframe tbody tr th {\n",
              "        vertical-align: top;\n",
              "    }\n",
              "\n",
              "    .dataframe thead th {\n",
              "        text-align: right;\n",
              "    }\n",
              "</style>\n",
              "<table border=\"1\" class=\"dataframe\">\n",
              "  <thead>\n",
              "    <tr style=\"text-align: right;\">\n",
              "      <th>Período</th>\n",
              "      <th>frequencia</th>\n",
              "      <th>porcentagem (%)</th>\n",
              "    </tr>\n",
              "  </thead>\n",
              "  <tbody>\n",
              "    <tr>\n",
              "      <th>pós pandemia</th>\n",
              "      <td>102</td>\n",
              "      <td>50.25</td>\n",
              "    </tr>\n",
              "    <tr>\n",
              "      <th>pré pandemia</th>\n",
              "      <td>101</td>\n",
              "      <td>49.75</td>\n",
              "    </tr>\n",
              "  </tbody>\n",
              "</table>\n",
              "</div>\n",
              "      <button class=\"colab-df-convert\" onclick=\"convertToInteractive('df-240b8aaf-b6ea-48ee-b1fc-a57e5f9ab625')\"\n",
              "              title=\"Convert this dataframe to an interactive table.\"\n",
              "              style=\"display:none;\">\n",
              "        \n",
              "  <svg xmlns=\"http://www.w3.org/2000/svg\" height=\"24px\"viewBox=\"0 0 24 24\"\n",
              "       width=\"24px\">\n",
              "    <path d=\"M0 0h24v24H0V0z\" fill=\"none\"/>\n",
              "    <path d=\"M18.56 5.44l.94 2.06.94-2.06 2.06-.94-2.06-.94-.94-2.06-.94 2.06-2.06.94zm-11 1L8.5 8.5l.94-2.06 2.06-.94-2.06-.94L8.5 2.5l-.94 2.06-2.06.94zm10 10l.94 2.06.94-2.06 2.06-.94-2.06-.94-.94-2.06-.94 2.06-2.06.94z\"/><path d=\"M17.41 7.96l-1.37-1.37c-.4-.4-.92-.59-1.43-.59-.52 0-1.04.2-1.43.59L10.3 9.45l-7.72 7.72c-.78.78-.78 2.05 0 2.83L4 21.41c.39.39.9.59 1.41.59.51 0 1.02-.2 1.41-.59l7.78-7.78 2.81-2.81c.8-.78.8-2.07 0-2.86zM5.41 20L4 18.59l7.72-7.72 1.47 1.35L5.41 20z\"/>\n",
              "  </svg>\n",
              "      </button>\n",
              "      \n",
              "  <style>\n",
              "    .colab-df-container {\n",
              "      display:flex;\n",
              "      flex-wrap:wrap;\n",
              "      gap: 12px;\n",
              "    }\n",
              "\n",
              "    .colab-df-convert {\n",
              "      background-color: #E8F0FE;\n",
              "      border: none;\n",
              "      border-radius: 50%;\n",
              "      cursor: pointer;\n",
              "      display: none;\n",
              "      fill: #1967D2;\n",
              "      height: 32px;\n",
              "      padding: 0 0 0 0;\n",
              "      width: 32px;\n",
              "    }\n",
              "\n",
              "    .colab-df-convert:hover {\n",
              "      background-color: #E2EBFA;\n",
              "      box-shadow: 0px 1px 2px rgba(60, 64, 67, 0.3), 0px 1px 3px 1px rgba(60, 64, 67, 0.15);\n",
              "      fill: #174EA6;\n",
              "    }\n",
              "\n",
              "    [theme=dark] .colab-df-convert {\n",
              "      background-color: #3B4455;\n",
              "      fill: #D2E3FC;\n",
              "    }\n",
              "\n",
              "    [theme=dark] .colab-df-convert:hover {\n",
              "      background-color: #434B5C;\n",
              "      box-shadow: 0px 1px 3px 1px rgba(0, 0, 0, 0.15);\n",
              "      filter: drop-shadow(0px 1px 2px rgba(0, 0, 0, 0.3));\n",
              "      fill: #FFFFFF;\n",
              "    }\n",
              "  </style>\n",
              "\n",
              "      <script>\n",
              "        const buttonEl =\n",
              "          document.querySelector('#df-240b8aaf-b6ea-48ee-b1fc-a57e5f9ab625 button.colab-df-convert');\n",
              "        buttonEl.style.display =\n",
              "          google.colab.kernel.accessAllowed ? 'block' : 'none';\n",
              "\n",
              "        async function convertToInteractive(key) {\n",
              "          const element = document.querySelector('#df-240b8aaf-b6ea-48ee-b1fc-a57e5f9ab625');\n",
              "          const dataTable =\n",
              "            await google.colab.kernel.invokeFunction('convertToInteractive',\n",
              "                                                     [key], {});\n",
              "          if (!dataTable) return;\n",
              "\n",
              "          const docLinkHtml = 'Like what you see? Visit the ' +\n",
              "            '<a target=\"_blank\" href=https://colab.research.google.com/notebooks/data_table.ipynb>data table notebook</a>'\n",
              "            + ' to learn more about interactive tables.';\n",
              "          element.innerHTML = '';\n",
              "          dataTable['output_type'] = 'display_data';\n",
              "          await google.colab.output.renderOutput(dataTable, element);\n",
              "          const docLink = document.createElement('div');\n",
              "          docLink.innerHTML = docLinkHtml;\n",
              "          element.appendChild(docLink);\n",
              "        }\n",
              "      </script>\n",
              "    </div>\n",
              "  </div>\n",
              "  "
            ]
          },
          "metadata": {},
          "execution_count": 17
        }
      ]
    },
    {
      "cell_type": "code",
      "source": [
        "dist_freq_qualitativa['frequencia'].plot.bar(figsize = (12,6), rot=0)"
      ],
      "metadata": {
        "colab": {
          "base_uri": "https://localhost:8080/",
          "height": 392
        },
        "id": "Q81x_aEaPL5-",
        "outputId": "efa4146e-02a5-4264-c1a2-bff069dec009"
      },
      "execution_count": null,
      "outputs": [
        {
          "output_type": "execute_result",
          "data": {
            "text/plain": [
              "<AxesSubplot:>"
            ]
          },
          "metadata": {},
          "execution_count": 18
        },
        {
          "output_type": "display_data",
          "data": {
            "text/plain": [
              "<Figure size 864x432 with 1 Axes>"
            ],
            "image/png": "[encoded data removed]"
          },
          "metadata": {
            "needs_background": "light"
          }
        }
      ]
    },
    {
      "cell_type": "code",
      "source": [
        "dist_freq_qualitativa['porcentagem (%)'].plot.bar(figsize = (12,6), rot=0)"
      ],
      "metadata": {
        "colab": {
          "base_uri": "https://localhost:8080/",
          "height": 392
        },
        "id": "uisracuSPOle",
        "outputId": "f46d90e0-1748-468b-82d4-e1a5538b6de8"
      },
      "execution_count": null,
      "outputs": [
        {
          "output_type": "execute_result",
          "data": {
            "text/plain": [
              "<AxesSubplot:>"
            ]
          },
          "metadata": {},
          "execution_count": 19
        },
        {
          "output_type": "display_data",
          "data": {
            "text/plain": [
              "<Figure size 864x432 with 1 Axes>"
            ],
            "image/png": "[encoded data removed]"
          },
          "metadata": {
            "needs_background": "light"
          }
        }
      ]
    },
    {
      "cell_type": "markdown",
      "source": [
        "#### Analisando a região"
      ],
      "metadata": {
        "id": "OwVELEmxPT2P"
      }
    },
    {
      "cell_type": "code",
      "source": [
        "periodo = {\n",
        "    0: 'pós pandemia',\n",
        "    1: 'pré pandemia'\n",
        "}"
      ],
      "metadata": {
        "id": "bxNCUahqPRfD"
      },
      "execution_count": null,
      "outputs": []
    },
    {
      "cell_type": "code",
      "source": [
        "frequencia = pd.crosstab(dados['pre-pandemia'], \n",
        "                         dados['regiao-BR'])\n",
        "frequencia.rename(index = periodo, inplace = True)\n",
        "frequencia.rename_axis('Período', axis = 'index', inplace  = True)\n",
        "frequencia"
      ],
      "metadata": {
        "colab": {
          "base_uri": "https://localhost:8080/",
          "height": 143
        },
        "id": "gWHx2cI2PW8p",
        "outputId": "45853985-8285-4479-e590-0eed17c3fb37"
      },
      "execution_count": null,
      "outputs": [
        {
          "output_type": "execute_result",
          "data": {
            "text/plain": [
              "regiao-BR     Centro-Oeste  Nordeste  Norte  Sudeste  Sul\n",
              "Período                                                  \n",
              "pós pandemia             8        25      9       18   42\n",
              "pré pandemia            17        26      8       21   29"
            ],
            "text/html": [
              "\n",
              "  <div id=\"df-7b7dc665-8d1c-4267-9f12-0a03b63009fd\">\n",
              "    <div class=\"colab-df-container\">\n",
              "      <div>\n",
              "<style scoped>\n",
              "    .dataframe tbody tr th:only-of-type {\n",
              "        vertical-align: middle;\n",
              "    }\n",
              "\n",
              "    .dataframe tbody tr th {\n",
              "        vertical-align: top;\n",
              "    }\n",
              "\n",
              "    .dataframe thead th {\n",
              "        text-align: right;\n",
              "    }\n",
              "</style>\n",
              "<table border=\"1\" class=\"dataframe\">\n",
              "  <thead>\n",
              "    <tr style=\"text-align: right;\">\n",
              "      <th>regiao-BR</th>\n",
              "      <th>Centro-Oeste</th>\n",
              "      <th>Nordeste</th>\n",
              "      <th>Norte</th>\n",
              "      <th>Sudeste</th>\n",
              "      <th>Sul</th>\n",
              "    </tr>\n",
              "    <tr>\n",
              "      <th>Período</th>\n",
              "      <th></th>\n",
              "      <th></th>\n",
              "      <th></th>\n",
              "      <th></th>\n",
              "      <th></th>\n",
              "    </tr>\n",
              "  </thead>\n",
              "  <tbody>\n",
              "    <tr>\n",
              "      <th>pós pandemia</th>\n",
              "      <td>8</td>\n",
              "      <td>25</td>\n",
              "      <td>9</td>\n",
              "      <td>18</td>\n",
              "      <td>42</td>\n",
              "    </tr>\n",
              "    <tr>\n",
              "      <th>pré pandemia</th>\n",
              "      <td>17</td>\n",
              "      <td>26</td>\n",
              "      <td>8</td>\n",
              "      <td>21</td>\n",
              "      <td>29</td>\n",
              "    </tr>\n",
              "  </tbody>\n",
              "</table>\n",
              "</div>\n",
              "      <button class=\"colab-df-convert\" onclick=\"convertToInteractive('df-7b7dc665-8d1c-4267-9f12-0a03b63009fd')\"\n",
              "              title=\"Convert this dataframe to an interactive table.\"\n",
              "              style=\"display:none;\">\n",
              "        \n",
              "  <svg xmlns=\"http://www.w3.org/2000/svg\" height=\"24px\"viewBox=\"0 0 24 24\"\n",
              "       width=\"24px\">\n",
              "    <path d=\"M0 0h24v24H0V0z\" fill=\"none\"/>\n",
              "    <path d=\"M18.56 5.44l.94 2.06.94-2.06 2.06-.94-2.06-.94-.94-2.06-.94 2.06-2.06.94zm-11 1L8.5 8.5l.94-2.06 2.06-.94-2.06-.94L8.5 2.5l-.94 2.06-2.06.94zm10 10l.94 2.06.94-2.06 2.06-.94-2.06-.94-.94-2.06-.94 2.06-2.06.94z\"/><path d=\"M17.41 7.96l-1.37-1.37c-.4-.4-.92-.59-1.43-.59-.52 0-1.04.2-1.43.59L10.3 9.45l-7.72 7.72c-.78.78-.78 2.05 0 2.83L4 21.41c.39.39.9.59 1.41.59.51 0 1.02-.2 1.41-.59l7.78-7.78 2.81-2.81c.8-.78.8-2.07 0-2.86zM5.41 20L4 18.59l7.72-7.72 1.47 1.35L5.41 20z\"/>\n",
              "  </svg>\n",
              "      </button>\n",
              "      \n",
              "  <style>\n",
              "    .colab-df-container {\n",
              "      display:flex;\n",
              "      flex-wrap:wrap;\n",
              "      gap: 12px;\n",
              "    }\n",
              "\n",
              "    .colab-df-convert {\n",
              "      background-color: #E8F0FE;\n",
              "      border: none;\n",
              "      border-radius: 50%;\n",
              "      cursor: pointer;\n",
              "      display: none;\n",
              "      fill: #1967D2;\n",
              "      height: 32px;\n",
              "      padding: 0 0 0 0;\n",
              "      width: 32px;\n",
              "    }\n",
              "\n",
              "    .colab-df-convert:hover {\n",
              "      background-color: #E2EBFA;\n",
              "      box-shadow: 0px 1px 2px rgba(60, 64, 67, 0.3), 0px 1px 3px 1px rgba(60, 64, 67, 0.15);\n",
              "      fill: #174EA6;\n",
              "    }\n",
              "\n",
              "    [theme=dark] .colab-df-convert {\n",
              "      background-color: #3B4455;\n",
              "      fill: #D2E3FC;\n",
              "    }\n",
              "\n",
              "    [theme=dark] .colab-df-convert:hover {\n",
              "      background-color: #434B5C;\n",
              "      box-shadow: 0px 1px 3px 1px rgba(0, 0, 0, 0.15);\n",
              "      filter: drop-shadow(0px 1px 2px rgba(0, 0, 0, 0.3));\n",
              "      fill: #FFFFFF;\n",
              "    }\n",
              "  </style>\n",
              "\n",
              "      <script>\n",
              "        const buttonEl =\n",
              "          document.querySelector('#df-7b7dc665-8d1c-4267-9f12-0a03b63009fd button.colab-df-convert');\n",
              "        buttonEl.style.display =\n",
              "          google.colab.kernel.accessAllowed ? 'block' : 'none';\n",
              "\n",
              "        async function convertToInteractive(key) {\n",
              "          const element = document.querySelector('#df-7b7dc665-8d1c-4267-9f12-0a03b63009fd');\n",
              "          const dataTable =\n",
              "            await google.colab.kernel.invokeFunction('convertToInteractive',\n",
              "                                                     [key], {});\n",
              "          if (!dataTable) return;\n",
              "\n",
              "          const docLinkHtml = 'Like what you see? Visit the ' +\n",
              "            '<a target=\"_blank\" href=https://colab.research.google.com/notebooks/data_table.ipynb>data table notebook</a>'\n",
              "            + ' to learn more about interactive tables.';\n",
              "          element.innerHTML = '';\n",
              "          dataTable['output_type'] = 'display_data';\n",
              "          await google.colab.output.renderOutput(dataTable, element);\n",
              "          const docLink = document.createElement('div');\n",
              "          docLink.innerHTML = docLinkHtml;\n",
              "          element.appendChild(docLink);\n",
              "        }\n",
              "      </script>\n",
              "    </div>\n",
              "  </div>\n",
              "  "
            ]
          },
          "metadata": {},
          "execution_count": 21
        }
      ]
    },
    {
      "cell_type": "code",
      "source": [
        "frequencia.plot.bar(figsize = (15,10), rot=0)\n",
        "plt.xlabel(\"Período Analisado\")\n",
        "plt.ylabel(\"Quantidade de consumidores\")\n",
        "plt.title(\"Quantidade de consumidores por região antes e depois da pandemia\")\n",
        "plt.show"
      ],
      "metadata": {
        "colab": {
          "base_uri": "https://localhost:8080/",
          "height": 639
        },
        "id": "CqXk7xFNPZRs",
        "outputId": "10ee95b0-a54c-40bc-d230-51c5883ac6fd"
      },
      "execution_count": null,
      "outputs": [
        {
          "output_type": "execute_result",
          "data": {
            "text/plain": [
              "<function matplotlib.pyplot.show(close=None, block=None)>"
            ]
          },
          "metadata": {},
          "execution_count": 22
        },
        {
          "output_type": "display_data",
          "data": {
            "text/plain": [
              "<Figure size 1080x720 with 1 Axes>"
            ],
            "image/png": "[encoded data removed]"
          },
          "metadata": {
            "needs_background": "light"
          }
        }
      ]
    },
    {
      "cell_type": "markdown",
      "source": [
        "#### Analisando os produtos"
      ],
      "metadata": {
        "id": "E-XhF3EhPehK"
      }
    },
    {
      "cell_type": "code",
      "source": [
        "frequencia_P = pd.crosstab(dados['pre-pandemia'], \n",
        "                           dados['produto'])\n",
        "frequencia_P.rename(index = periodo, inplace = True)\n",
        "frequencia_P.rename_axis('Período', axis = 'index', inplace  = True)\n",
        "frequencia_P "
      ],
      "metadata": {
        "colab": {
          "base_uri": "https://localhost:8080/",
          "height": 143
        },
        "id": "VI9TTepHPbm_",
        "outputId": "8d7a19e2-cf36-4b14-efd4-f9eab9d214c6"
      },
      "execution_count": null,
      "outputs": [
        {
          "output_type": "execute_result",
          "data": {
            "text/plain": [
              "produto       antissinais  base  batom  desodorante  perfume  sombra\n",
              "Período                                                             \n",
              "pós pandemia           20     4     15           46        8       9\n",
              "pré pandemia            9     3     61           20        4       4"
            ],
            "text/html": [
              "\n",
              "  <div id=\"df-71af2b39-2d60-4951-9184-f531e51a058c\">\n",
              "    <div class=\"colab-df-container\">\n",
              "      <div>\n",
              "<style scoped>\n",
              "    .dataframe tbody tr th:only-of-type {\n",
              "        vertical-align: middle;\n",
              "    }\n",
              "\n",
              "    .dataframe tbody tr th {\n",
              "        vertical-align: top;\n",
              "    }\n",
              "\n",
              "    .dataframe thead th {\n",
              "        text-align: right;\n",
              "    }\n",
              "</style>\n",
              "<table border=\"1\" class=\"dataframe\">\n",
              "  <thead>\n",
              "    <tr style=\"text-align: right;\">\n",
              "      <th>produto</th>\n",
              "      <th>antissinais</th>\n",
              "      <th>base</th>\n",
              "      <th>batom</th>\n",
              "      <th>desodorante</th>\n",
              "      <th>perfume</th>\n",
              "      <th>sombra</th>\n",
              "    </tr>\n",
              "    <tr>\n",
              "      <th>Período</th>\n",
              "      <th></th>\n",
              "      <th></th>\n",
              "      <th></th>\n",
              "      <th></th>\n",
              "      <th></th>\n",
              "      <th></th>\n",
              "    </tr>\n",
              "  </thead>\n",
              "  <tbody>\n",
              "    <tr>\n",
              "      <th>pós pandemia</th>\n",
              "      <td>20</td>\n",
              "      <td>4</td>\n",
              "      <td>15</td>\n",
              "      <td>46</td>\n",
              "      <td>8</td>\n",
              "      <td>9</td>\n",
              "    </tr>\n",
              "    <tr>\n",
              "      <th>pré pandemia</th>\n",
              "      <td>9</td>\n",
              "      <td>3</td>\n",
              "      <td>61</td>\n",
              "      <td>20</td>\n",
              "      <td>4</td>\n",
              "      <td>4</td>\n",
              "    </tr>\n",
              "  </tbody>\n",
              "</table>\n",
              "</div>\n",
              "      <button class=\"colab-df-convert\" onclick=\"convertToInteractive('df-71af2b39-2d60-4951-9184-f531e51a058c')\"\n",
              "              title=\"Convert this dataframe to an interactive table.\"\n",
              "              style=\"display:none;\">\n",
              "        \n",
              "  <svg xmlns=\"http://www.w3.org/2000/svg\" height=\"24px\"viewBox=\"0 0 24 24\"\n",
              "       width=\"24px\">\n",
              "    <path d=\"M0 0h24v24H0V0z\" fill=\"none\"/>\n",
              "    <path d=\"M18.56 5.44l.94 2.06.94-2.06 2.06-.94-2.06-.94-.94-2.06-.94 2.06-2.06.94zm-11 1L8.5 8.5l.94-2.06 2.06-.94-2.06-.94L8.5 2.5l-.94 2.06-2.06.94zm10 10l.94 2.06.94-2.06 2.06-.94-2.06-.94-.94-2.06-.94 2.06-2.06.94z\"/><path d=\"M17.41 7.96l-1.37-1.37c-.4-.4-.92-.59-1.43-.59-.52 0-1.04.2-1.43.59L10.3 9.45l-7.72 7.72c-.78.78-.78 2.05 0 2.83L4 21.41c.39.39.9.59 1.41.59.51 0 1.02-.2 1.41-.59l7.78-7.78 2.81-2.81c.8-.78.8-2.07 0-2.86zM5.41 20L4 18.59l7.72-7.72 1.47 1.35L5.41 20z\"/>\n",
              "  </svg>\n",
              "      </button>\n",
              "      \n",
              "  <style>\n",
              "    .colab-df-container {\n",
              "      display:flex;\n",
              "      flex-wrap:wrap;\n",
              "      gap: 12px;\n",
              "    }\n",
              "\n",
              "    .colab-df-convert {\n",
              "      background-color: #E8F0FE;\n",
              "      border: none;\n",
              "      border-radius: 50%;\n",
              "      cursor: pointer;\n",
              "      display: none;\n",
              "      fill: #1967D2;\n",
              "      height: 32px;\n",
              "      padding: 0 0 0 0;\n",
              "      width: 32px;\n",
              "    }\n",
              "\n",
              "    .colab-df-convert:hover {\n",
              "      background-color: #E2EBFA;\n",
              "      box-shadow: 0px 1px 2px rgba(60, 64, 67, 0.3), 0px 1px 3px 1px rgba(60, 64, 67, 0.15);\n",
              "      fill: #174EA6;\n",
              "    }\n",
              "\n",
              "    [theme=dark] .colab-df-convert {\n",
              "      background-color: #3B4455;\n",
              "      fill: #D2E3FC;\n",
              "    }\n",
              "\n",
              "    [theme=dark] .colab-df-convert:hover {\n",
              "      background-color: #434B5C;\n",
              "      box-shadow: 0px 1px 3px 1px rgba(0, 0, 0, 0.15);\n",
              "      filter: drop-shadow(0px 1px 2px rgba(0, 0, 0, 0.3));\n",
              "      fill: #FFFFFF;\n",
              "    }\n",
              "  </style>\n",
              "\n",
              "      <script>\n",
              "        const buttonEl =\n",
              "          document.querySelector('#df-71af2b39-2d60-4951-9184-f531e51a058c button.colab-df-convert');\n",
              "        buttonEl.style.display =\n",
              "          google.colab.kernel.accessAllowed ? 'block' : 'none';\n",
              "\n",
              "        async function convertToInteractive(key) {\n",
              "          const element = document.querySelector('#df-71af2b39-2d60-4951-9184-f531e51a058c');\n",
              "          const dataTable =\n",
              "            await google.colab.kernel.invokeFunction('convertToInteractive',\n",
              "                                                     [key], {});\n",
              "          if (!dataTable) return;\n",
              "\n",
              "          const docLinkHtml = 'Like what you see? Visit the ' +\n",
              "            '<a target=\"_blank\" href=https://colab.research.google.com/notebooks/data_table.ipynb>data table notebook</a>'\n",
              "            + ' to learn more about interactive tables.';\n",
              "          element.innerHTML = '';\n",
              "          dataTable['output_type'] = 'display_data';\n",
              "          await google.colab.output.renderOutput(dataTable, element);\n",
              "          const docLink = document.createElement('div');\n",
              "          docLink.innerHTML = docLinkHtml;\n",
              "          element.appendChild(docLink);\n",
              "        }\n",
              "      </script>\n",
              "    </div>\n",
              "  </div>\n",
              "  "
            ]
          },
          "metadata": {},
          "execution_count": 23
        }
      ]
    },
    {
      "cell_type": "code",
      "source": [
        "frequencia_P.plot.bar(figsize = (15,10), rot=0)\n",
        "plt.xlabel(\"Período Analisado\")\n",
        "plt.ylabel(\"Quantidade vendida\")\n",
        "plt.title(\"Quantidade de produtos vendidos antes e depois da pandemia\")\n",
        "plt.show"
      ],
      "metadata": {
        "colab": {
          "base_uri": "https://localhost:8080/",
          "height": 639
        },
        "id": "w9ZO1TTlPhVl",
        "outputId": "f46a6cbc-75c7-4112-870e-d0cf8b5c3a66"
      },
      "execution_count": null,
      "outputs": [
        {
          "output_type": "execute_result",
          "data": {
            "text/plain": [
              "<function matplotlib.pyplot.show(close=None, block=None)>"
            ]
          },
          "metadata": {},
          "execution_count": 24
        },
        {
          "output_type": "display_data",
          "data": {
            "text/plain": [
              "<Figure size 1080x720 with 1 Axes>"
            ],
            "image/png": "[encoded data removed]"
          },
          "metadata": {
            "needs_background": "light"
          }
        }
      ]
    },
    {
      "cell_type": "markdown",
      "source": [
        "#### Analisando as idades"
      ],
      "metadata": {
        "id": "9YfV2AIwPmYW"
      }
    },
    {
      "cell_type": "markdown",
      "source": [
        "Analisando o conjunto como um todo"
      ],
      "metadata": {
        "id": "0HYW9iKkPpHg"
      }
    },
    {
      "cell_type": "code",
      "source": [
        "mais_velho = dados['idade'].max()\n",
        "mais_novo = dados['idade'].min()\n",
        "media_idade = dados['idade'].mean()\n",
        "mediana_idade = dados['idade'].median()\n",
        "moda_idade = dados['idade'].mode()\n",
        "desvio_padrao_idade = dados['idade'].std()\n",
        "\n",
        "print(\"ANÁLISES DOS DADOS GERAIS:\\n\")\n",
        "print(f'A idade da pessoa mais velha é {mais_velho} anos')\n",
        "print(f'A idade da pessoa mais nova é {mais_novo} anos')\n",
        "print(f'A média das idades de todas as pessoas é {media_idade:.2f} anos')\n",
        "print(f'A mediana das idades de todas as pessoa é {mediana_idade} anos')\n",
        "print(f'O desvio padrão das idades das pessoas é {desvio_padrao_idade:.2f} anos')\n",
        "print(\"A Moda das idades %i\" % moda_idade)"
      ],
      "metadata": {
        "colab": {
          "base_uri": "https://localhost:8080/"
        },
        "id": "vSanzlwTPjhH",
        "outputId": "b6ae5a55-18cb-4b94-8455-1f01e480210f"
      },
      "execution_count": null,
      "outputs": [
        {
          "output_type": "stream",
          "name": "stdout",
          "text": [
            "ANÁLISES DOS DADOS GERAIS:\n",
            "\n",
            "A idade da pessoa mais velha é 80 anos\n",
            "A idade da pessoa mais nova é 15 anos\n",
            "A média das idades de todas as pessoas é 42.40 anos\n",
            "A mediana das idades de todas as pessoa é 41.0 anos\n",
            "O desvio padrão das idades das pessoas é 14.40 anos\n",
            "A Moda das idades 37\n"
          ]
        }
      ]
    },
    {
      "cell_type": "markdown",
      "source": [
        "Analisando pré-pandemia "
      ],
      "metadata": {
        "id": "VDv58SvuPunz"
      }
    },
    {
      "cell_type": "code",
      "source": [
        "mais_velho_p = pre_pandemia['idade'].max()\n",
        "mais_novo_p = pre_pandemia['idade'].min()\n",
        "media_idade_p = pre_pandemia['idade'].mean()\n",
        "mediana_idade_p = pre_pandemia['idade'].median()\n",
        "desvio_padrao_idade_p = pre_pandemia['idade'].std()\n",
        "\n",
        "print(\"ANÁLISES DOS DADOS PRE PANDEMIA:\\n\")\n",
        "print(f'A idade da pessoa mais velha é {mais_velho_p} anos')\n",
        "print(f'A idade da pessoa mais nova é {mais_novo_p} anos')\n",
        "print(f'A média das idades de todas as pessoas é {media_idade_p:.2f} anos')\n",
        "print(f'A mediana das idades de todas as pessoa é {mediana_idade_p} anos')\n",
        "print(f'O desvio padrão das idades das pessoas é {desvio_padrao_idade_p:.2f} anos')"
      ],
      "metadata": {
        "colab": {
          "base_uri": "https://localhost:8080/"
        },
        "id": "XQ48lgTXPsAn",
        "outputId": "61b5e9f5-176f-4828-e1f8-32ed3c996a57"
      },
      "execution_count": null,
      "outputs": [
        {
          "output_type": "stream",
          "name": "stdout",
          "text": [
            "ANÁLISES DOS DADOS PRE PANDEMIA:\n",
            "\n",
            "A idade da pessoa mais velha é 80 anos\n",
            "A idade da pessoa mais nova é 16 anos\n",
            "A média das idades de todas as pessoas é 39.88 anos\n",
            "A mediana das idades de todas as pessoa é 37.0 anos\n",
            "O desvio padrão das idades das pessoas é 15.02 anos\n"
          ]
        }
      ]
    },
    {
      "cell_type": "markdown",
      "source": [
        "Analisando pós-pandemia "
      ],
      "metadata": {
        "id": "m2H3pWgpPzm7"
      }
    },
    {
      "cell_type": "code",
      "source": [
        "mais_velho_pp = pos_pandemia['idade'].max()\n",
        "mais_novo_pp = pos_pandemia['idade'].min()\n",
        "media_idade_pp = pos_pandemia['idade'].mean()\n",
        "mediana_idade_pp = pos_pandemia['idade'].median()\n",
        "desvio_padrao_idade_pp = pos_pandemia['idade'].std()\n",
        "\n",
        "print(\"ANÁLISES DOS DADOS PÓS PANDEMIA:\\n\")\n",
        "print(f'A idade da pessoa mais velha é {mais_velho_pp} anos')\n",
        "print(f'A idade da pessoa mais nova é {mais_novo_pp} anos')\n",
        "print(f'A média das idades de todas as pessoas é {media_idade_pp:.2f} anos')\n",
        "print(f'A mediana das idades de todas as pessoa é {mediana_idade_pp} anos')\n",
        "print(f'O desvio padrão das idades das pessoas é {desvio_padrao_idade_pp:.2f} anos')"
      ],
      "metadata": {
        "colab": {
          "base_uri": "https://localhost:8080/"
        },
        "id": "hEGump2DPxcO",
        "outputId": "6e8dacde-0cf0-4620-f1b1-fad97fa26223"
      },
      "execution_count": null,
      "outputs": [
        {
          "output_type": "stream",
          "name": "stdout",
          "text": [
            "ANÁLISES DOS DADOS PÓS PANDEMIA:\n",
            "\n",
            "A idade da pessoa mais velha é 77 anos\n",
            "A idade da pessoa mais nova é 15 anos\n",
            "A média das idades de todas as pessoas é 44.90 anos\n",
            "A mediana das idades de todas as pessoa é 46.0 anos\n",
            "O desvio padrão das idades das pessoas é 13.37 anos\n"
          ]
        }
      ]
    },
    {
      "cell_type": "code",
      "source": [
        "ax = sns.boxplot(x='pre-pandemia', y = 'idade', data = dados)\n",
        "ax.set_title('Variação da Idade antes e após a pandemia', fontsize=18)\n",
        "ax.set_xlabel('Período Analisado', fontsize=14)\n",
        "ax.set_ylabel('Idade', fontsize=14)\n",
        "ax.figure.set_size_inches(8, 4)\n",
        "plt.xticks(rotation = 0)"
      ],
      "metadata": {
        "colab": {
          "base_uri": "https://localhost:8080/",
          "height": 321
        },
        "id": "yj5iNMJ0P2sE",
        "outputId": "01cbdca6-a9c9-4be7-e74f-9c56528e1d6b"
      },
      "execution_count": null,
      "outputs": [
        {
          "output_type": "execute_result",
          "data": {
            "text/plain": [
              "(array([0, 1]), [Text(0, 0, '0'), Text(1, 0, '1')])"
            ]
          },
          "metadata": {},
          "execution_count": 28
        },
        {
          "output_type": "display_data",
          "data": {
            "text/plain": [
              "<Figure size 576x288 with 1 Axes>"
            ],
            "image/png": "[encoded data removed]"
          },
          "metadata": {
            "needs_background": "light"
          }
        }
      ]
    },
    {
      "cell_type": "code",
      "source": [
        "ax = sns.distplot(dados['idade'], bins=10)\n",
        "ax.figure.set_size_inches(12,6)\n",
        "ax"
      ],
      "metadata": {
        "colab": {
          "base_uri": "https://localhost:8080/",
          "height": 460
        },
        "id": "zK9z3LFqP5UY",
        "outputId": "de529f96-93ce-4441-dcd6-f39340188da4"
      },
      "execution_count": null,
      "outputs": [
        {
          "output_type": "stream",
          "name": "stderr",
          "text": [
            "/usr/local/lib/python3.8/dist-packages/seaborn/distributions.py:2619: FutureWarning: `distplot` is a deprecated function and will be removed in a future version. Please adapt your code to use either `displot` (a figure-level function with similar flexibility) or `histplot` (an axes-level function for histograms).\n",
            "  warnings.warn(msg, FutureWarning)\n"
          ]
        },
        {
          "output_type": "execute_result",
          "data": {
            "text/plain": [
              "<AxesSubplot:xlabel='idade', ylabel='Density'>"
            ]
          },
          "metadata": {},
          "execution_count": 29
        },
        {
          "output_type": "display_data",
          "data": {
            "text/plain": [
              "<Figure size 864x432 with 1 Axes>"
            ],
            "image/png": "[encoded data removed]"
          },
          "metadata": {
            "needs_background": "light"
          }
        }
      ]
    },
    {
      "cell_type": "markdown",
      "source": [
        "#### Analisando a renda"
      ],
      "metadata": {
        "id": "pZwXOmFKP-Xw"
      }
    },
    {
      "cell_type": "code",
      "source": [
        "maior_renda= dados[dados['pre-pandemia'] == 1]['renda'].max()\n",
        "maior_renda"
      ],
      "metadata": {
        "colab": {
          "base_uri": "https://localhost:8080/"
        },
        "id": "JHs7zZtoP8Cm",
        "outputId": "54371f5c-cade-4a21-bae6-12887b9702c9"
      },
      "execution_count": null,
      "outputs": [
        {
          "output_type": "execute_result",
          "data": {
            "text/plain": [
              "24090"
            ]
          },
          "metadata": {},
          "execution_count": 30
        }
      ]
    },
    {
      "cell_type": "markdown",
      "source": [
        "Analisando o conjunto como um todo"
      ],
      "metadata": {
        "id": "twI_64esQFKQ"
      }
    },
    {
      "cell_type": "code",
      "source": [
        "maior_renda = dados['renda'].max()\n",
        "menor_renda = dados['renda'].min()\n",
        "renda_media = dados['renda'].mean()\n",
        "renda_mediana = dados['renda'].median()\n",
        "desvio_padrao_renda = dados['renda'].std()\n",
        "\n",
        "print(\"ANÁLISES DOS DADOS GERAIS:\\n\")\n",
        "print(f'A maior renda é {maior_renda} reais')\n",
        "print(f'A menor renda é {menor_renda} reais')\n",
        "print(f'A renda média é {renda_media:.2f} reais')\n",
        "print(f'A mediana das rendas é {renda_mediana} reais')\n",
        "print(f'O desvio padrão das rendas é {desvio_padrao_renda:.2f} reais')"
      ],
      "metadata": {
        "colab": {
          "base_uri": "https://localhost:8080/"
        },
        "id": "QibZ44a5QC-m",
        "outputId": "d24ae164-719b-4a5d-ad36-7b12b9295a8a"
      },
      "execution_count": null,
      "outputs": [
        {
          "output_type": "stream",
          "name": "stdout",
          "text": [
            "ANÁLISES DOS DADOS GERAIS:\n",
            "\n",
            "A maior renda é 30000 reais\n",
            "A menor renda é 110 reais\n",
            "A renda média é 11586.36 reais\n",
            "A mediana das rendas é 11145.0 reais\n",
            "O desvio padrão das rendas é 6288.02 reais\n"
          ]
        }
      ]
    },
    {
      "cell_type": "markdown",
      "source": [
        "Analisando os dados de renda pré pandemia"
      ],
      "metadata": {
        "id": "pGDHV1S-QK0v"
      }
    },
    {
      "cell_type": "code",
      "source": [
        "maior_renda_p = pre_pandemia['renda'].max()\n",
        "menor_renda_p = pre_pandemia['renda'].min()\n",
        "renda_media_p = pre_pandemia['renda'].mean()\n",
        "renda_mediana_p = pre_pandemia['renda'].median()\n",
        "desvio_padrao_renda_p = pre_pandemia['renda'].std()\n",
        "\n",
        "print(\"ANÁLISES DOS DADOS PRE PANDEMIA:\\n\")\n",
        "print(f'A maior renda é {maior_renda_p} reais')\n",
        "print(f'A menor renda é {menor_renda_p} reais')\n",
        "print(f'A renda média é  {renda_media_p:.2f} reais')\n",
        "print(f'A mediana das rendas é {renda_mediana_p} reais')\n",
        "print(f'O desvio padrão das rendas é {desvio_padrao_renda_p:.2f} reais')"
      ],
      "metadata": {
        "colab": {
          "base_uri": "https://localhost:8080/"
        },
        "id": "Tf1KxKWQQHyt",
        "outputId": "9e86d645-c311-4015-f2d2-c98be158d8be"
      },
      "execution_count": null,
      "outputs": [
        {
          "output_type": "stream",
          "name": "stdout",
          "text": [
            "ANÁLISES DOS DADOS PRE PANDEMIA:\n",
            "\n",
            "A maior renda é 24090 reais\n",
            "A menor renda é 110 reais\n",
            "A renda média é  9180.64 reais\n",
            "A mediana das rendas é 7488.0 reais\n",
            "O desvio padrão das rendas é 6007.68 reais\n"
          ]
        }
      ]
    },
    {
      "cell_type": "markdown",
      "source": [
        "Analisando os dados de renda pós pandemia"
      ],
      "metadata": {
        "id": "6obwP1r7QRL5"
      }
    },
    {
      "cell_type": "code",
      "source": [
        "maior_renda_pp = pos_pandemia['renda'].max()\n",
        "menor_renda_pp = pos_pandemia['renda'].min()\n",
        "renda_media_pp = pos_pandemia['renda'].mean()\n",
        "renda_mediana_pp = pos_pandemia['renda'].median()\n",
        "desvio_padrao_renda_pp = pos_pandemia['renda'].std()\n",
        "\n",
        "print(\"ANÁLISES DOS DADOS POS PANDEMIA:\\n\")\n",
        "print(f'A maior renda é {maior_renda_pp} reais')\n",
        "print(f'A menor renda é {menor_renda_pp} reais')\n",
        "print(f'A renda média é  {renda_media_pp:.2f} reais')\n",
        "print(f'A mediana das rendas é {renda_mediana_pp} reais')\n",
        "print(f'O desvio padrão das rendas é {desvio_padrao_renda_pp:.2f} reais')"
      ],
      "metadata": {
        "colab": {
          "base_uri": "https://localhost:8080/"
        },
        "id": "tTCUEMSDQN3T",
        "outputId": "ae2806bc-29c3-4aee-abae-0f3ea2478db4"
      },
      "execution_count": null,
      "outputs": [
        {
          "output_type": "stream",
          "name": "stdout",
          "text": [
            "ANÁLISES DOS DADOS POS PANDEMIA:\n",
            "\n",
            "A maior renda é 30000 reais\n",
            "A menor renda é 1995 reais\n",
            "A renda média é  13968.50 reais\n",
            "A mediana das rendas é 13380.5 reais\n",
            "O desvio padrão das rendas é 5641.38 reais\n"
          ]
        }
      ]
    },
    {
      "cell_type": "code",
      "source": [
        "ax = sns.boxplot(x='pre-pandemia', y = 'renda', data = dados)\n",
        "ax.set_title('Variação da renda dos consumidores antes e após a pandemia', fontsize=18)\n",
        "ax.set_xlabel('Período Analisado', fontsize=14)\n",
        "ax.set_ylabel('Renda', fontsize=14)\n",
        "ax.figure.set_size_inches(8, 4)\n",
        "plt.xticks(rotation = 0)"
      ],
      "metadata": {
        "colab": {
          "base_uri": "https://localhost:8080/",
          "height": 321
        },
        "id": "sxBvH3E5QT-6",
        "outputId": "10e46752-077d-45a9-8784-ac2e214380d6"
      },
      "execution_count": null,
      "outputs": [
        {
          "output_type": "execute_result",
          "data": {
            "text/plain": [
              "(array([0, 1]), [Text(0, 0, '0'), Text(1, 0, '1')])"
            ]
          },
          "metadata": {},
          "execution_count": 34
        },
        {
          "output_type": "display_data",
          "data": {
            "text/plain": [
              "<Figure size 576x288 with 1 Axes>"
            ],
            "image/png": "[encoded data removed]"
          },
          "metadata": {
            "needs_background": "light"
          }
        }
      ]
    },
    {
      "cell_type": "code",
      "source": [
        "ax = sns.distplot(dados['renda'], bins=10)\n",
        "ax.figure.set_size_inches(12,6)\n",
        "ax"
      ],
      "metadata": {
        "colab": {
          "base_uri": "https://localhost:8080/",
          "height": 471
        },
        "id": "00sItOx1QZ30",
        "outputId": "2018b06d-579d-4264-b451-383556a0fb5c"
      },
      "execution_count": null,
      "outputs": [
        {
          "output_type": "stream",
          "name": "stderr",
          "text": [
            "/usr/local/lib/python3.8/dist-packages/seaborn/distributions.py:2619: FutureWarning: `distplot` is a deprecated function and will be removed in a future version. Please adapt your code to use either `displot` (a figure-level function with similar flexibility) or `histplot` (an axes-level function for histograms).\n",
            "  warnings.warn(msg, FutureWarning)\n"
          ]
        },
        {
          "output_type": "execute_result",
          "data": {
            "text/plain": [
              "<AxesSubplot:xlabel='renda', ylabel='Density'>"
            ]
          },
          "metadata": {},
          "execution_count": 35
        },
        {
          "output_type": "display_data",
          "data": {
            "text/plain": [
              "<Figure size 864x432 with 1 Axes>"
            ],
            "image/png": "[encoded data removed]"
          },
          "metadata": {
            "needs_background": "light"
          }
        }
      ]
    },
    {
      "cell_type": "markdown",
      "source": [
        "# 2 - Você notou diferenças nítidas pré e pós pandemia? Como você poderia provar estatisticamente que essas diferenças são significativas ? "
      ],
      "metadata": {
        "id": "VXAUoaV4Qeno"
      }
    },
    {
      "cell_type": "markdown",
      "source": [
        "# <font color=green>Resposta da quetão:</font>\n",
        "\n",
        "<font color=green>Em termos de quantidade, não houve alteração significativa na quantidade vendida antes e depois da pandemia.\n",
        "Região:\n",
        "Antes da pandemia, não tinha nenhuma região com um consumo mais acentuado comparada às demais, porém após a pandemia, a região Sul passou a ter um papel muito mais acentuado comparado as demais\n",
        "Produtos:\n",
        "Antes da pandemia, o produto mais vendido era o batom, e após a pandemia passou a ser o desodorante, seguido dos antissinais e pelo batom\n",
        "Renda: a renda média dos consumidores pós pandemia aumentou, e a dispersão foi menor\n",
        "Idade: a idade média pós pandemia aumentou em comparação a média pré pandemia</font>"
      ],
      "metadata": {
        "id": "QMr6-obmQi2g"
      }
    },
    {
      "cell_type": "code",
      "source": [
        "ax = sns.distplot(pre_pandemia['renda'])\n",
        "ax.figure.set_size_inches(12,6)\n",
        "ax"
      ],
      "metadata": {
        "colab": {
          "base_uri": "https://localhost:8080/",
          "height": 471
        },
        "id": "_ZXeMWfzQcDa",
        "outputId": "b37aafe4-7f5b-4b15-b14e-750e9ebde830"
      },
      "execution_count": null,
      "outputs": [
        {
          "output_type": "stream",
          "name": "stderr",
          "text": [
            "/usr/local/lib/python3.8/dist-packages/seaborn/distributions.py:2619: FutureWarning: `distplot` is a deprecated function and will be removed in a future version. Please adapt your code to use either `displot` (a figure-level function with similar flexibility) or `histplot` (an axes-level function for histograms).\n",
            "  warnings.warn(msg, FutureWarning)\n"
          ]
        },
        {
          "output_type": "execute_result",
          "data": {
            "text/plain": [
              "<AxesSubplot:xlabel='renda', ylabel='Density'>"
            ]
          },
          "metadata": {},
          "execution_count": 36
        },
        {
          "output_type": "display_data",
          "data": {
            "text/plain": [
              "<Figure size 864x432 with 1 Axes>"
            ],
            "image/png": "[encoded data removed]"
          },
          "metadata": {
            "needs_background": "light"
          }
        }
      ]
    },
    {
      "cell_type": "code",
      "source": [
        "ax = sns.distplot(pos_pandemia['renda'])\n",
        "ax.figure.set_size_inches(12,6)\n",
        "ax"
      ],
      "metadata": {
        "colab": {
          "base_uri": "https://localhost:8080/",
          "height": 471
        },
        "id": "X_v1t_MqTaC6",
        "outputId": "049bd7a8-0f69-468b-e8f4-4296172b23e9"
      },
      "execution_count": null,
      "outputs": [
        {
          "output_type": "stream",
          "name": "stderr",
          "text": [
            "/usr/local/lib/python3.8/dist-packages/seaborn/distributions.py:2619: FutureWarning: `distplot` is a deprecated function and will be removed in a future version. Please adapt your code to use either `displot` (a figure-level function with similar flexibility) or `histplot` (an axes-level function for histograms).\n",
            "  warnings.warn(msg, FutureWarning)\n"
          ]
        },
        {
          "output_type": "execute_result",
          "data": {
            "text/plain": [
              "<AxesSubplot:xlabel='renda', ylabel='Density'>"
            ]
          },
          "metadata": {},
          "execution_count": 37
        },
        {
          "output_type": "display_data",
          "data": {
            "text/plain": [
              "<Figure size 864x432 with 1 Axes>"
            ],
            "image/png": "[encoded data removed]"
          },
          "metadata": {
            "needs_background": "light"
          }
        }
      ]
    },
    {
      "cell_type": "markdown",
      "source": [
        "## 3 - Suponha agora que os dados recebidos são somente uma amostra da sua população total de clientes. Suponha que a sua \"população\" de clientes verdadeira é de 100000. Qual o tamanho da amostra necessária para chegarmos a conclusões com 95% de confiança e 2% de margem de erro? A base informada é suficiente? E com uma margem de erro de 10%?"
      ],
      "metadata": {
        "id": "F-C6D57GTfCe"
      }
    },
    {
      "cell_type": "markdown",
      "source": [
        "Observações:\n",
        "\n",
        "O desvio padrão ( σ ou s ) e o erro ( e ) devem estar na mesma unidade de medida.\n",
        "\n",
        "Quando o erro ( e ) for representado em termos percentuais, deve ser interpretado como um percentual relacionado à média."
      ],
      "metadata": {
        "id": "yjgJuplNTjNW"
      }
    },
    {
      "cell_type": "code",
      "source": [
        "N = 100000\n",
        "N"
      ],
      "metadata": {
        "colab": {
          "base_uri": "https://localhost:8080/"
        },
        "id": "R8i5wWIKTcT0",
        "outputId": "f3efd41e-3d6f-4e4e-8a90-a259c17d8458"
      },
      "execution_count": null,
      "outputs": [
        {
          "output_type": "execute_result",
          "data": {
            "text/plain": [
              "100000"
            ]
          },
          "metadata": {},
          "execution_count": 38
        }
      ]
    },
    {
      "cell_type": "markdown",
      "source": [
        "Para 95% de confiança"
      ],
      "metadata": {
        "id": "VnBulYpBTq2-"
      }
    },
    {
      "cell_type": "code",
      "source": [
        "z = norm.ppf(0.975)\n",
        "z"
      ],
      "metadata": {
        "colab": {
          "base_uri": "https://localhost:8080/"
        },
        "id": "_KuFvaEJTl-2",
        "outputId": "e139f4ed-bdba-4133-99ad-9f4aa74bac77"
      },
      "execution_count": null,
      "outputs": [
        {
          "output_type": "execute_result",
          "data": {
            "text/plain": [
              "1.959963984540054"
            ]
          },
          "metadata": {},
          "execution_count": 39
        }
      ]
    },
    {
      "cell_type": "markdown",
      "source": [
        "Analisando apenas a parte da renda, tem-se "
      ],
      "metadata": {
        "id": "wzcUs2YETsPc"
      }
    },
    {
      "cell_type": "code",
      "source": [
        "media_renda = round(pre_pandemia['renda'].mean(), 2)\n",
        "std_renda = round(pre_pandemia['renda'].std(), 2)\n",
        "print(f\"Média pré pandemia {media_renda}, desvio padrão pré pandemia {std_renda}\")"
      ],
      "metadata": {
        "colab": {
          "base_uri": "https://localhost:8080/"
        },
        "id": "yXuyIElrToMT",
        "outputId": "54ef10c3-190c-4734-e26d-fa27712b0b77"
      },
      "execution_count": null,
      "outputs": [
        {
          "output_type": "stream",
          "name": "stdout",
          "text": [
            "Média pré pandemia 9180.64, desvio padrão pré pandemia 6007.68\n"
          ]
        }
      ]
    },
    {
      "cell_type": "markdown",
      "source": [
        "Analisando apenas a parte da idade, tem-se"
      ],
      "metadata": {
        "id": "tyjWCuhYTy59"
      }
    },
    {
      "cell_type": "code",
      "source": [
        "media_idade = round(pre_pandemia['idade'].mean(), 2)\n",
        "std_idade = round(pre_pandemia['idade'].std(), 2)\n",
        "print(f\"Média pré pandemia {media_idade}, desvio padrão pré pandemia {std_idade}\")"
      ],
      "metadata": {
        "colab": {
          "base_uri": "https://localhost:8080/"
        },
        "id": "AhIrwxwATwc4",
        "outputId": "3787f6c8-2802-48b4-900f-3b5fff9d21be"
      },
      "execution_count": null,
      "outputs": [
        {
          "output_type": "stream",
          "name": "stdout",
          "text": [
            "Média pré pandemia 39.88, desvio padrão pré pandemia 15.02\n"
          ]
        }
      ]
    },
    {
      "cell_type": "code",
      "source": [
        "s_renda = std_renda\n",
        "s_renda"
      ],
      "metadata": {
        "colab": {
          "base_uri": "https://localhost:8080/"
        },
        "id": "AN6k_JSjT2We",
        "outputId": "debc3dfb-1051-4615-8d14-e1e0ba5c59e4"
      },
      "execution_count": null,
      "outputs": [
        {
          "output_type": "execute_result",
          "data": {
            "text/plain": [
              "6007.68"
            ]
          },
          "metadata": {},
          "execution_count": 42
        }
      ]
    },
    {
      "cell_type": "markdown",
      "source": [
        "Erro, percentual da média, 2% da média da renda"
      ],
      "metadata": {
        "id": "NKRa-AHDT2-l"
      }
    },
    {
      "cell_type": "code",
      "source": [
        "e2 = 0.02 * media_renda\n",
        "e2"
      ],
      "metadata": {
        "colab": {
          "base_uri": "https://localhost:8080/"
        },
        "id": "Vde_gdr3T9Id",
        "outputId": "445e6faf-6c3f-47c1-833e-83a52961af7c"
      },
      "execution_count": null,
      "outputs": [
        {
          "output_type": "execute_result",
          "data": {
            "text/plain": [
              "183.6128"
            ]
          },
          "metadata": {},
          "execution_count": 43
        }
      ]
    },
    {
      "cell_type": "markdown",
      "source": [
        "Erro, percentual da média, 10% da média da renda"
      ],
      "metadata": {
        "id": "ha-XnUnmUDt9"
      }
    },
    {
      "cell_type": "code",
      "source": [
        "e10 = 0.1 * media_renda\n",
        "e10"
      ],
      "metadata": {
        "colab": {
          "base_uri": "https://localhost:8080/"
        },
        "id": "CsuSWTZET-7a",
        "outputId": "35726aed-acb5-45c3-8e49-1ca3aec3d1d2"
      },
      "execution_count": null,
      "outputs": [
        {
          "output_type": "execute_result",
          "data": {
            "text/plain": [
              "918.064"
            ]
          },
          "metadata": {},
          "execution_count": 44
        }
      ]
    },
    {
      "cell_type": "code",
      "source": [
        "s_idade = std_idade\n",
        "s_idade"
      ],
      "metadata": {
        "colab": {
          "base_uri": "https://localhost:8080/"
        },
        "id": "T-Hs7dgtU0B5",
        "outputId": "e97cd4e5-4d79-4e67-8ece-93451fd52eb1"
      },
      "execution_count": null,
      "outputs": [
        {
          "output_type": "execute_result",
          "data": {
            "text/plain": [
              "15.02"
            ]
          },
          "metadata": {},
          "execution_count": 52
        }
      ]
    },
    {
      "cell_type": "markdown",
      "source": [
        "Erro, percentual da média, 2% da média da idade"
      ],
      "metadata": {
        "id": "407tl2SlULnc"
      }
    },
    {
      "cell_type": "code",
      "source": [
        "e2_id = 0.02 * media_idade\n",
        "e2_id"
      ],
      "metadata": {
        "colab": {
          "base_uri": "https://localhost:8080/"
        },
        "id": "Jsh3aNo7UGYz",
        "outputId": "2b01cf1b-03dd-4de4-f2df-a60fdcc157a0"
      },
      "execution_count": null,
      "outputs": [
        {
          "output_type": "execute_result",
          "data": {
            "text/plain": [
              "0.7976000000000001"
            ]
          },
          "metadata": {},
          "execution_count": 53
        }
      ]
    },
    {
      "cell_type": "markdown",
      "source": [
        "Erro, percentual da média, 10% da média da idade"
      ],
      "metadata": {
        "id": "61YjhHdLUMvk"
      }
    },
    {
      "cell_type": "code",
      "source": [
        "e10_id = 0.1 * media_idade\n",
        "e10_id"
      ],
      "metadata": {
        "colab": {
          "base_uri": "https://localhost:8080/"
        },
        "id": "mJyKjkQ_UREW",
        "outputId": "0902d6e5-c74d-4c21-fe08-8d0fcbfc772c"
      },
      "execution_count": null,
      "outputs": [
        {
          "output_type": "execute_result",
          "data": {
            "text/plain": [
              "3.9880000000000004"
            ]
          },
          "metadata": {},
          "execution_count": 54
        }
      ]
    },
    {
      "cell_type": "code",
      "source": [
        "def tamanho_amostra(N, z, s, e):\n",
        "  n = ((z**2) * (s**2) * N) / (((z**2) * (s**2))  + ((e**2) * (N - 1) ))\n",
        "  n_int = int(n.round())\n",
        "  return n_int"
      ],
      "metadata": {
        "id": "bX9NTqkwUSxY"
      },
      "execution_count": null,
      "outputs": []
    },
    {
      "cell_type": "code",
      "source": [
        "amostra_2_erro = tamanho_amostra(N, z, s_renda, e2)\n",
        "print(f\"Para 2% de margem de erro, o tamanho da amostra deve ser de {amostra_2_erro}\")"
      ],
      "metadata": {
        "colab": {
          "base_uri": "https://localhost:8080/"
        },
        "id": "Pgz5HTYNUU1e",
        "outputId": "1a2b0e95-12b6-4bdc-86a2-3d429515704c"
      },
      "execution_count": null,
      "outputs": [
        {
          "output_type": "stream",
          "name": "stdout",
          "text": [
            "Para 2% de margem de erro, o tamanho da amostra deve ser de 3950\n"
          ]
        }
      ]
    },
    {
      "cell_type": "code",
      "source": [
        "amostra_10_erro = tamanho_amostra(N, z, s_renda, e10)\n",
        "print(f\"Para 10% de margem de erro, o tamanho da amostra deve ser de {amostra_10_erro}\")"
      ],
      "metadata": {
        "colab": {
          "base_uri": "https://localhost:8080/"
        },
        "id": "exV44FavUWy-",
        "outputId": "db816e59-0c4d-4713-dd77-b8fca208ff9c"
      },
      "execution_count": null,
      "outputs": [
        {
          "output_type": "stream",
          "name": "stdout",
          "text": [
            "Para 10% de margem de erro, o tamanho da amostra deve ser de 164\n"
          ]
        }
      ]
    },
    {
      "cell_type": "code",
      "source": [
        "amostra_2_erro_id = tamanho_amostra(N, z, s_idade, e2_id)\n",
        "print(f\"Para 10% de margem de erro, baseado na idade, o tamanho da amostra deve ser de {amostra_2_erro_id}\")"
      ],
      "metadata": {
        "colab": {
          "base_uri": "https://localhost:8080/"
        },
        "id": "eQ6U-973UZFT",
        "outputId": "469a607e-ab3b-4fb1-b0a1-f1a375258e77"
      },
      "execution_count": null,
      "outputs": [
        {
          "output_type": "stream",
          "name": "stdout",
          "text": [
            "Para 10% de margem de erro, baseado na idade, o tamanho da amostra deve ser de 1344\n"
          ]
        }
      ]
    },
    {
      "cell_type": "code",
      "source": [
        "amostra_10_erro_id = tamanho_amostra(N, z, s_idade, e10_id)\n",
        "print(f\"Para 10% de margem de erro, baseado na idade, o tamanho da amostra deve ser de {amostra_10_erro_id}\")"
      ],
      "metadata": {
        "colab": {
          "base_uri": "https://localhost:8080/"
        },
        "id": "UnaoU6YgUbZA",
        "outputId": "f530d87e-1818-416c-b47f-784f6e6539d7"
      },
      "execution_count": null,
      "outputs": [
        {
          "output_type": "stream",
          "name": "stdout",
          "text": [
            "Para 10% de margem de erro, baseado na idade, o tamanho da amostra deve ser de 54\n"
          ]
        }
      ]
    },
    {
      "cell_type": "markdown",
      "source": [
        "Considerando a fórmula para o cálculo do tamanho da amostra:"
      ],
      "metadata": {
        "id": "GNsTTyjtU8c0"
      }
    },
    {
      "cell_type": "code",
      "source": [
        "def tamanho_amostra(N, E):\n",
        "  n0 = np.array([((N * (1/(e**2))) / (N + ( 1/(e**2) ))) for e in E]) \n",
        "  return n0"
      ],
      "metadata": {
        "id": "KiWfqjklUo30"
      },
      "execution_count": null,
      "outputs": []
    },
    {
      "cell_type": "code",
      "source": [
        "N = 100000\n",
        "N"
      ],
      "metadata": {
        "colab": {
          "base_uri": "https://localhost:8080/"
        },
        "id": "wtZT59mzU_O1",
        "outputId": "d015265f-d813-46c7-be33-c8ade8950fab"
      },
      "execution_count": null,
      "outputs": [
        {
          "output_type": "execute_result",
          "data": {
            "text/plain": [
              "100000"
            ]
          },
          "metadata": {},
          "execution_count": 61
        }
      ]
    },
    {
      "cell_type": "code",
      "source": [
        "lista_e = np.array([x for x in range(1, 101, 1)]) / 100\n",
        "lista_e"
      ],
      "metadata": {
        "colab": {
          "base_uri": "https://localhost:8080/"
        },
        "id": "rDqGrE4cVBPL",
        "outputId": "65c72d1f-b942-4877-c138-b3524cb9f660"
      },
      "execution_count": null,
      "outputs": [
        {
          "output_type": "execute_result",
          "data": {
            "text/plain": [
              "array([0.01, 0.02, 0.03, 0.04, 0.05, 0.06, 0.07, 0.08, 0.09, 0.1 , 0.11,\n",
              "       0.12, 0.13, 0.14, 0.15, 0.16, 0.17, 0.18, 0.19, 0.2 , 0.21, 0.22,\n",
              "       0.23, 0.24, 0.25, 0.26, 0.27, 0.28, 0.29, 0.3 , 0.31, 0.32, 0.33,\n",
              "       0.34, 0.35, 0.36, 0.37, 0.38, 0.39, 0.4 , 0.41, 0.42, 0.43, 0.44,\n",
              "       0.45, 0.46, 0.47, 0.48, 0.49, 0.5 , 0.51, 0.52, 0.53, 0.54, 0.55,\n",
              "       0.56, 0.57, 0.58, 0.59, 0.6 , 0.61, 0.62, 0.63, 0.64, 0.65, 0.66,\n",
              "       0.67, 0.68, 0.69, 0.7 , 0.71, 0.72, 0.73, 0.74, 0.75, 0.76, 0.77,\n",
              "       0.78, 0.79, 0.8 , 0.81, 0.82, 0.83, 0.84, 0.85, 0.86, 0.87, 0.88,\n",
              "       0.89, 0.9 , 0.91, 0.92, 0.93, 0.94, 0.95, 0.96, 0.97, 0.98, 0.99,\n",
              "       1.  ])"
            ]
          },
          "metadata": {},
          "execution_count": 62
        }
      ]
    },
    {
      "cell_type": "code",
      "source": [
        "lista_n = tamanho_amostra(N, lista_e)\n",
        "lista_n = lista_n.astype(int)\n",
        "lista_n"
      ],
      "metadata": {
        "colab": {
          "base_uri": "https://localhost:8080/"
        },
        "id": "EDTId24NVGsO",
        "outputId": "90153566-c725-4d06-eaf1-a40a3ac962cb"
      },
      "execution_count": null,
      "outputs": [
        {
          "output_type": "execute_result",
          "data": {
            "text/plain": [
              "array([9090, 2439, 1098,  621,  398,  277,  203,  156,  123,   99,   82,\n",
              "         69,   59,   50,   44,   39,   34,   30,   27,   24,   22,   20,\n",
              "         18,   17,   15,   14,   13,   12,   11,   11,   10,    9,    9,\n",
              "          8,    8,    7,    7,    6,    6,    6,    5,    5,    5,    5,\n",
              "          4,    4,    4,    4,    4,    3,    3,    3,    3,    3,    3,\n",
              "          3,    3,    2,    2,    2,    2,    2,    2,    2,    2,    2,\n",
              "          2,    2,    2,    2,    1,    1,    1,    1,    1,    1,    1,\n",
              "          1,    1,    1,    1,    1,    1,    1,    1,    1,    1,    1,\n",
              "          1,    1,    1,    1,    1,    1,    1,    1,    1,    1,    1,\n",
              "          0])"
            ]
          },
          "metadata": {},
          "execution_count": 63
        }
      ]
    },
    {
      "cell_type": "code",
      "source": [
        "tam_amostra = {'Erro': lista_e, 'Tamanho': lista_n}\n",
        "tam_amostra_df = pd.DataFrame(data=tam_amostra)\n",
        "tam_amostra_df"
      ],
      "metadata": {
        "colab": {
          "base_uri": "https://localhost:8080/",
          "height": 424
        },
        "id": "xHmggZ7_VI66",
        "outputId": "ce96d6c7-e501-49fb-a216-a57bead29a2b"
      },
      "execution_count": null,
      "outputs": [
        {
          "output_type": "execute_result",
          "data": {
            "text/plain": [
              "    Erro  Tamanho\n",
              "0   0.01     9090\n",
              "1   0.02     2439\n",
              "2   0.03     1098\n",
              "3   0.04      621\n",
              "4   0.05      398\n",
              "..   ...      ...\n",
              "95  0.96        1\n",
              "96  0.97        1\n",
              "97  0.98        1\n",
              "98  0.99        1\n",
              "99  1.00        0\n",
              "\n",
              "[100 rows x 2 columns]"
            ],
            "text/html": [
              "\n",
              "  <div id=\"df-fe45c9ac-fd12-4efc-a37a-ef3eb4beaa47\">\n",
              "    <div class=\"colab-df-container\">\n",
              "      <div>\n",
              "<style scoped>\n",
              "    .dataframe tbody tr th:only-of-type {\n",
              "        vertical-align: middle;\n",
              "    }\n",
              "\n",
              "    .dataframe tbody tr th {\n",
              "        vertical-align: top;\n",
              "    }\n",
              "\n",
              "    .dataframe thead th {\n",
              "        text-align: right;\n",
              "    }\n",
              "</style>\n",
              "<table border=\"1\" class=\"dataframe\">\n",
              "  <thead>\n",
              "    <tr style=\"text-align: right;\">\n",
              "      <th></th>\n",
              "      <th>Erro</th>\n",
              "      <th>Tamanho</th>\n",
              "    </tr>\n",
              "  </thead>\n",
              "  <tbody>\n",
              "    <tr>\n",
              "      <th>0</th>\n",
              "      <td>0.01</td>\n",
              "      <td>9090</td>\n",
              "    </tr>\n",
              "    <tr>\n",
              "      <th>1</th>\n",
              "      <td>0.02</td>\n",
              "      <td>2439</td>\n",
              "    </tr>\n",
              "    <tr>\n",
              "      <th>2</th>\n",
              "      <td>0.03</td>\n",
              "      <td>1098</td>\n",
              "    </tr>\n",
              "    <tr>\n",
              "      <th>3</th>\n",
              "      <td>0.04</td>\n",
              "      <td>621</td>\n",
              "    </tr>\n",
              "    <tr>\n",
              "      <th>4</th>\n",
              "      <td>0.05</td>\n",
              "      <td>398</td>\n",
              "    </tr>\n",
              "    <tr>\n",
              "      <th>...</th>\n",
              "      <td>...</td>\n",
              "      <td>...</td>\n",
              "    </tr>\n",
              "    <tr>\n",
              "      <th>95</th>\n",
              "      <td>0.96</td>\n",
              "      <td>1</td>\n",
              "    </tr>\n",
              "    <tr>\n",
              "      <th>96</th>\n",
              "      <td>0.97</td>\n",
              "      <td>1</td>\n",
              "    </tr>\n",
              "    <tr>\n",
              "      <th>97</th>\n",
              "      <td>0.98</td>\n",
              "      <td>1</td>\n",
              "    </tr>\n",
              "    <tr>\n",
              "      <th>98</th>\n",
              "      <td>0.99</td>\n",
              "      <td>1</td>\n",
              "    </tr>\n",
              "    <tr>\n",
              "      <th>99</th>\n",
              "      <td>1.00</td>\n",
              "      <td>0</td>\n",
              "    </tr>\n",
              "  </tbody>\n",
              "</table>\n",
              "<p>100 rows × 2 columns</p>\n",
              "</div>\n",
              "      <button class=\"colab-df-convert\" onclick=\"convertToInteractive('df-fe45c9ac-fd12-4efc-a37a-ef3eb4beaa47')\"\n",
              "              title=\"Convert this dataframe to an interactive table.\"\n",
              "              style=\"display:none;\">\n",
              "        \n",
              "  <svg xmlns=\"http://www.w3.org/2000/svg\" height=\"24px\"viewBox=\"0 0 24 24\"\n",
              "       width=\"24px\">\n",
              "    <path d=\"M0 0h24v24H0V0z\" fill=\"none\"/>\n",
              "    <path d=\"M18.56 5.44l.94 2.06.94-2.06 2.06-.94-2.06-.94-.94-2.06-.94 2.06-2.06.94zm-11 1L8.5 8.5l.94-2.06 2.06-.94-2.06-.94L8.5 2.5l-.94 2.06-2.06.94zm10 10l.94 2.06.94-2.06 2.06-.94-2.06-.94-.94-2.06-.94 2.06-2.06.94z\"/><path d=\"M17.41 7.96l-1.37-1.37c-.4-.4-.92-.59-1.43-.59-.52 0-1.04.2-1.43.59L10.3 9.45l-7.72 7.72c-.78.78-.78 2.05 0 2.83L4 21.41c.39.39.9.59 1.41.59.51 0 1.02-.2 1.41-.59l7.78-7.78 2.81-2.81c.8-.78.8-2.07 0-2.86zM5.41 20L4 18.59l7.72-7.72 1.47 1.35L5.41 20z\"/>\n",
              "  </svg>\n",
              "      </button>\n",
              "      \n",
              "  <style>\n",
              "    .colab-df-container {\n",
              "      display:flex;\n",
              "      flex-wrap:wrap;\n",
              "      gap: 12px;\n",
              "    }\n",
              "\n",
              "    .colab-df-convert {\n",
              "      background-color: #E8F0FE;\n",
              "      border: none;\n",
              "      border-radius: 50%;\n",
              "      cursor: pointer;\n",
              "      display: none;\n",
              "      fill: #1967D2;\n",
              "      height: 32px;\n",
              "      padding: 0 0 0 0;\n",
              "      width: 32px;\n",
              "    }\n",
              "\n",
              "    .colab-df-convert:hover {\n",
              "      background-color: #E2EBFA;\n",
              "      box-shadow: 0px 1px 2px rgba(60, 64, 67, 0.3), 0px 1px 3px 1px rgba(60, 64, 67, 0.15);\n",
              "      fill: #174EA6;\n",
              "    }\n",
              "\n",
              "    [theme=dark] .colab-df-convert {\n",
              "      background-color: #3B4455;\n",
              "      fill: #D2E3FC;\n",
              "    }\n",
              "\n",
              "    [theme=dark] .colab-df-convert:hover {\n",
              "      background-color: #434B5C;\n",
              "      box-shadow: 0px 1px 3px 1px rgba(0, 0, 0, 0.15);\n",
              "      filter: drop-shadow(0px 1px 2px rgba(0, 0, 0, 0.3));\n",
              "      fill: #FFFFFF;\n",
              "    }\n",
              "  </style>\n",
              "\n",
              "      <script>\n",
              "        const buttonEl =\n",
              "          document.querySelector('#df-fe45c9ac-fd12-4efc-a37a-ef3eb4beaa47 button.colab-df-convert');\n",
              "        buttonEl.style.display =\n",
              "          google.colab.kernel.accessAllowed ? 'block' : 'none';\n",
              "\n",
              "        async function convertToInteractive(key) {\n",
              "          const element = document.querySelector('#df-fe45c9ac-fd12-4efc-a37a-ef3eb4beaa47');\n",
              "          const dataTable =\n",
              "            await google.colab.kernel.invokeFunction('convertToInteractive',\n",
              "                                                     [key], {});\n",
              "          if (!dataTable) return;\n",
              "\n",
              "          const docLinkHtml = 'Like what you see? Visit the ' +\n",
              "            '<a target=\"_blank\" href=https://colab.research.google.com/notebooks/data_table.ipynb>data table notebook</a>'\n",
              "            + ' to learn more about interactive tables.';\n",
              "          element.innerHTML = '';\n",
              "          dataTable['output_type'] = 'display_data';\n",
              "          await google.colab.output.renderOutput(dataTable, element);\n",
              "          const docLink = document.createElement('div');\n",
              "          docLink.innerHTML = docLinkHtml;\n",
              "          element.appendChild(docLink);\n",
              "        }\n",
              "      </script>\n",
              "    </div>\n",
              "  </div>\n",
              "  "
            ]
          },
          "metadata": {},
          "execution_count": 64
        }
      ]
    },
    {
      "cell_type": "code",
      "source": [
        "from IPython.core.pylabtools import figsize\n",
        "tam_amostra_df.plot(x = 'Erro', y = 'Tamanho', kind = 'scatter', figsize=(15,10))"
      ],
      "metadata": {
        "colab": {
          "base_uri": "https://localhost:8080/",
          "height": 623
        },
        "id": "ArjLjUTSVLLm",
        "outputId": "b0d73287-367c-441f-983f-3266cb61aa11"
      },
      "execution_count": null,
      "outputs": [
        {
          "output_type": "execute_result",
          "data": {
            "text/plain": [
              "<AxesSubplot:xlabel='Erro', ylabel='Tamanho'>"
            ]
          },
          "metadata": {},
          "execution_count": 65
        },
        {
          "output_type": "display_data",
          "data": {
            "text/plain": [
              "<Figure size 1080x720 with 1 Axes>"
            ],
            "image/png": "[encoded data removed]"
          },
          "metadata": {
            "needs_background": "light"
          }
        }
      ]
    },
    {
      "cell_type": "code",
      "source": [],
      "metadata": {
        "id": "FMA1cDeuVNxD"
      },
      "execution_count": null,
      "outputs": []
    }
  ]
}