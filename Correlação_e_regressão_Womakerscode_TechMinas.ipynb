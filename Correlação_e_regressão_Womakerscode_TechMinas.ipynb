{
  "nbformat": 4,
  "nbformat_minor": 0,
  "metadata": {
    "colab": {
      "provenance": [],
      "include_colab_link": true
    },
    "kernelspec": {
      "name": "python3",
      "display_name": "Python 3"
    },
    "language_info": {
      "name": "python"
    }
  },
  "cells": [
    {
      "cell_type": "markdown",
      "metadata": {
        "id": "view-in-github",
        "colab_type": "text"
      },
      "source": [
        "<a href=\"https://colab.research.google.com/github/Therezaclm/Estatistica-com-python/blob/main/Correla%C3%A7%C3%A3o_e_regress%C3%A3o_Womakerscode_TechMinas.ipynb\" target=\"_parent\"><img src=\"https://colab.research.google.com/assets/colab-badge.svg\" alt=\"Open In Colab\"/></a>"
      ]
    },
    {
      "cell_type": "markdown",
      "source": [
        "# <font color=green>**BootCamp TECH MINAs 2023**</font>\n",
        "\n"
      ],
      "metadata": {
        "id": "xeGzgGcmwirP"
      }
    },
    {
      "cell_type": "code",
      "source": [
        "import pandas as pd\n",
        "import numpy as np\n",
        "import matplotlib.pyplot as plt\n",
        "%matplotlib inline\n",
        "import seaborn as sns\n",
        "import scipy\n",
        "from scipy.stats import norm\n",
        "import math"
      ],
      "metadata": {
        "id": "HD3rydpv9dem"
      },
      "execution_count": null,
      "outputs": []
    },
    {
      "cell_type": "markdown",
      "source": [
        "# <font color=green>Challenge Correlação e Regressão</font>\n",
        "\n",
        "## <font color=blue>Desafio Análise de Correlação:</font>"
      ],
      "metadata": {
        "id": "cY67KNtZRaj3"
      }
    },
    {
      "cell_type": "markdown",
      "source": [
        "Suponha que você trabalha em uma empresa do setor imobiliário. Para essa empresa é muito importante precificar corretamente o imóvel, caso contrário, os corretores podem perder a venda. Como parte do time de dados, você é responsável por analisar os principais fatores que podem afetar o preço dos imóveis. Para isso, eles te enviaram a base de dados (desafio_01_preco_imoveis.csv). Como você poderia ajudá-los?\n",
        "\n",
        "Para responder esse desafio: A base de dados: desafio_01_preco_imoveis.csv contém as seguintes informações:\n",
        "\n",
        "● **id** : código identificador do imóvel\n",
        "\n",
        "● **date**: data em que o imóvel foi cadastrado\n",
        "\n",
        "● **price**: preço do imóvel\n",
        "\n",
        "● **bedrooms**: número de quartos\n",
        "\n",
        "● **bathrooms:** número de banheiros\n",
        "\n",
        "● **sqft_living**: tamanho do imóvel (dentro da casa)\n",
        "\n",
        "● **sqft_lot**: tamanho do lote / terreno\n",
        "\n",
        "● **floors**: andares\n",
        "\n",
        "● **waterfront**: flag se o imóvel tem vista para o mar. 1 caso positivo, 0 caso\n",
        "contrário.\n",
        "\n",
        "● **view**: indica o número de quartos com vista.\n",
        "\n",
        "● **condition**: condição do imóvel, escala de 1 a 5\n",
        "\n",
        "● **grade**: nota do imóvel\n",
        "\n",
        "● **sqft_above**: tamanho da casa acima do solo (excluindo porão)\n",
        "\n",
        "● **sqft_basement**: tamanho do porão\n",
        "\n",
        "● **yr_built**: ano em que a casa foi construída\n",
        "\n",
        "● **yr_renovated**: ano em que a casa foi renovada\n",
        "\n",
        "● **zipcode**: \"CEP\" do imóvel\n",
        "\n",
        "● **lat**: latitude do imóvel\n",
        "\n",
        "● **long**: longitude do imóvel\n"
      ],
      "metadata": {
        "id": "6l7W2Ygwgyg0"
      }
    },
    {
      "cell_type": "code",
      "source": [
        "# importando as bibliotecas necessárias\n",
        "import pandas as pd\n",
        "import numpy as np\n",
        "import seaborn as sns\n",
        "import statsmodels.api as sm\n",
        "import matplotlib.pyplot as plt\n"
      ],
      "metadata": {
        "id": "ELuotYE-RGkS"
      },
      "execution_count": null,
      "outputs": []
    },
    {
      "cell_type": "code",
      "source": [
        "# lendo o dataset\n",
        "dataset = pd.read_csv('/content/desafio_01_preco_imoveis.csv')"
      ],
      "metadata": {
        "id": "KuHnUv3qRnLm"
      },
      "execution_count": null,
      "outputs": []
    },
    {
      "cell_type": "code",
      "source": [
        "# Verificando o tamanho do dataset\n",
        "dataset.shape"
      ],
      "metadata": {
        "id": "dlPyhdGwRnQ6",
        "colab": {
          "base_uri": "https://localhost:8080/"
        },
        "outputId": "ef976f17-62df-4f1d-dd7f-057d818e25b1"
      },
      "execution_count": null,
      "outputs": [
        {
          "output_type": "execute_result",
          "data": {
            "text/plain": [
              "(21613, 19)"
            ]
          },
          "metadata": {},
          "execution_count": 3
        }
      ]
    },
    {
      "cell_type": "code",
      "source": [
        "# imprimir as informações do dataset\n",
        "dataset.info()\n",
        "# o dataset possui um total de 19 colunas. 13 delas são do tipo \"int64\", enquanto 5 delas são do tipo \"float64\" e uma única do tipo \"object\",\n",
        "# que é uma string representando a data em que o imóvel foi cadastrado"
      ],
      "metadata": {
        "id": "rqcyQ5smRnYR",
        "colab": {
          "base_uri": "https://localhost:8080/"
        },
        "outputId": "7720ed1a-7cbd-4849-d17a-dc01f2e7e605"
      },
      "execution_count": null,
      "outputs": [
        {
          "output_type": "stream",
          "name": "stdout",
          "text": [
            "<class 'pandas.core.frame.DataFrame'>\n",
            "RangeIndex: 21613 entries, 0 to 21612\n",
            "Data columns (total 19 columns):\n",
            " #   Column         Non-Null Count  Dtype  \n",
            "---  ------         --------------  -----  \n",
            " 0   id             21613 non-null  int64  \n",
            " 1   date           21613 non-null  object \n",
            " 2   price          21613 non-null  float64\n",
            " 3   bedrooms       21613 non-null  int64  \n",
            " 4   bathrooms      21613 non-null  float64\n",
            " 5   sqft_living    21613 non-null  int64  \n",
            " 6   sqft_lot       21613 non-null  int64  \n",
            " 7   floors         21613 non-null  float64\n",
            " 8   waterfront     21613 non-null  int64  \n",
            " 9   view           21613 non-null  int64  \n",
            " 10  condition      21613 non-null  int64  \n",
            " 11  grade          21613 non-null  int64  \n",
            " 12  sqft_above     21613 non-null  int64  \n",
            " 13  sqft_basement  21613 non-null  int64  \n",
            " 14  yr_built       21613 non-null  int64  \n",
            " 15  yr_renovated   21613 non-null  int64  \n",
            " 16  zipcode        21613 non-null  int64  \n",
            " 17  lat            21613 non-null  float64\n",
            " 18  long           21613 non-null  float64\n",
            "dtypes: float64(5), int64(13), object(1)\n",
            "memory usage: 3.1+ MB\n"
          ]
        }
      ]
    },
    {
      "cell_type": "code",
      "source": [
        "# mostrando as primeiras 5 linhas do dataset\n",
        "dataset.head()"
      ],
      "metadata": {
        "colab": {
          "base_uri": "https://localhost:8080/",
          "height": 270
        },
        "id": "PdArCmgRhV8u",
        "outputId": "904b5ace-bfaf-4d8d-a036-7be6e9cb7306"
      },
      "execution_count": null,
      "outputs": [
        {
          "output_type": "execute_result",
          "data": {
            "text/plain": [
              "           id             date     price  bedrooms  bathrooms  sqft_living  \\\n",
              "0  7129300520  20141013T000000  221900.0         3       1.00         1180   \n",
              "1  6414100192  20141209T000000  538000.0         3       2.25         2570   \n",
              "2  5631500400  20150225T000000  180000.0         2       1.00          770   \n",
              "3  2487200875  20141209T000000  604000.0         4       3.00         1960   \n",
              "4  1954400510  20150218T000000  510000.0         3       2.00         1680   \n",
              "\n",
              "   sqft_lot  floors  waterfront  view  condition  grade  sqft_above  \\\n",
              "0      5650     1.0           0     0          3      7        1180   \n",
              "1      7242     2.0           0     0          3      7        2170   \n",
              "2     10000     1.0           0     0          3      6         770   \n",
              "3      5000     1.0           0     0          5      7        1050   \n",
              "4      8080     1.0           0     0          3      8        1680   \n",
              "\n",
              "   sqft_basement  yr_built  yr_renovated  zipcode      lat     long  \n",
              "0              0      1955             0    98178  47.5112 -122.257  \n",
              "1            400      1951          1991    98125  47.7210 -122.319  \n",
              "2              0      1933             0    98028  47.7379 -122.233  \n",
              "3            910      1965             0    98136  47.5208 -122.393  \n",
              "4              0      1987             0    98074  47.6168 -122.045  "
            ],
            "text/html": [
              "\n",
              "  <div id=\"df-1d918461-be68-419d-9f74-2ebd464c069c\">\n",
              "    <div class=\"colab-df-container\">\n",
              "      <div>\n",
              "<style scoped>\n",
              "    .dataframe tbody tr th:only-of-type {\n",
              "        vertical-align: middle;\n",
              "    }\n",
              "\n",
              "    .dataframe tbody tr th {\n",
              "        vertical-align: top;\n",
              "    }\n",
              "\n",
              "    .dataframe thead th {\n",
              "        text-align: right;\n",
              "    }\n",
              "</style>\n",
              "<table border=\"1\" class=\"dataframe\">\n",
              "  <thead>\n",
              "    <tr style=\"text-align: right;\">\n",
              "      <th></th>\n",
              "      <th>id</th>\n",
              "      <th>date</th>\n",
              "      <th>price</th>\n",
              "      <th>bedrooms</th>\n",
              "      <th>bathrooms</th>\n",
              "      <th>sqft_living</th>\n",
              "      <th>sqft_lot</th>\n",
              "      <th>floors</th>\n",
              "      <th>waterfront</th>\n",
              "      <th>view</th>\n",
              "      <th>condition</th>\n",
              "      <th>grade</th>\n",
              "      <th>sqft_above</th>\n",
              "      <th>sqft_basement</th>\n",
              "      <th>yr_built</th>\n",
              "      <th>yr_renovated</th>\n",
              "      <th>zipcode</th>\n",
              "      <th>lat</th>\n",
              "      <th>long</th>\n",
              "    </tr>\n",
              "  </thead>\n",
              "  <tbody>\n",
              "    <tr>\n",
              "      <th>0</th>\n",
              "      <td>7129300520</td>\n",
              "      <td>20141013T000000</td>\n",
              "      <td>221900.0</td>\n",
              "      <td>3</td>\n",
              "      <td>1.00</td>\n",
              "      <td>1180</td>\n",
              "      <td>5650</td>\n",
              "      <td>1.0</td>\n",
              "      <td>0</td>\n",
              "      <td>0</td>\n",
              "      <td>3</td>\n",
              "      <td>7</td>\n",
              "      <td>1180</td>\n",
              "      <td>0</td>\n",
              "      <td>1955</td>\n",
              "      <td>0</td>\n",
              "      <td>98178</td>\n",
              "      <td>47.5112</td>\n",
              "      <td>-122.257</td>\n",
              "    </tr>\n",
              "    <tr>\n",
              "      <th>1</th>\n",
              "      <td>6414100192</td>\n",
              "      <td>20141209T000000</td>\n",
              "      <td>538000.0</td>\n",
              "      <td>3</td>\n",
              "      <td>2.25</td>\n",
              "      <td>2570</td>\n",
              "      <td>7242</td>\n",
              "      <td>2.0</td>\n",
              "      <td>0</td>\n",
              "      <td>0</td>\n",
              "      <td>3</td>\n",
              "      <td>7</td>\n",
              "      <td>2170</td>\n",
              "      <td>400</td>\n",
              "      <td>1951</td>\n",
              "      <td>1991</td>\n",
              "      <td>98125</td>\n",
              "      <td>47.7210</td>\n",
              "      <td>-122.319</td>\n",
              "    </tr>\n",
              "    <tr>\n",
              "      <th>2</th>\n",
              "      <td>5631500400</td>\n",
              "      <td>20150225T000000</td>\n",
              "      <td>180000.0</td>\n",
              "      <td>2</td>\n",
              "      <td>1.00</td>\n",
              "      <td>770</td>\n",
              "      <td>10000</td>\n",
              "      <td>1.0</td>\n",
              "      <td>0</td>\n",
              "      <td>0</td>\n",
              "      <td>3</td>\n",
              "      <td>6</td>\n",
              "      <td>770</td>\n",
              "      <td>0</td>\n",
              "      <td>1933</td>\n",
              "      <td>0</td>\n",
              "      <td>98028</td>\n",
              "      <td>47.7379</td>\n",
              "      <td>-122.233</td>\n",
              "    </tr>\n",
              "    <tr>\n",
              "      <th>3</th>\n",
              "      <td>2487200875</td>\n",
              "      <td>20141209T000000</td>\n",
              "      <td>604000.0</td>\n",
              "      <td>4</td>\n",
              "      <td>3.00</td>\n",
              "      <td>1960</td>\n",
              "      <td>5000</td>\n",
              "      <td>1.0</td>\n",
              "      <td>0</td>\n",
              "      <td>0</td>\n",
              "      <td>5</td>\n",
              "      <td>7</td>\n",
              "      <td>1050</td>\n",
              "      <td>910</td>\n",
              "      <td>1965</td>\n",
              "      <td>0</td>\n",
              "      <td>98136</td>\n",
              "      <td>47.5208</td>\n",
              "      <td>-122.393</td>\n",
              "    </tr>\n",
              "    <tr>\n",
              "      <th>4</th>\n",
              "      <td>1954400510</td>\n",
              "      <td>20150218T000000</td>\n",
              "      <td>510000.0</td>\n",
              "      <td>3</td>\n",
              "      <td>2.00</td>\n",
              "      <td>1680</td>\n",
              "      <td>8080</td>\n",
              "      <td>1.0</td>\n",
              "      <td>0</td>\n",
              "      <td>0</td>\n",
              "      <td>3</td>\n",
              "      <td>8</td>\n",
              "      <td>1680</td>\n",
              "      <td>0</td>\n",
              "      <td>1987</td>\n",
              "      <td>0</td>\n",
              "      <td>98074</td>\n",
              "      <td>47.6168</td>\n",
              "      <td>-122.045</td>\n",
              "    </tr>\n",
              "  </tbody>\n",
              "</table>\n",
              "</div>\n",
              "      <button class=\"colab-df-convert\" onclick=\"convertToInteractive('df-1d918461-be68-419d-9f74-2ebd464c069c')\"\n",
              "              title=\"Convert this dataframe to an interactive table.\"\n",
              "              style=\"display:none;\">\n",
              "        \n",
              "  <svg xmlns=\"http://www.w3.org/2000/svg\" height=\"24px\"viewBox=\"0 0 24 24\"\n",
              "       width=\"24px\">\n",
              "    <path d=\"M0 0h24v24H0V0z\" fill=\"none\"/>\n",
              "    <path d=\"M18.56 5.44l.94 2.06.94-2.06 2.06-.94-2.06-.94-.94-2.06-.94 2.06-2.06.94zm-11 1L8.5 8.5l.94-2.06 2.06-.94-2.06-.94L8.5 2.5l-.94 2.06-2.06.94zm10 10l.94 2.06.94-2.06 2.06-.94-2.06-.94-.94-2.06-.94 2.06-2.06.94z\"/><path d=\"M17.41 7.96l-1.37-1.37c-.4-.4-.92-.59-1.43-.59-.52 0-1.04.2-1.43.59L10.3 9.45l-7.72 7.72c-.78.78-.78 2.05 0 2.83L4 21.41c.39.39.9.59 1.41.59.51 0 1.02-.2 1.41-.59l7.78-7.78 2.81-2.81c.8-.78.8-2.07 0-2.86zM5.41 20L4 18.59l7.72-7.72 1.47 1.35L5.41 20z\"/>\n",
              "  </svg>\n",
              "      </button>\n",
              "      \n",
              "  <style>\n",
              "    .colab-df-container {\n",
              "      display:flex;\n",
              "      flex-wrap:wrap;\n",
              "      gap: 12px;\n",
              "    }\n",
              "\n",
              "    .colab-df-convert {\n",
              "      background-color: #E8F0FE;\n",
              "      border: none;\n",
              "      border-radius: 50%;\n",
              "      cursor: pointer;\n",
              "      display: none;\n",
              "      fill: #1967D2;\n",
              "      height: 32px;\n",
              "      padding: 0 0 0 0;\n",
              "      width: 32px;\n",
              "    }\n",
              "\n",
              "    .colab-df-convert:hover {\n",
              "      background-color: #E2EBFA;\n",
              "      box-shadow: 0px 1px 2px rgba(60, 64, 67, 0.3), 0px 1px 3px 1px rgba(60, 64, 67, 0.15);\n",
              "      fill: #174EA6;\n",
              "    }\n",
              "\n",
              "    [theme=dark] .colab-df-convert {\n",
              "      background-color: #3B4455;\n",
              "      fill: #D2E3FC;\n",
              "    }\n",
              "\n",
              "    [theme=dark] .colab-df-convert:hover {\n",
              "      background-color: #434B5C;\n",
              "      box-shadow: 0px 1px 3px 1px rgba(0, 0, 0, 0.15);\n",
              "      filter: drop-shadow(0px 1px 2px rgba(0, 0, 0, 0.3));\n",
              "      fill: #FFFFFF;\n",
              "    }\n",
              "  </style>\n",
              "\n",
              "      <script>\n",
              "        const buttonEl =\n",
              "          document.querySelector('#df-1d918461-be68-419d-9f74-2ebd464c069c button.colab-df-convert');\n",
              "        buttonEl.style.display =\n",
              "          google.colab.kernel.accessAllowed ? 'block' : 'none';\n",
              "\n",
              "        async function convertToInteractive(key) {\n",
              "          const element = document.querySelector('#df-1d918461-be68-419d-9f74-2ebd464c069c');\n",
              "          const dataTable =\n",
              "            await google.colab.kernel.invokeFunction('convertToInteractive',\n",
              "                                                     [key], {});\n",
              "          if (!dataTable) return;\n",
              "\n",
              "          const docLinkHtml = 'Like what you see? Visit the ' +\n",
              "            '<a target=\"_blank\" href=https://colab.research.google.com/notebooks/data_table.ipynb>data table notebook</a>'\n",
              "            + ' to learn more about interactive tables.';\n",
              "          element.innerHTML = '';\n",
              "          dataTable['output_type'] = 'display_data';\n",
              "          await google.colab.output.renderOutput(dataTable, element);\n",
              "          const docLink = document.createElement('div');\n",
              "          docLink.innerHTML = docLinkHtml;\n",
              "          element.appendChild(docLink);\n",
              "        }\n",
              "      </script>\n",
              "    </div>\n",
              "  </div>\n",
              "  "
            ]
          },
          "metadata": {},
          "execution_count": 5
        }
      ]
    },
    {
      "cell_type": "code",
      "source": [
        "# verificando o resumo estatístico das variáveis numéricas\n",
        "dataset.describe()"
      ],
      "metadata": {
        "colab": {
          "base_uri": "https://localhost:8080/",
          "height": 364
        },
        "id": "nTQmsv9chaUp",
        "outputId": "094bed0d-b254-4f3b-bb95-3a622fd05bc9"
      },
      "execution_count": null,
      "outputs": [
        {
          "output_type": "execute_result",
          "data": {
            "text/plain": [
              "                 id         price      bedrooms     bathrooms   sqft_living  \\\n",
              "count  2.161300e+04  2.161300e+04  21613.000000  21613.000000  21613.000000   \n",
              "mean   4.580302e+09  5.400881e+05      3.370842      2.114757   2079.899736   \n",
              "std    2.876566e+09  3.671272e+05      0.930062      0.770163    918.440897   \n",
              "min    1.000102e+06  7.500000e+04      0.000000      0.000000    290.000000   \n",
              "25%    2.123049e+09  3.219500e+05      3.000000      1.750000   1427.000000   \n",
              "50%    3.904930e+09  4.500000e+05      3.000000      2.250000   1910.000000   \n",
              "75%    7.308900e+09  6.450000e+05      4.000000      2.500000   2550.000000   \n",
              "max    9.900000e+09  7.700000e+06     33.000000      8.000000  13540.000000   \n",
              "\n",
              "           sqft_lot        floors    waterfront          view     condition  \\\n",
              "count  2.161300e+04  21613.000000  21613.000000  21613.000000  21613.000000   \n",
              "mean   1.510697e+04      1.494309      0.007542      0.234303      3.409430   \n",
              "std    4.142051e+04      0.539989      0.086517      0.766318      0.650743   \n",
              "min    5.200000e+02      1.000000      0.000000      0.000000      1.000000   \n",
              "25%    5.040000e+03      1.000000      0.000000      0.000000      3.000000   \n",
              "50%    7.618000e+03      1.500000      0.000000      0.000000      3.000000   \n",
              "75%    1.068800e+04      2.000000      0.000000      0.000000      4.000000   \n",
              "max    1.651359e+06      3.500000      1.000000      4.000000      5.000000   \n",
              "\n",
              "              grade    sqft_above  sqft_basement      yr_built  yr_renovated  \\\n",
              "count  21613.000000  21613.000000   21613.000000  21613.000000  21613.000000   \n",
              "mean       7.656873   1788.390691     291.509045   1971.005136     84.402258   \n",
              "std        1.175459    828.090978     442.575043     29.373411    401.679240   \n",
              "min        1.000000    290.000000       0.000000   1900.000000      0.000000   \n",
              "25%        7.000000   1190.000000       0.000000   1951.000000      0.000000   \n",
              "50%        7.000000   1560.000000       0.000000   1975.000000      0.000000   \n",
              "75%        8.000000   2210.000000     560.000000   1997.000000      0.000000   \n",
              "max       13.000000   9410.000000    4820.000000   2015.000000   2015.000000   \n",
              "\n",
              "            zipcode           lat          long  \n",
              "count  21613.000000  21613.000000  21613.000000  \n",
              "mean   98077.939805     47.560053   -122.213896  \n",
              "std       53.505026      0.138564      0.140828  \n",
              "min    98001.000000     47.155900   -122.519000  \n",
              "25%    98033.000000     47.471000   -122.328000  \n",
              "50%    98065.000000     47.571800   -122.230000  \n",
              "75%    98118.000000     47.678000   -122.125000  \n",
              "max    98199.000000     47.777600   -121.315000  "
            ],
            "text/html": [
              "\n",
              "  <div id=\"df-7bc02f8d-2136-49d8-b82f-3b879f4b7bae\">\n",
              "    <div class=\"colab-df-container\">\n",
              "      <div>\n",
              "<style scoped>\n",
              "    .dataframe tbody tr th:only-of-type {\n",
              "        vertical-align: middle;\n",
              "    }\n",
              "\n",
              "    .dataframe tbody tr th {\n",
              "        vertical-align: top;\n",
              "    }\n",
              "\n",
              "    .dataframe thead th {\n",
              "        text-align: right;\n",
              "    }\n",
              "</style>\n",
              "<table border=\"1\" class=\"dataframe\">\n",
              "  <thead>\n",
              "    <tr style=\"text-align: right;\">\n",
              "      <th></th>\n",
              "      <th>id</th>\n",
              "      <th>price</th>\n",
              "      <th>bedrooms</th>\n",
              "      <th>bathrooms</th>\n",
              "      <th>sqft_living</th>\n",
              "      <th>sqft_lot</th>\n",
              "      <th>floors</th>\n",
              "      <th>waterfront</th>\n",
              "      <th>view</th>\n",
              "      <th>condition</th>\n",
              "      <th>grade</th>\n",
              "      <th>sqft_above</th>\n",
              "      <th>sqft_basement</th>\n",
              "      <th>yr_built</th>\n",
              "      <th>yr_renovated</th>\n",
              "      <th>zipcode</th>\n",
              "      <th>lat</th>\n",
              "      <th>long</th>\n",
              "    </tr>\n",
              "  </thead>\n",
              "  <tbody>\n",
              "    <tr>\n",
              "      <th>count</th>\n",
              "      <td>2.161300e+04</td>\n",
              "      <td>2.161300e+04</td>\n",
              "      <td>21613.000000</td>\n",
              "      <td>21613.000000</td>\n",
              "      <td>21613.000000</td>\n",
              "      <td>2.161300e+04</td>\n",
              "      <td>21613.000000</td>\n",
              "      <td>21613.000000</td>\n",
              "      <td>21613.000000</td>\n",
              "      <td>21613.000000</td>\n",
              "      <td>21613.000000</td>\n",
              "      <td>21613.000000</td>\n",
              "      <td>21613.000000</td>\n",
              "      <td>21613.000000</td>\n",
              "      <td>21613.000000</td>\n",
              "      <td>21613.000000</td>\n",
              "      <td>21613.000000</td>\n",
              "      <td>21613.000000</td>\n",
              "    </tr>\n",
              "    <tr>\n",
              "      <th>mean</th>\n",
              "      <td>4.580302e+09</td>\n",
              "      <td>5.400881e+05</td>\n",
              "      <td>3.370842</td>\n",
              "      <td>2.114757</td>\n",
              "      <td>2079.899736</td>\n",
              "      <td>1.510697e+04</td>\n",
              "      <td>1.494309</td>\n",
              "      <td>0.007542</td>\n",
              "      <td>0.234303</td>\n",
              "      <td>3.409430</td>\n",
              "      <td>7.656873</td>\n",
              "      <td>1788.390691</td>\n",
              "      <td>291.509045</td>\n",
              "      <td>1971.005136</td>\n",
              "      <td>84.402258</td>\n",
              "      <td>98077.939805</td>\n",
              "      <td>47.560053</td>\n",
              "      <td>-122.213896</td>\n",
              "    </tr>\n",
              "    <tr>\n",
              "      <th>std</th>\n",
              "      <td>2.876566e+09</td>\n",
              "      <td>3.671272e+05</td>\n",
              "      <td>0.930062</td>\n",
              "      <td>0.770163</td>\n",
              "      <td>918.440897</td>\n",
              "      <td>4.142051e+04</td>\n",
              "      <td>0.539989</td>\n",
              "      <td>0.086517</td>\n",
              "      <td>0.766318</td>\n",
              "      <td>0.650743</td>\n",
              "      <td>1.175459</td>\n",
              "      <td>828.090978</td>\n",
              "      <td>442.575043</td>\n",
              "      <td>29.373411</td>\n",
              "      <td>401.679240</td>\n",
              "      <td>53.505026</td>\n",
              "      <td>0.138564</td>\n",
              "      <td>0.140828</td>\n",
              "    </tr>\n",
              "    <tr>\n",
              "      <th>min</th>\n",
              "      <td>1.000102e+06</td>\n",
              "      <td>7.500000e+04</td>\n",
              "      <td>0.000000</td>\n",
              "      <td>0.000000</td>\n",
              "      <td>290.000000</td>\n",
              "      <td>5.200000e+02</td>\n",
              "      <td>1.000000</td>\n",
              "      <td>0.000000</td>\n",
              "      <td>0.000000</td>\n",
              "      <td>1.000000</td>\n",
              "      <td>1.000000</td>\n",
              "      <td>290.000000</td>\n",
              "      <td>0.000000</td>\n",
              "      <td>1900.000000</td>\n",
              "      <td>0.000000</td>\n",
              "      <td>98001.000000</td>\n",
              "      <td>47.155900</td>\n",
              "      <td>-122.519000</td>\n",
              "    </tr>\n",
              "    <tr>\n",
              "      <th>25%</th>\n",
              "      <td>2.123049e+09</td>\n",
              "      <td>3.219500e+05</td>\n",
              "      <td>3.000000</td>\n",
              "      <td>1.750000</td>\n",
              "      <td>1427.000000</td>\n",
              "      <td>5.040000e+03</td>\n",
              "      <td>1.000000</td>\n",
              "      <td>0.000000</td>\n",
              "      <td>0.000000</td>\n",
              "      <td>3.000000</td>\n",
              "      <td>7.000000</td>\n",
              "      <td>1190.000000</td>\n",
              "      <td>0.000000</td>\n",
              "      <td>1951.000000</td>\n",
              "      <td>0.000000</td>\n",
              "      <td>98033.000000</td>\n",
              "      <td>47.471000</td>\n",
              "      <td>-122.328000</td>\n",
              "    </tr>\n",
              "    <tr>\n",
              "      <th>50%</th>\n",
              "      <td>3.904930e+09</td>\n",
              "      <td>4.500000e+05</td>\n",
              "      <td>3.000000</td>\n",
              "      <td>2.250000</td>\n",
              "      <td>1910.000000</td>\n",
              "      <td>7.618000e+03</td>\n",
              "      <td>1.500000</td>\n",
              "      <td>0.000000</td>\n",
              "      <td>0.000000</td>\n",
              "      <td>3.000000</td>\n",
              "      <td>7.000000</td>\n",
              "      <td>1560.000000</td>\n",
              "      <td>0.000000</td>\n",
              "      <td>1975.000000</td>\n",
              "      <td>0.000000</td>\n",
              "      <td>98065.000000</td>\n",
              "      <td>47.571800</td>\n",
              "      <td>-122.230000</td>\n",
              "    </tr>\n",
              "    <tr>\n",
              "      <th>75%</th>\n",
              "      <td>7.308900e+09</td>\n",
              "      <td>6.450000e+05</td>\n",
              "      <td>4.000000</td>\n",
              "      <td>2.500000</td>\n",
              "      <td>2550.000000</td>\n",
              "      <td>1.068800e+04</td>\n",
              "      <td>2.000000</td>\n",
              "      <td>0.000000</td>\n",
              "      <td>0.000000</td>\n",
              "      <td>4.000000</td>\n",
              "      <td>8.000000</td>\n",
              "      <td>2210.000000</td>\n",
              "      <td>560.000000</td>\n",
              "      <td>1997.000000</td>\n",
              "      <td>0.000000</td>\n",
              "      <td>98118.000000</td>\n",
              "      <td>47.678000</td>\n",
              "      <td>-122.125000</td>\n",
              "    </tr>\n",
              "    <tr>\n",
              "      <th>max</th>\n",
              "      <td>9.900000e+09</td>\n",
              "      <td>7.700000e+06</td>\n",
              "      <td>33.000000</td>\n",
              "      <td>8.000000</td>\n",
              "      <td>13540.000000</td>\n",
              "      <td>1.651359e+06</td>\n",
              "      <td>3.500000</td>\n",
              "      <td>1.000000</td>\n",
              "      <td>4.000000</td>\n",
              "      <td>5.000000</td>\n",
              "      <td>13.000000</td>\n",
              "      <td>9410.000000</td>\n",
              "      <td>4820.000000</td>\n",
              "      <td>2015.000000</td>\n",
              "      <td>2015.000000</td>\n",
              "      <td>98199.000000</td>\n",
              "      <td>47.777600</td>\n",
              "      <td>-121.315000</td>\n",
              "    </tr>\n",
              "  </tbody>\n",
              "</table>\n",
              "</div>\n",
              "      <button class=\"colab-df-convert\" onclick=\"convertToInteractive('df-7bc02f8d-2136-49d8-b82f-3b879f4b7bae')\"\n",
              "              title=\"Convert this dataframe to an interactive table.\"\n",
              "              style=\"display:none;\">\n",
              "        \n",
              "  <svg xmlns=\"http://www.w3.org/2000/svg\" height=\"24px\"viewBox=\"0 0 24 24\"\n",
              "       width=\"24px\">\n",
              "    <path d=\"M0 0h24v24H0V0z\" fill=\"none\"/>\n",
              "    <path d=\"M18.56 5.44l.94 2.06.94-2.06 2.06-.94-2.06-.94-.94-2.06-.94 2.06-2.06.94zm-11 1L8.5 8.5l.94-2.06 2.06-.94-2.06-.94L8.5 2.5l-.94 2.06-2.06.94zm10 10l.94 2.06.94-2.06 2.06-.94-2.06-.94-.94-2.06-.94 2.06-2.06.94z\"/><path d=\"M17.41 7.96l-1.37-1.37c-.4-.4-.92-.59-1.43-.59-.52 0-1.04.2-1.43.59L10.3 9.45l-7.72 7.72c-.78.78-.78 2.05 0 2.83L4 21.41c.39.39.9.59 1.41.59.51 0 1.02-.2 1.41-.59l7.78-7.78 2.81-2.81c.8-.78.8-2.07 0-2.86zM5.41 20L4 18.59l7.72-7.72 1.47 1.35L5.41 20z\"/>\n",
              "  </svg>\n",
              "      </button>\n",
              "      \n",
              "  <style>\n",
              "    .colab-df-container {\n",
              "      display:flex;\n",
              "      flex-wrap:wrap;\n",
              "      gap: 12px;\n",
              "    }\n",
              "\n",
              "    .colab-df-convert {\n",
              "      background-color: #E8F0FE;\n",
              "      border: none;\n",
              "      border-radius: 50%;\n",
              "      cursor: pointer;\n",
              "      display: none;\n",
              "      fill: #1967D2;\n",
              "      height: 32px;\n",
              "      padding: 0 0 0 0;\n",
              "      width: 32px;\n",
              "    }\n",
              "\n",
              "    .colab-df-convert:hover {\n",
              "      background-color: #E2EBFA;\n",
              "      box-shadow: 0px 1px 2px rgba(60, 64, 67, 0.3), 0px 1px 3px 1px rgba(60, 64, 67, 0.15);\n",
              "      fill: #174EA6;\n",
              "    }\n",
              "\n",
              "    [theme=dark] .colab-df-convert {\n",
              "      background-color: #3B4455;\n",
              "      fill: #D2E3FC;\n",
              "    }\n",
              "\n",
              "    [theme=dark] .colab-df-convert:hover {\n",
              "      background-color: #434B5C;\n",
              "      box-shadow: 0px 1px 3px 1px rgba(0, 0, 0, 0.15);\n",
              "      filter: drop-shadow(0px 1px 2px rgba(0, 0, 0, 0.3));\n",
              "      fill: #FFFFFF;\n",
              "    }\n",
              "  </style>\n",
              "\n",
              "      <script>\n",
              "        const buttonEl =\n",
              "          document.querySelector('#df-7bc02f8d-2136-49d8-b82f-3b879f4b7bae button.colab-df-convert');\n",
              "        buttonEl.style.display =\n",
              "          google.colab.kernel.accessAllowed ? 'block' : 'none';\n",
              "\n",
              "        async function convertToInteractive(key) {\n",
              "          const element = document.querySelector('#df-7bc02f8d-2136-49d8-b82f-3b879f4b7bae');\n",
              "          const dataTable =\n",
              "            await google.colab.kernel.invokeFunction('convertToInteractive',\n",
              "                                                     [key], {});\n",
              "          if (!dataTable) return;\n",
              "\n",
              "          const docLinkHtml = 'Like what you see? Visit the ' +\n",
              "            '<a target=\"_blank\" href=https://colab.research.google.com/notebooks/data_table.ipynb>data table notebook</a>'\n",
              "            + ' to learn more about interactive tables.';\n",
              "          element.innerHTML = '';\n",
              "          dataTable['output_type'] = 'display_data';\n",
              "          await google.colab.output.renderOutput(dataTable, element);\n",
              "          const docLink = document.createElement('div');\n",
              "          docLink.innerHTML = docLinkHtml;\n",
              "          element.appendChild(docLink);\n",
              "        }\n",
              "      </script>\n",
              "    </div>\n",
              "  </div>\n",
              "  "
            ]
          },
          "metadata": {},
          "execution_count": 6
        }
      ]
    },
    {
      "cell_type": "code",
      "source": [
        "# verificando a distribuição da variável categórica\n",
        "dataset.describe(include=['O'])"
      ],
      "metadata": {
        "colab": {
          "base_uri": "https://localhost:8080/",
          "height": 175
        },
        "id": "d6Jt4rGhhc2R",
        "outputId": "0a1896b5-6db5-4ab8-8827-49acc633b832"
      },
      "execution_count": null,
      "outputs": [
        {
          "output_type": "execute_result",
          "data": {
            "text/plain": [
              "                   date\n",
              "count             21613\n",
              "unique              372\n",
              "top     20140623T000000\n",
              "freq                142"
            ],
            "text/html": [
              "\n",
              "  <div id=\"df-749c432f-4127-4e06-bb0f-139fec4668f4\">\n",
              "    <div class=\"colab-df-container\">\n",
              "      <div>\n",
              "<style scoped>\n",
              "    .dataframe tbody tr th:only-of-type {\n",
              "        vertical-align: middle;\n",
              "    }\n",
              "\n",
              "    .dataframe tbody tr th {\n",
              "        vertical-align: top;\n",
              "    }\n",
              "\n",
              "    .dataframe thead th {\n",
              "        text-align: right;\n",
              "    }\n",
              "</style>\n",
              "<table border=\"1\" class=\"dataframe\">\n",
              "  <thead>\n",
              "    <tr style=\"text-align: right;\">\n",
              "      <th></th>\n",
              "      <th>date</th>\n",
              "    </tr>\n",
              "  </thead>\n",
              "  <tbody>\n",
              "    <tr>\n",
              "      <th>count</th>\n",
              "      <td>21613</td>\n",
              "    </tr>\n",
              "    <tr>\n",
              "      <th>unique</th>\n",
              "      <td>372</td>\n",
              "    </tr>\n",
              "    <tr>\n",
              "      <th>top</th>\n",
              "      <td>20140623T000000</td>\n",
              "    </tr>\n",
              "    <tr>\n",
              "      <th>freq</th>\n",
              "      <td>142</td>\n",
              "    </tr>\n",
              "  </tbody>\n",
              "</table>\n",
              "</div>\n",
              "      <button class=\"colab-df-convert\" onclick=\"convertToInteractive('df-749c432f-4127-4e06-bb0f-139fec4668f4')\"\n",
              "              title=\"Convert this dataframe to an interactive table.\"\n",
              "              style=\"display:none;\">\n",
              "        \n",
              "  <svg xmlns=\"http://www.w3.org/2000/svg\" height=\"24px\"viewBox=\"0 0 24 24\"\n",
              "       width=\"24px\">\n",
              "    <path d=\"M0 0h24v24H0V0z\" fill=\"none\"/>\n",
              "    <path d=\"M18.56 5.44l.94 2.06.94-2.06 2.06-.94-2.06-.94-.94-2.06-.94 2.06-2.06.94zm-11 1L8.5 8.5l.94-2.06 2.06-.94-2.06-.94L8.5 2.5l-.94 2.06-2.06.94zm10 10l.94 2.06.94-2.06 2.06-.94-2.06-.94-.94-2.06-.94 2.06-2.06.94z\"/><path d=\"M17.41 7.96l-1.37-1.37c-.4-.4-.92-.59-1.43-.59-.52 0-1.04.2-1.43.59L10.3 9.45l-7.72 7.72c-.78.78-.78 2.05 0 2.83L4 21.41c.39.39.9.59 1.41.59.51 0 1.02-.2 1.41-.59l7.78-7.78 2.81-2.81c.8-.78.8-2.07 0-2.86zM5.41 20L4 18.59l7.72-7.72 1.47 1.35L5.41 20z\"/>\n",
              "  </svg>\n",
              "      </button>\n",
              "      \n",
              "  <style>\n",
              "    .colab-df-container {\n",
              "      display:flex;\n",
              "      flex-wrap:wrap;\n",
              "      gap: 12px;\n",
              "    }\n",
              "\n",
              "    .colab-df-convert {\n",
              "      background-color: #E8F0FE;\n",
              "      border: none;\n",
              "      border-radius: 50%;\n",
              "      cursor: pointer;\n",
              "      display: none;\n",
              "      fill: #1967D2;\n",
              "      height: 32px;\n",
              "      padding: 0 0 0 0;\n",
              "      width: 32px;\n",
              "    }\n",
              "\n",
              "    .colab-df-convert:hover {\n",
              "      background-color: #E2EBFA;\n",
              "      box-shadow: 0px 1px 2px rgba(60, 64, 67, 0.3), 0px 1px 3px 1px rgba(60, 64, 67, 0.15);\n",
              "      fill: #174EA6;\n",
              "    }\n",
              "\n",
              "    [theme=dark] .colab-df-convert {\n",
              "      background-color: #3B4455;\n",
              "      fill: #D2E3FC;\n",
              "    }\n",
              "\n",
              "    [theme=dark] .colab-df-convert:hover {\n",
              "      background-color: #434B5C;\n",
              "      box-shadow: 0px 1px 3px 1px rgba(0, 0, 0, 0.15);\n",
              "      filter: drop-shadow(0px 1px 2px rgba(0, 0, 0, 0.3));\n",
              "      fill: #FFFFFF;\n",
              "    }\n",
              "  </style>\n",
              "\n",
              "      <script>\n",
              "        const buttonEl =\n",
              "          document.querySelector('#df-749c432f-4127-4e06-bb0f-139fec4668f4 button.colab-df-convert');\n",
              "        buttonEl.style.display =\n",
              "          google.colab.kernel.accessAllowed ? 'block' : 'none';\n",
              "\n",
              "        async function convertToInteractive(key) {\n",
              "          const element = document.querySelector('#df-749c432f-4127-4e06-bb0f-139fec4668f4');\n",
              "          const dataTable =\n",
              "            await google.colab.kernel.invokeFunction('convertToInteractive',\n",
              "                                                     [key], {});\n",
              "          if (!dataTable) return;\n",
              "\n",
              "          const docLinkHtml = 'Like what you see? Visit the ' +\n",
              "            '<a target=\"_blank\" href=https://colab.research.google.com/notebooks/data_table.ipynb>data table notebook</a>'\n",
              "            + ' to learn more about interactive tables.';\n",
              "          element.innerHTML = '';\n",
              "          dataTable['output_type'] = 'display_data';\n",
              "          await google.colab.output.renderOutput(dataTable, element);\n",
              "          const docLink = document.createElement('div');\n",
              "          docLink.innerHTML = docLinkHtml;\n",
              "          element.appendChild(docLink);\n",
              "        }\n",
              "      </script>\n",
              "    </div>\n",
              "  </div>\n",
              "  "
            ]
          },
          "metadata": {},
          "execution_count": 7
        }
      ]
    },
    {
      "cell_type": "code",
      "source": [
        "# verificando se há valores ausentes\n",
        "dataset.isnull().sum()\n",
        "# o dataset não possui valores ausentes"
      ],
      "metadata": {
        "colab": {
          "base_uri": "https://localhost:8080/"
        },
        "id": "mWeE8R_Zhu5L",
        "outputId": "27f81812-6575-48e5-af75-d163e5169349"
      },
      "execution_count": null,
      "outputs": [
        {
          "output_type": "execute_result",
          "data": {
            "text/plain": [
              "id               0\n",
              "date             0\n",
              "price            0\n",
              "bedrooms         0\n",
              "bathrooms        0\n",
              "sqft_living      0\n",
              "sqft_lot         0\n",
              "floors           0\n",
              "waterfront       0\n",
              "view             0\n",
              "condition        0\n",
              "grade            0\n",
              "sqft_above       0\n",
              "sqft_basement    0\n",
              "yr_built         0\n",
              "yr_renovated     0\n",
              "zipcode          0\n",
              "lat              0\n",
              "long             0\n",
              "dtype: int64"
            ]
          },
          "metadata": {},
          "execution_count": 8
        }
      ]
    },
    {
      "cell_type": "markdown",
      "source": [
        "### **RESPONDENDO A PERGUNTA 1**"
      ],
      "metadata": {
        "id": "0J3e0Scdh6vF"
      }
    },
    {
      "cell_type": "markdown",
      "source": [
        "1 - Analise a correlação de todas as variáveis com o preço do imóvel. Quais variáveis são mais correlacionadas? Quais são menos correlacionadas?"
      ],
      "metadata": {
        "id": "tCGfxzkhh_vU"
      }
    },
    {
      "cell_type": "code",
      "source": [
        "# calculando a matriz de correlação entre todas as colunas numéricas do dataset e atribuindo o resultado à variável dfcorrelacao\n",
        "dfcorrelacao = dataset.corr()"
      ],
      "metadata": {
        "id": "6RBdWfuhh-l0"
      },
      "execution_count": null,
      "outputs": []
    },
    {
      "cell_type": "code",
      "source": [
        "# criando um novo dataframe dada a matriz de correlação calculada anteriormente\n",
        "dfcorrelacao =  pd.DataFrame(dfcorrelacao)"
      ],
      "metadata": {
        "id": "3LeVQcsuhwqA"
      },
      "execution_count": null,
      "outputs": []
    },
    {
      "cell_type": "code",
      "source": [
        "# exibe as primeiras linhas 5 do dataFrame dfcorrelacao\n",
        "dfcorrelacao.head()"
      ],
      "metadata": {
        "colab": {
          "base_uri": "https://localhost:8080/",
          "height": 270
        },
        "id": "YWqgm4aViHdf",
        "outputId": "fb640ef9-6f08-48e2-d43a-ebedaeda41f6"
      },
      "execution_count": null,
      "outputs": [
        {
          "output_type": "execute_result",
          "data": {
            "text/plain": [
              "                   id     price  bedrooms  bathrooms  sqft_living  sqft_lot  \\\n",
              "id           1.000000 -0.016762  0.001286   0.005160    -0.012258 -0.132109   \n",
              "price       -0.016762  1.000000  0.308350   0.525138     0.702035  0.089661   \n",
              "bedrooms     0.001286  0.308350  1.000000   0.515884     0.576671  0.031703   \n",
              "bathrooms    0.005160  0.525138  0.515884   1.000000     0.754665  0.087740   \n",
              "sqft_living -0.012258  0.702035  0.576671   0.754665     1.000000  0.172826   \n",
              "\n",
              "               floors  waterfront      view  condition     grade  sqft_above  \\\n",
              "id           0.018525   -0.002721  0.011592  -0.023783  0.008130   -0.010842   \n",
              "price        0.256794    0.266369  0.397293   0.036362  0.667434    0.605567   \n",
              "bedrooms     0.175429   -0.006582  0.079532   0.028472  0.356967    0.477600   \n",
              "bathrooms    0.500653    0.063744  0.187737  -0.124982  0.664983    0.685342   \n",
              "sqft_living  0.353949    0.103818  0.284611  -0.058753  0.762704    0.876597   \n",
              "\n",
              "             sqft_basement  yr_built  yr_renovated   zipcode       lat  \\\n",
              "id               -0.005151  0.021380     -0.016907 -0.008224 -0.001891   \n",
              "price             0.323816  0.054012      0.126434 -0.053203  0.307003   \n",
              "bedrooms          0.303093  0.154178      0.018841 -0.152668 -0.008931   \n",
              "bathrooms         0.283770  0.506019      0.050739 -0.203866  0.024573   \n",
              "sqft_living       0.435043  0.318049      0.055363 -0.199430  0.052529   \n",
              "\n",
              "                 long  \n",
              "id           0.020799  \n",
              "price        0.021626  \n",
              "bedrooms     0.129473  \n",
              "bathrooms    0.223042  \n",
              "sqft_living  0.240223  "
            ],
            "text/html": [
              "\n",
              "  <div id=\"df-44954b9c-5381-4bbf-9f50-154be855c896\">\n",
              "    <div class=\"colab-df-container\">\n",
              "      <div>\n",
              "<style scoped>\n",
              "    .dataframe tbody tr th:only-of-type {\n",
              "        vertical-align: middle;\n",
              "    }\n",
              "\n",
              "    .dataframe tbody tr th {\n",
              "        vertical-align: top;\n",
              "    }\n",
              "\n",
              "    .dataframe thead th {\n",
              "        text-align: right;\n",
              "    }\n",
              "</style>\n",
              "<table border=\"1\" class=\"dataframe\">\n",
              "  <thead>\n",
              "    <tr style=\"text-align: right;\">\n",
              "      <th></th>\n",
              "      <th>id</th>\n",
              "      <th>price</th>\n",
              "      <th>bedrooms</th>\n",
              "      <th>bathrooms</th>\n",
              "      <th>sqft_living</th>\n",
              "      <th>sqft_lot</th>\n",
              "      <th>floors</th>\n",
              "      <th>waterfront</th>\n",
              "      <th>view</th>\n",
              "      <th>condition</th>\n",
              "      <th>grade</th>\n",
              "      <th>sqft_above</th>\n",
              "      <th>sqft_basement</th>\n",
              "      <th>yr_built</th>\n",
              "      <th>yr_renovated</th>\n",
              "      <th>zipcode</th>\n",
              "      <th>lat</th>\n",
              "      <th>long</th>\n",
              "    </tr>\n",
              "  </thead>\n",
              "  <tbody>\n",
              "    <tr>\n",
              "      <th>id</th>\n",
              "      <td>1.000000</td>\n",
              "      <td>-0.016762</td>\n",
              "      <td>0.001286</td>\n",
              "      <td>0.005160</td>\n",
              "      <td>-0.012258</td>\n",
              "      <td>-0.132109</td>\n",
              "      <td>0.018525</td>\n",
              "      <td>-0.002721</td>\n",
              "      <td>0.011592</td>\n",
              "      <td>-0.023783</td>\n",
              "      <td>0.008130</td>\n",
              "      <td>-0.010842</td>\n",
              "      <td>-0.005151</td>\n",
              "      <td>0.021380</td>\n",
              "      <td>-0.016907</td>\n",
              "      <td>-0.008224</td>\n",
              "      <td>-0.001891</td>\n",
              "      <td>0.020799</td>\n",
              "    </tr>\n",
              "    <tr>\n",
              "      <th>price</th>\n",
              "      <td>-0.016762</td>\n",
              "      <td>1.000000</td>\n",
              "      <td>0.308350</td>\n",
              "      <td>0.525138</td>\n",
              "      <td>0.702035</td>\n",
              "      <td>0.089661</td>\n",
              "      <td>0.256794</td>\n",
              "      <td>0.266369</td>\n",
              "      <td>0.397293</td>\n",
              "      <td>0.036362</td>\n",
              "      <td>0.667434</td>\n",
              "      <td>0.605567</td>\n",
              "      <td>0.323816</td>\n",
              "      <td>0.054012</td>\n",
              "      <td>0.126434</td>\n",
              "      <td>-0.053203</td>\n",
              "      <td>0.307003</td>\n",
              "      <td>0.021626</td>\n",
              "    </tr>\n",
              "    <tr>\n",
              "      <th>bedrooms</th>\n",
              "      <td>0.001286</td>\n",
              "      <td>0.308350</td>\n",
              "      <td>1.000000</td>\n",
              "      <td>0.515884</td>\n",
              "      <td>0.576671</td>\n",
              "      <td>0.031703</td>\n",
              "      <td>0.175429</td>\n",
              "      <td>-0.006582</td>\n",
              "      <td>0.079532</td>\n",
              "      <td>0.028472</td>\n",
              "      <td>0.356967</td>\n",
              "      <td>0.477600</td>\n",
              "      <td>0.303093</td>\n",
              "      <td>0.154178</td>\n",
              "      <td>0.018841</td>\n",
              "      <td>-0.152668</td>\n",
              "      <td>-0.008931</td>\n",
              "      <td>0.129473</td>\n",
              "    </tr>\n",
              "    <tr>\n",
              "      <th>bathrooms</th>\n",
              "      <td>0.005160</td>\n",
              "      <td>0.525138</td>\n",
              "      <td>0.515884</td>\n",
              "      <td>1.000000</td>\n",
              "      <td>0.754665</td>\n",
              "      <td>0.087740</td>\n",
              "      <td>0.500653</td>\n",
              "      <td>0.063744</td>\n",
              "      <td>0.187737</td>\n",
              "      <td>-0.124982</td>\n",
              "      <td>0.664983</td>\n",
              "      <td>0.685342</td>\n",
              "      <td>0.283770</td>\n",
              "      <td>0.506019</td>\n",
              "      <td>0.050739</td>\n",
              "      <td>-0.203866</td>\n",
              "      <td>0.024573</td>\n",
              "      <td>0.223042</td>\n",
              "    </tr>\n",
              "    <tr>\n",
              "      <th>sqft_living</th>\n",
              "      <td>-0.012258</td>\n",
              "      <td>0.702035</td>\n",
              "      <td>0.576671</td>\n",
              "      <td>0.754665</td>\n",
              "      <td>1.000000</td>\n",
              "      <td>0.172826</td>\n",
              "      <td>0.353949</td>\n",
              "      <td>0.103818</td>\n",
              "      <td>0.284611</td>\n",
              "      <td>-0.058753</td>\n",
              "      <td>0.762704</td>\n",
              "      <td>0.876597</td>\n",
              "      <td>0.435043</td>\n",
              "      <td>0.318049</td>\n",
              "      <td>0.055363</td>\n",
              "      <td>-0.199430</td>\n",
              "      <td>0.052529</td>\n",
              "      <td>0.240223</td>\n",
              "    </tr>\n",
              "  </tbody>\n",
              "</table>\n",
              "</div>\n",
              "      <button class=\"colab-df-convert\" onclick=\"convertToInteractive('df-44954b9c-5381-4bbf-9f50-154be855c896')\"\n",
              "              title=\"Convert this dataframe to an interactive table.\"\n",
              "              style=\"display:none;\">\n",
              "        \n",
              "  <svg xmlns=\"http://www.w3.org/2000/svg\" height=\"24px\"viewBox=\"0 0 24 24\"\n",
              "       width=\"24px\">\n",
              "    <path d=\"M0 0h24v24H0V0z\" fill=\"none\"/>\n",
              "    <path d=\"M18.56 5.44l.94 2.06.94-2.06 2.06-.94-2.06-.94-.94-2.06-.94 2.06-2.06.94zm-11 1L8.5 8.5l.94-2.06 2.06-.94-2.06-.94L8.5 2.5l-.94 2.06-2.06.94zm10 10l.94 2.06.94-2.06 2.06-.94-2.06-.94-.94-2.06-.94 2.06-2.06.94z\"/><path d=\"M17.41 7.96l-1.37-1.37c-.4-.4-.92-.59-1.43-.59-.52 0-1.04.2-1.43.59L10.3 9.45l-7.72 7.72c-.78.78-.78 2.05 0 2.83L4 21.41c.39.39.9.59 1.41.59.51 0 1.02-.2 1.41-.59l7.78-7.78 2.81-2.81c.8-.78.8-2.07 0-2.86zM5.41 20L4 18.59l7.72-7.72 1.47 1.35L5.41 20z\"/>\n",
              "  </svg>\n",
              "      </button>\n",
              "      \n",
              "  <style>\n",
              "    .colab-df-container {\n",
              "      display:flex;\n",
              "      flex-wrap:wrap;\n",
              "      gap: 12px;\n",
              "    }\n",
              "\n",
              "    .colab-df-convert {\n",
              "      background-color: #E8F0FE;\n",
              "      border: none;\n",
              "      border-radius: 50%;\n",
              "      cursor: pointer;\n",
              "      display: none;\n",
              "      fill: #1967D2;\n",
              "      height: 32px;\n",
              "      padding: 0 0 0 0;\n",
              "      width: 32px;\n",
              "    }\n",
              "\n",
              "    .colab-df-convert:hover {\n",
              "      background-color: #E2EBFA;\n",
              "      box-shadow: 0px 1px 2px rgba(60, 64, 67, 0.3), 0px 1px 3px 1px rgba(60, 64, 67, 0.15);\n",
              "      fill: #174EA6;\n",
              "    }\n",
              "\n",
              "    [theme=dark] .colab-df-convert {\n",
              "      background-color: #3B4455;\n",
              "      fill: #D2E3FC;\n",
              "    }\n",
              "\n",
              "    [theme=dark] .colab-df-convert:hover {\n",
              "      background-color: #434B5C;\n",
              "      box-shadow: 0px 1px 3px 1px rgba(0, 0, 0, 0.15);\n",
              "      filter: drop-shadow(0px 1px 2px rgba(0, 0, 0, 0.3));\n",
              "      fill: #FFFFFF;\n",
              "    }\n",
              "  </style>\n",
              "\n",
              "      <script>\n",
              "        const buttonEl =\n",
              "          document.querySelector('#df-44954b9c-5381-4bbf-9f50-154be855c896 button.colab-df-convert');\n",
              "        buttonEl.style.display =\n",
              "          google.colab.kernel.accessAllowed ? 'block' : 'none';\n",
              "\n",
              "        async function convertToInteractive(key) {\n",
              "          const element = document.querySelector('#df-44954b9c-5381-4bbf-9f50-154be855c896');\n",
              "          const dataTable =\n",
              "            await google.colab.kernel.invokeFunction('convertToInteractive',\n",
              "                                                     [key], {});\n",
              "          if (!dataTable) return;\n",
              "\n",
              "          const docLinkHtml = 'Like what you see? Visit the ' +\n",
              "            '<a target=\"_blank\" href=https://colab.research.google.com/notebooks/data_table.ipynb>data table notebook</a>'\n",
              "            + ' to learn more about interactive tables.';\n",
              "          element.innerHTML = '';\n",
              "          dataTable['output_type'] = 'display_data';\n",
              "          await google.colab.output.renderOutput(dataTable, element);\n",
              "          const docLink = document.createElement('div');\n",
              "          docLink.innerHTML = docLinkHtml;\n",
              "          element.appendChild(docLink);\n",
              "        }\n",
              "      </script>\n",
              "    </div>\n",
              "  </div>\n",
              "  "
            ]
          },
          "metadata": {},
          "execution_count": 11
        }
      ]
    },
    {
      "cell_type": "markdown",
      "source": [
        "**Variáveis mais correlacionadas?**"
      ],
      "metadata": {
        "id": "z7c9HA9LiOiV"
      }
    },
    {
      "cell_type": "code",
      "source": [
        "# exibindo as 6 variáveis mais correlacionadas com a variável 'price' e ordenando o novo DataFrame pela coluna 'price' em ordem decrescente\n",
        "correlacao_maior = dfcorrelacao.sort_values(by = 'price', ascending = False)\n",
        "# exibindo os primeiros 6 resultados da coluna 'price'\n",
        "correlacao_maior['price'].head(6)"
      ],
      "metadata": {
        "colab": {
          "base_uri": "https://localhost:8080/"
        },
        "id": "1RkcWNariKjx",
        "outputId": "5609a6a1-94a5-4310-b6cc-be64ef4a7801"
      },
      "execution_count": null,
      "outputs": [
        {
          "output_type": "execute_result",
          "data": {
            "text/plain": [
              "price          1.000000\n",
              "sqft_living    0.702035\n",
              "grade          0.667434\n",
              "sqft_above     0.605567\n",
              "bathrooms      0.525138\n",
              "view           0.397293\n",
              "Name: price, dtype: float64"
            ]
          },
          "metadata": {},
          "execution_count": 12
        }
      ]
    },
    {
      "cell_type": "markdown",
      "source": [
        "**Variáveis menos correlacionadas?**\n"
      ],
      "metadata": {
        "id": "ffoTbw_niVxC"
      }
    },
    {
      "cell_type": "code",
      "source": [
        "# exibindo as 6 variáveis menos correlacionadas com a variável 'price' e ordenando o novo DataFrame pela coluna 'price' em ordem decrescente\n",
        "correlacao_menor = dfcorrelacao.sort_values(by = 'price', ascending = True)\n",
        "# exibindo os primeiros 6 resultados da coluna 'price'\n",
        "correlacao_menor['price'].head(6)"
      ],
      "metadata": {
        "colab": {
          "base_uri": "https://localhost:8080/"
        },
        "id": "Zqf8aI8riWx7",
        "outputId": "3cef84cc-94cc-4ff5-edf3-ddd7d202b7d2"
      },
      "execution_count": null,
      "outputs": [
        {
          "output_type": "execute_result",
          "data": {
            "text/plain": [
              "zipcode     -0.053203\n",
              "id          -0.016762\n",
              "long         0.021626\n",
              "condition    0.036362\n",
              "yr_built     0.054012\n",
              "sqft_lot     0.089661\n",
              "Name: price, dtype: float64"
            ]
          },
          "metadata": {},
          "execution_count": 13
        }
      ]
    },
    {
      "cell_type": "markdown",
      "source": [
        "### **RESPONDENDO A PERGUNTA 2**"
      ],
      "metadata": {
        "id": "ylKpejQLie_B"
      }
    },
    {
      "cell_type": "markdown",
      "source": [
        "2 - Para as top 5 variáveis mais correlacionadas com o preço:"
      ],
      "metadata": {
        "id": "Q2lmxqgHih13"
      }
    },
    {
      "cell_type": "markdown",
      "source": [
        "*2.1 plote as suas distribuições (histograma e boxplot)*"
      ],
      "metadata": {
        "id": "vc8jaW3likpX"
      }
    },
    {
      "cell_type": "code",
      "source": [
        "# criamos um gráfico do tipo boxplot com a variável 'sqft_living' do dataset\n",
        "# definimos a orientação horizontal e a largura das barras como 0.5\n",
        "ax = sns.boxplot(data = dataset, x='sqft_living', orient = 'h', width = 0.5)\n",
        "# definimos o tamanho da figura do gráfico como 8x4 polegadas\n",
        "ax.figure.set_size_inches(8,4)\n",
        "# adicionamos um título ao gráfico com tamanho de fonte de 20\n",
        "ax.set_title('Box plot', fontsize = 20)\n",
        "# adicionamos uma legenda ao eixo x do gráfico com tamanho de fonte de 16\n",
        "ax.set_xlabel('Tamanho do imóvel', fontsize = 16)\n",
        "# exibe o gráfico\n",
        "_= ax"
      ],
      "metadata": {
        "colab": {
          "base_uri": "https://localhost:8080/",
          "height": 305
        },
        "id": "QBgVOsqhinig",
        "outputId": "521df1cf-d9dc-4b93-a452-79235bc9fbc0"
      },
      "execution_count": null,
      "outputs": [
        {
          "output_type": "display_data",
          "data": {
            "text/plain": [
              "<Figure size 576x288 with 1 Axes>"
            ],
            "image/png": "[encoded data removed]"
          },
          "metadata": {
            "needs_background": "light"
          }
        }
      ]
    },
    {
      "cell_type": "code",
      "source": [
        "# criamos um histograma da coluna 'sqft_living' do conjunto de dados 'dataset'\n",
        "ax = sns.distplot(dataset['sqft_living'])\n",
        "# definimos o tamanho da figura\n",
        "ax.figure.set_size_inches(12, 6)\n",
        "# definimos o título do gráfico e o tamanho da fonte\n",
        "ax.set_title('Histograma Tamanho do imóvel', fontsize=20)\n",
        "# definimos o rótulo do eixo y como vazio e o tamanho da fonte\n",
        "ax.set_ylabel('', fontsize=16)\n",
        "# exibe o gráfico\n",
        "_= ax"
      ],
      "metadata": {
        "colab": {
          "base_uri": "https://localhost:8080/",
          "height": 602
        },
        "id": "OXpPaZMoigdm",
        "outputId": "7849244a-ad78-40c9-ba1a-bbe5123a1cf5"
      },
      "execution_count": null,
      "outputs": [
        {
          "output_type": "stream",
          "name": "stderr",
          "text": [
            "<ipython-input-15-2e7801413c67>:2: UserWarning: \n",
            "\n",
            "`distplot` is a deprecated function and will be removed in seaborn v0.14.0.\n",
            "\n",
            "Please adapt your code to use either `displot` (a figure-level function with\n",
            "similar flexibility) or `histplot` (an axes-level function for histograms).\n",
            "\n",
            "For a guide to updating your code to use the new functions, please see\n",
            "https://gist.github.com/mwaskom/de44147ed2974457ad6372750bbe5751\n",
            "\n",
            "  ax = sns.distplot(dataset['sqft_living'])\n"
          ]
        },
        {
          "output_type": "display_data",
          "data": {
            "text/plain": [
              "<Figure size 864x432 with 1 Axes>"
            ],
            "image/png": "[encoded data removed]"
          },
          "metadata": {
            "needs_background": "light"
          }
        }
      ]
    },
    {
      "cell_type": "code",
      "source": [
        "dataset.sqft_living.hist(bins = 100)"
      ],
      "metadata": {
        "colab": {
          "base_uri": "https://localhost:8080/",
          "height": 283
        },
        "id": "VOzIGdFKiwbu",
        "outputId": "c42b2324-ff82-4113-e000-d4fc302f9776"
      },
      "execution_count": null,
      "outputs": [
        {
          "output_type": "execute_result",
          "data": {
            "text/plain": [
              "<Axes: >"
            ]
          },
          "metadata": {},
          "execution_count": 16
        },
        {
          "output_type": "display_data",
          "data": {
            "text/plain": [
              "<Figure size 432x288 with 1 Axes>"
            ],
            "image/png": "[encoded data removed]"
          },
          "metadata": {
            "needs_background": "light"
          }
        }
      ]
    },
    {
      "cell_type": "code",
      "source": [
        "ax = sns.boxplot(data = dataset, x='grade', orient = 'h', width = 0.5)\n",
        "ax.figure.set_size_inches(8,4)\n",
        "ax.set_title('Box plot', fontsize = 20)\n",
        "ax.set_xlabel('Nota do imóvel', fontsize = 16)\n",
        "_= ax"
      ],
      "metadata": {
        "colab": {
          "base_uri": "https://localhost:8080/",
          "height": 305
        },
        "id": "hRhiBqDqi3D6",
        "outputId": "9021d4e8-a2bd-4e12-e623-7a3d7061177f"
      },
      "execution_count": null,
      "outputs": [
        {
          "output_type": "display_data",
          "data": {
            "text/plain": [
              "<Figure size 576x288 with 1 Axes>"
            ],
            "image/png": "[encoded data removed]"
          },
          "metadata": {
            "needs_background": "light"
          }
        }
      ]
    },
    {
      "cell_type": "code",
      "source": [
        "ax = sns.distplot(dataset['grade'])\n",
        "ax.figure.set_size_inches(12, 6)\n",
        "ax.set_title('Nota do imóvel', fontsize=20)\n",
        "ax.set_ylabel('', fontsize=16)\n",
        "_= ax"
      ],
      "metadata": {
        "colab": {
          "base_uri": "https://localhost:8080/",
          "height": 600
        },
        "id": "S0c3wMEBi6om",
        "outputId": "5af6c648-c605-4464-faff-430f8b741012"
      },
      "execution_count": null,
      "outputs": [
        {
          "output_type": "stream",
          "name": "stderr",
          "text": [
            "<ipython-input-18-b14eae52b963>:1: UserWarning: \n",
            "\n",
            "`distplot` is a deprecated function and will be removed in seaborn v0.14.0.\n",
            "\n",
            "Please adapt your code to use either `displot` (a figure-level function with\n",
            "similar flexibility) or `histplot` (an axes-level function for histograms).\n",
            "\n",
            "For a guide to updating your code to use the new functions, please see\n",
            "https://gist.github.com/mwaskom/de44147ed2974457ad6372750bbe5751\n",
            "\n",
            "  ax = sns.distplot(dataset['grade'])\n"
          ]
        },
        {
          "output_type": "display_data",
          "data": {
            "text/plain": [
              "<Figure size 864x432 with 1 Axes>"
            ],
            "image/png": "[encoded data removed]"
          },
          "metadata": {
            "needs_background": "light"
          }
        }
      ]
    },
    {
      "cell_type": "code",
      "source": [
        "ax = sns.boxplot(data = dataset, x='sqft_above', orient = 'h', width = 0.5)\n",
        "ax.figure.set_size_inches(8,4)\n",
        "ax.set_title('Box plot', fontsize = 20)\n",
        "ax.set_xlabel('Tamanho da casa acima do solo', fontsize = 16)\n",
        "_= ax"
      ],
      "metadata": {
        "colab": {
          "base_uri": "https://localhost:8080/",
          "height": 305
        },
        "id": "IRE_ZZbsjS5T",
        "outputId": "ca433d8a-9137-4f29-89ce-c50709c908c6"
      },
      "execution_count": null,
      "outputs": [
        {
          "output_type": "display_data",
          "data": {
            "text/plain": [
              "<Figure size 576x288 with 1 Axes>"
            ],
            "image/png": "[encoded data removed]"
          },
          "metadata": {
            "needs_background": "light"
          }
        }
      ]
    },
    {
      "cell_type": "code",
      "source": [
        "dataset.sqft_above.hist(bins = 50)"
      ],
      "metadata": {
        "colab": {
          "base_uri": "https://localhost:8080/",
          "height": 282
        },
        "id": "3ZGS6kQtjWgF",
        "outputId": "6502613e-c87d-4177-e0a0-b59c6d080c28"
      },
      "execution_count": null,
      "outputs": [
        {
          "output_type": "execute_result",
          "data": {
            "text/plain": [
              "<Axes: >"
            ]
          },
          "metadata": {},
          "execution_count": 20
        },
        {
          "output_type": "display_data",
          "data": {
            "text/plain": [
              "<Figure size 432x288 with 1 Axes>"
            ],
            "image/png": "[encoded data removed]"
          },
          "metadata": {
            "needs_background": "light"
          }
        }
      ]
    },
    {
      "cell_type": "code",
      "source": [
        "ax = sns.distplot(dataset['sqft_above'])\n",
        "ax.figure.set_size_inches(12, 6)\n",
        "ax.set_title('Tamanho da casa acima do imóvel', fontsize=20)\n",
        "ax.set_ylabel('', fontsize=16)\n",
        "_= ax"
      ],
      "metadata": {
        "colab": {
          "base_uri": "https://localhost:8080/",
          "height": 601
        },
        "id": "_o5UjUSijZ9o",
        "outputId": "89c38fe6-9433-4222-83f4-6a02314263a0"
      },
      "execution_count": null,
      "outputs": [
        {
          "output_type": "stream",
          "name": "stderr",
          "text": [
            "<ipython-input-21-f6142bb06678>:1: UserWarning: \n",
            "\n",
            "`distplot` is a deprecated function and will be removed in seaborn v0.14.0.\n",
            "\n",
            "Please adapt your code to use either `displot` (a figure-level function with\n",
            "similar flexibility) or `histplot` (an axes-level function for histograms).\n",
            "\n",
            "For a guide to updating your code to use the new functions, please see\n",
            "https://gist.github.com/mwaskom/de44147ed2974457ad6372750bbe5751\n",
            "\n",
            "  ax = sns.distplot(dataset['sqft_above'])\n"
          ]
        },
        {
          "output_type": "display_data",
          "data": {
            "text/plain": [
              "<Figure size 864x432 with 1 Axes>"
            ],
            "image/png": "[encoded data removed]"
          },
          "metadata": {
            "needs_background": "light"
          }
        }
      ]
    },
    {
      "cell_type": "code",
      "source": [
        "ax = sns.boxplot(data = dataset, x='bathrooms', orient = 'h', width = 0.5)\n",
        "ax.figure.set_size_inches(8,4)\n",
        "ax.set_title('Box plot', fontsize = 20)\n",
        "ax.set_xlabel('Banheiros', fontsize = 16)\n",
        "_= ax"
      ],
      "metadata": {
        "colab": {
          "base_uri": "https://localhost:8080/",
          "height": 305
        },
        "id": "GkoYWqCXjfQN",
        "outputId": "9031f79b-2654-43a2-dcf4-62d4c05b9a86"
      },
      "execution_count": null,
      "outputs": [
        {
          "output_type": "display_data",
          "data": {
            "text/plain": [
              "<Figure size 576x288 with 1 Axes>"
            ],
            "image/png": "[encoded data removed]"
          },
          "metadata": {
            "needs_background": "light"
          }
        }
      ]
    },
    {
      "cell_type": "code",
      "source": [
        "dataset.bathrooms.hist(bins = 50)"
      ],
      "metadata": {
        "colab": {
          "base_uri": "https://localhost:8080/",
          "height": 282
        },
        "id": "pw5C4-7VjjP5",
        "outputId": "1286cbd5-9867-4178-ea4b-6fe2a86d2fe8"
      },
      "execution_count": null,
      "outputs": [
        {
          "output_type": "execute_result",
          "data": {
            "text/plain": [
              "<Axes: >"
            ]
          },
          "metadata": {},
          "execution_count": 23
        },
        {
          "output_type": "display_data",
          "data": {
            "text/plain": [
              "<Figure size 432x288 with 1 Axes>"
            ],
            "image/png": "[encoded data removed]"
          },
          "metadata": {
            "needs_background": "light"
          }
        }
      ]
    },
    {
      "cell_type": "code",
      "source": [
        "ax = sns.boxplot(data = dataset, x='view', orient = 'h', width = 0.5)\n",
        "ax.figure.set_size_inches(8,4)\n",
        "ax.set_title('Box plot', fontsize = 20)\n",
        "ax.set_xlabel('Número de quartos com vista', fontsize = 16)\n",
        "_= ax"
      ],
      "metadata": {
        "colab": {
          "base_uri": "https://localhost:8080/",
          "height": 306
        },
        "id": "E5C71v2MjnES",
        "outputId": "5689b453-a83f-4943-d211-13fbbc685fb9"
      },
      "execution_count": null,
      "outputs": [
        {
          "output_type": "display_data",
          "data": {
            "text/plain": [
              "<Figure size 576x288 with 1 Axes>"
            ],
            "image/png": "[encoded data removed]"
          },
          "metadata": {
            "needs_background": "light"
          }
        }
      ]
    },
    {
      "cell_type": "code",
      "source": [
        "dataset.view.hist(bins = 50)"
      ],
      "metadata": {
        "colab": {
          "base_uri": "https://localhost:8080/",
          "height": 282
        },
        "id": "j5c50RHWjq0C",
        "outputId": "36a8ab5c-5375-4301-9b5c-14774303947e"
      },
      "execution_count": null,
      "outputs": [
        {
          "output_type": "execute_result",
          "data": {
            "text/plain": [
              "<Axes: >"
            ]
          },
          "metadata": {},
          "execution_count": 25
        },
        {
          "output_type": "display_data",
          "data": {
            "text/plain": [
              "<Figure size 432x288 with 1 Axes>"
            ],
            "image/png": "[encoded data removed]"
          },
          "metadata": {
            "needs_background": "light"
          }
        }
      ]
    },
    {
      "cell_type": "markdown",
      "source": [
        "*2.2 plote o scatterplot (gráfico de dispersão), contendo preço no eixo Y e a variável correlacionada no eixo X.*"
      ],
      "metadata": {
        "id": "AA3vT8_Ojv4v"
      }
    },
    {
      "cell_type": "code",
      "source": [
        "ax = sns.scatterplot(x=dataset.sqft_living, y=dataset.price)\n",
        "ax.figure.set_size_inches(8,4)\n",
        "ax.set_title('Tamanho do imóvel vs Preço', fontsize=18)\n",
        "ax.set_xlabel('Tamanho do imóvel', fontsize=14)\n",
        "ax.set_ylabel('Preço', fontsize=14)\n",
        "_= ax"
      ],
      "metadata": {
        "colab": {
          "base_uri": "https://localhost:8080/",
          "height": 304
        },
        "id": "irz-WFzLjwrX",
        "outputId": "819679d2-b60e-4f08-be03-2eee5c43b68f"
      },
      "execution_count": null,
      "outputs": [
        {
          "output_type": "display_data",
          "data": {
            "text/plain": [
              "<Figure size 576x288 with 1 Axes>"
            ],
            "image/png": "[encoded data removed]"
          },
          "metadata": {
            "needs_background": "light"
          }
        }
      ]
    },
    {
      "cell_type": "code",
      "source": [
        "ax = sns.scatterplot(x=dataset.grade, y=dataset.price)\n",
        "ax.figure.set_size_inches(8,4)\n",
        "ax.set_title('Nota do imóvel vs Preço', fontsize=18)\n",
        "ax.set_xlabel('Nota do imóvel', fontsize=14)\n",
        "ax.set_ylabel('Preço', fontsize=14)\n",
        "_= ax"
      ],
      "metadata": {
        "colab": {
          "base_uri": "https://localhost:8080/",
          "height": 304
        },
        "id": "d-ONkwWcj_Gi",
        "outputId": "5cb16241-3508-44d8-c7bb-883a3d953c3a"
      },
      "execution_count": null,
      "outputs": [
        {
          "output_type": "display_data",
          "data": {
            "text/plain": [
              "<Figure size 576x288 with 1 Axes>"
            ],
            "image/png": "[encoded data removed]"
          },
          "metadata": {
            "needs_background": "light"
          }
        }
      ]
    },
    {
      "cell_type": "code",
      "source": [
        "ax = sns.scatterplot(x=dataset.sqft_above, y=dataset.price)\n",
        "ax.figure.set_size_inches(8,4)\n",
        "ax.set_title('Tamanho da casa acima do solo vs Preço', fontsize=18)\n",
        "ax.set_xlabel('Tamanho da casa acima do solo', fontsize=14)\n",
        "ax.set_ylabel('Preço', fontsize=14)\n",
        "_= ax"
      ],
      "metadata": {
        "colab": {
          "base_uri": "https://localhost:8080/",
          "height": 303
        },
        "id": "QIA53qF9kDWe",
        "outputId": "7a57c567-0c5e-4f66-82bc-6fdeb13fe427"
      },
      "execution_count": null,
      "outputs": [
        {
          "output_type": "display_data",
          "data": {
            "text/plain": [
              "<Figure size 576x288 with 1 Axes>"
            ],
            "image/png": "[encoded data removed]"
          },
          "metadata": {
            "needs_background": "light"
          }
        }
      ]
    },
    {
      "cell_type": "code",
      "source": [
        "ax = sns.scatterplot(x=dataset.bathrooms, y=dataset.price)\n",
        "ax.figure.set_size_inches(8,4)\n",
        "ax.set_title('Banheiros vs Preço', fontsize=18)\n",
        "ax.set_xlabel('Quantidade de banheiros', fontsize=14)\n",
        "ax.set_ylabel('Preço', fontsize=14)\n",
        "_= ax"
      ],
      "metadata": {
        "colab": {
          "base_uri": "https://localhost:8080/",
          "height": 303
        },
        "id": "7AAXt4hPkHUV",
        "outputId": "a704a3d5-185a-481c-bc6c-87b525b9cdee"
      },
      "execution_count": null,
      "outputs": [
        {
          "output_type": "display_data",
          "data": {
            "text/plain": [
              "<Figure size 576x288 with 1 Axes>"
            ],
            "image/png": "[encoded data removed]"
          },
          "metadata": {
            "needs_background": "light"
          }
        }
      ]
    },
    {
      "cell_type": "code",
      "source": [
        "ax = sns.scatterplot(x=dataset.view, y=dataset.price)\n",
        "ax.figure.set_size_inches(8,4)\n",
        "ax.set_title('Quartos com vista vs Preço', fontsize=18)\n",
        "ax.set_xlabel('Quartos com vista', fontsize=14)\n",
        "ax.set_ylabel('Preço', fontsize=14)\n",
        "_= ax"
      ],
      "metadata": {
        "colab": {
          "base_uri": "https://localhost:8080/",
          "height": 303
        },
        "id": "BsAVXEJTkLRP",
        "outputId": "82f5c739-1b89-436d-b5aa-11fb1abbed76"
      },
      "execution_count": null,
      "outputs": [
        {
          "output_type": "display_data",
          "data": {
            "text/plain": [
              "<Figure size 576x288 with 1 Axes>"
            ],
            "image/png": "[encoded data removed]"
          },
          "metadata": {
            "needs_background": "light"
          }
        }
      ]
    },
    {
      "cell_type": "markdown",
      "source": [
        "*2.3 para cada uma das 5 variáveis faça uma regressão linear simples sendo preciso a variável resposta (y) e interprete os resultados.*"
      ],
      "metadata": {
        "id": "q9Gq5x-hkPpf"
      }
    },
    {
      "cell_type": "code",
      "source": [
        "# variável dependente (preço)\n",
        "Y = dataset.price\n",
        "# adiciona uma coluna de 1's na variável independente para incluir o intercepto\n",
        "X = sm.add_constant(dataset.sqft_living)"
      ],
      "metadata": {
        "id": "AkqToszvkQrB"
      },
      "execution_count": null,
      "outputs": []
    },
    {
      "cell_type": "code",
      "source": [
        "# cria o modelo de regressão\n",
        "resultado_regressao = sm.OLS(Y, X).fit()"
      ],
      "metadata": {
        "id": "w_hcO8CXkVjN"
      },
      "execution_count": null,
      "outputs": []
    },
    {
      "cell_type": "code",
      "source": [
        "# imprime o resumo do modelo\n",
        "print(resultado_regressao.summary())"
      ],
      "metadata": {
        "colab": {
          "base_uri": "https://localhost:8080/"
        },
        "id": "O_gc3BAkkXki",
        "outputId": "68bdea17-a60f-4226-f180-bb0173dcf5c6"
      },
      "execution_count": null,
      "outputs": [
        {
          "output_type": "stream",
          "name": "stdout",
          "text": [
            "                            OLS Regression Results                            \n",
            "==============================================================================\n",
            "Dep. Variable:                  price   R-squared:                       0.493\n",
            "Model:                            OLS   Adj. R-squared:                  0.493\n",
            "Method:                 Least Squares   F-statistic:                 2.100e+04\n",
            "Date:                Sat, 18 Mar 2023   Prob (F-statistic):               0.00\n",
            "Time:                        21:12:55   Log-Likelihood:            -3.0027e+05\n",
            "No. Observations:               21613   AIC:                         6.005e+05\n",
            "Df Residuals:                   21611   BIC:                         6.006e+05\n",
            "Df Model:                           1                                         \n",
            "Covariance Type:            nonrobust                                         \n",
            "===============================================================================\n",
            "                  coef    std err          t      P>|t|      [0.025      0.975]\n",
            "-------------------------------------------------------------------------------\n",
            "const       -4.358e+04   4402.690     -9.899      0.000   -5.22e+04    -3.5e+04\n",
            "sqft_living   280.6236      1.936    144.920      0.000     276.828     284.419\n",
            "==============================================================================\n",
            "Omnibus:                    14832.490   Durbin-Watson:                   1.983\n",
            "Prob(Omnibus):                  0.000   Jarque-Bera (JB):           546444.713\n",
            "Skew:                           2.824   Prob(JB):                         0.00\n",
            "Kurtosis:                      26.977   Cond. No.                     5.63e+03\n",
            "==============================================================================\n",
            "\n",
            "Notes:\n",
            "[1] Standard Errors assume that the covariance matrix of the errors is correctly specified.\n",
            "[2] The condition number is large, 5.63e+03. This might indicate that there are\n",
            "strong multicollinearity or other numerical problems.\n"
          ]
        }
      ]
    },
    {
      "cell_type": "markdown",
      "source": [
        "Através da análise, foi calculado um coeficiente que nos diz quanto o preço do imóvel muda em relação à área da casa. Nesse caso, o coeficiente é de 280.6236, o que significa que, em média, o preço do imóvel aumenta em 280.62 dólares para cada aumento de 1 unidade na área da casa (em pés quadrados).\n",
        "\n",
        "O valor de R-quadrado (R-squared) de 0,493 indica que cerca de 49,3% da variação no preço do imóvel é explicada pela área do imóvel.\n"
      ],
      "metadata": {
        "id": "SSZEtC-hkb1H"
      }
    },
    {
      "cell_type": "code",
      "source": [
        "# criamos uma cópia do dataset original e atribuimos a uma nova variável chamada dataset2\n",
        "dataset2 = dataset.copy()"
      ],
      "metadata": {
        "id": "c-3k4Sz-kdgC"
      },
      "execution_count": null,
      "outputs": []
    },
    {
      "cell_type": "code",
      "source": [
        "# criamos uma nova coluna que contém as previsões da regressão linear simples\n",
        "dataset2['Y_previsto'] = resultado_regressao.predict()"
      ],
      "metadata": {
        "id": "t71lrKO2kieX"
      },
      "execution_count": null,
      "outputs": []
    },
    {
      "cell_type": "code",
      "source": [
        "# selecionamos as colunas\n",
        "dataset2[['price','sqft_living','Y_previsto']].round(2)"
      ],
      "metadata": {
        "colab": {
          "base_uri": "https://localhost:8080/",
          "height": 424
        },
        "id": "ofIEU2_2kkaK",
        "outputId": "f8c25477-4306-4810-e662-634c117ef684"
      },
      "execution_count": null,
      "outputs": [
        {
          "output_type": "execute_result",
          "data": {
            "text/plain": [
              "          price  sqft_living  Y_previsto\n",
              "0      221900.0         1180   287555.07\n",
              "1      538000.0         2570   677621.83\n",
              "2      180000.0          770   172499.40\n",
              "3      604000.0         1960   506441.45\n",
              "4      510000.0         1680   427866.85\n",
              "...         ...          ...         ...\n",
              "21608  360000.0         1530   385773.32\n",
              "21609  400000.0         2310   604659.70\n",
              "21610  402101.0         1020   242655.30\n",
              "21611  400000.0         1600   405416.97\n",
              "21612  325000.0         1020   242655.30\n",
              "\n",
              "[21613 rows x 3 columns]"
            ],
            "text/html": [
              "\n",
              "  <div id=\"df-44bcd635-b780-41a6-94df-8e925ad71750\">\n",
              "    <div class=\"colab-df-container\">\n",
              "      <div>\n",
              "<style scoped>\n",
              "    .dataframe tbody tr th:only-of-type {\n",
              "        vertical-align: middle;\n",
              "    }\n",
              "\n",
              "    .dataframe tbody tr th {\n",
              "        vertical-align: top;\n",
              "    }\n",
              "\n",
              "    .dataframe thead th {\n",
              "        text-align: right;\n",
              "    }\n",
              "</style>\n",
              "<table border=\"1\" class=\"dataframe\">\n",
              "  <thead>\n",
              "    <tr style=\"text-align: right;\">\n",
              "      <th></th>\n",
              "      <th>price</th>\n",
              "      <th>sqft_living</th>\n",
              "      <th>Y_previsto</th>\n",
              "    </tr>\n",
              "  </thead>\n",
              "  <tbody>\n",
              "    <tr>\n",
              "      <th>0</th>\n",
              "      <td>221900.0</td>\n",
              "      <td>1180</td>\n",
              "      <td>287555.07</td>\n",
              "    </tr>\n",
              "    <tr>\n",
              "      <th>1</th>\n",
              "      <td>538000.0</td>\n",
              "      <td>2570</td>\n",
              "      <td>677621.83</td>\n",
              "    </tr>\n",
              "    <tr>\n",
              "      <th>2</th>\n",
              "      <td>180000.0</td>\n",
              "      <td>770</td>\n",
              "      <td>172499.40</td>\n",
              "    </tr>\n",
              "    <tr>\n",
              "      <th>3</th>\n",
              "      <td>604000.0</td>\n",
              "      <td>1960</td>\n",
              "      <td>506441.45</td>\n",
              "    </tr>\n",
              "    <tr>\n",
              "      <th>4</th>\n",
              "      <td>510000.0</td>\n",
              "      <td>1680</td>\n",
              "      <td>427866.85</td>\n",
              "    </tr>\n",
              "    <tr>\n",
              "      <th>...</th>\n",
              "      <td>...</td>\n",
              "      <td>...</td>\n",
              "      <td>...</td>\n",
              "    </tr>\n",
              "    <tr>\n",
              "      <th>21608</th>\n",
              "      <td>360000.0</td>\n",
              "      <td>1530</td>\n",
              "      <td>385773.32</td>\n",
              "    </tr>\n",
              "    <tr>\n",
              "      <th>21609</th>\n",
              "      <td>400000.0</td>\n",
              "      <td>2310</td>\n",
              "      <td>604659.70</td>\n",
              "    </tr>\n",
              "    <tr>\n",
              "      <th>21610</th>\n",
              "      <td>402101.0</td>\n",
              "      <td>1020</td>\n",
              "      <td>242655.30</td>\n",
              "    </tr>\n",
              "    <tr>\n",
              "      <th>21611</th>\n",
              "      <td>400000.0</td>\n",
              "      <td>1600</td>\n",
              "      <td>405416.97</td>\n",
              "    </tr>\n",
              "    <tr>\n",
              "      <th>21612</th>\n",
              "      <td>325000.0</td>\n",
              "      <td>1020</td>\n",
              "      <td>242655.30</td>\n",
              "    </tr>\n",
              "  </tbody>\n",
              "</table>\n",
              "<p>21613 rows × 3 columns</p>\n",
              "</div>\n",
              "      <button class=\"colab-df-convert\" onclick=\"convertToInteractive('df-44bcd635-b780-41a6-94df-8e925ad71750')\"\n",
              "              title=\"Convert this dataframe to an interactive table.\"\n",
              "              style=\"display:none;\">\n",
              "        \n",
              "  <svg xmlns=\"http://www.w3.org/2000/svg\" height=\"24px\"viewBox=\"0 0 24 24\"\n",
              "       width=\"24px\">\n",
              "    <path d=\"M0 0h24v24H0V0z\" fill=\"none\"/>\n",
              "    <path d=\"M18.56 5.44l.94 2.06.94-2.06 2.06-.94-2.06-.94-.94-2.06-.94 2.06-2.06.94zm-11 1L8.5 8.5l.94-2.06 2.06-.94-2.06-.94L8.5 2.5l-.94 2.06-2.06.94zm10 10l.94 2.06.94-2.06 2.06-.94-2.06-.94-.94-2.06-.94 2.06-2.06.94z\"/><path d=\"M17.41 7.96l-1.37-1.37c-.4-.4-.92-.59-1.43-.59-.52 0-1.04.2-1.43.59L10.3 9.45l-7.72 7.72c-.78.78-.78 2.05 0 2.83L4 21.41c.39.39.9.59 1.41.59.51 0 1.02-.2 1.41-.59l7.78-7.78 2.81-2.81c.8-.78.8-2.07 0-2.86zM5.41 20L4 18.59l7.72-7.72 1.47 1.35L5.41 20z\"/>\n",
              "  </svg>\n",
              "      </button>\n",
              "      \n",
              "  <style>\n",
              "    .colab-df-container {\n",
              "      display:flex;\n",
              "      flex-wrap:wrap;\n",
              "      gap: 12px;\n",
              "    }\n",
              "\n",
              "    .colab-df-convert {\n",
              "      background-color: #E8F0FE;\n",
              "      border: none;\n",
              "      border-radius: 50%;\n",
              "      cursor: pointer;\n",
              "      display: none;\n",
              "      fill: #1967D2;\n",
              "      height: 32px;\n",
              "      padding: 0 0 0 0;\n",
              "      width: 32px;\n",
              "    }\n",
              "\n",
              "    .colab-df-convert:hover {\n",
              "      background-color: #E2EBFA;\n",
              "      box-shadow: 0px 1px 2px rgba(60, 64, 67, 0.3), 0px 1px 3px 1px rgba(60, 64, 67, 0.15);\n",
              "      fill: #174EA6;\n",
              "    }\n",
              "\n",
              "    [theme=dark] .colab-df-convert {\n",
              "      background-color: #3B4455;\n",
              "      fill: #D2E3FC;\n",
              "    }\n",
              "\n",
              "    [theme=dark] .colab-df-convert:hover {\n",
              "      background-color: #434B5C;\n",
              "      box-shadow: 0px 1px 3px 1px rgba(0, 0, 0, 0.15);\n",
              "      filter: drop-shadow(0px 1px 2px rgba(0, 0, 0, 0.3));\n",
              "      fill: #FFFFFF;\n",
              "    }\n",
              "  </style>\n",
              "\n",
              "      <script>\n",
              "        const buttonEl =\n",
              "          document.querySelector('#df-44bcd635-b780-41a6-94df-8e925ad71750 button.colab-df-convert');\n",
              "        buttonEl.style.display =\n",
              "          google.colab.kernel.accessAllowed ? 'block' : 'none';\n",
              "\n",
              "        async function convertToInteractive(key) {\n",
              "          const element = document.querySelector('#df-44bcd635-b780-41a6-94df-8e925ad71750');\n",
              "          const dataTable =\n",
              "            await google.colab.kernel.invokeFunction('convertToInteractive',\n",
              "                                                     [key], {});\n",
              "          if (!dataTable) return;\n",
              "\n",
              "          const docLinkHtml = 'Like what you see? Visit the ' +\n",
              "            '<a target=\"_blank\" href=https://colab.research.google.com/notebooks/data_table.ipynb>data table notebook</a>'\n",
              "            + ' to learn more about interactive tables.';\n",
              "          element.innerHTML = '';\n",
              "          dataTable['output_type'] = 'display_data';\n",
              "          await google.colab.output.renderOutput(dataTable, element);\n",
              "          const docLink = document.createElement('div');\n",
              "          docLink.innerHTML = docLinkHtml;\n",
              "          element.appendChild(docLink);\n",
              "        }\n",
              "      </script>\n",
              "    </div>\n",
              "  </div>\n",
              "  "
            ]
          },
          "metadata": {},
          "execution_count": 36
        }
      ]
    },
    {
      "cell_type": "markdown",
      "source": [
        "A partir dos resultados da regressão linear simples, podemos interpretar que a variável \"sqft_living\" (tamanho da casa) é um preditor significativo do preço das casas. Isso é indicado pelo valor do coeficiente de regressão estimado para a variável \"sqft_living\" ser positivo e significativo, o que sugere que o aumento no tamanho da casa leva a um aumento no preço da casa.\n",
        "\n",
        "O valor do intercepto (constante) na equação da regressão (Y_previsto = -43580.74309447 + 280.6235679 * sqft_living) indica que, se uma casa não tem nenhum tamanho (área), seu preço seria em média de -43580.74 (o que não faz sentido na prática).\n",
        "\n",
        "Além disso, o valor do R² de 0.49 indica que o modelo de regressão explica cerca de 49% da variabilidade nos preços das casas."
      ],
      "metadata": {
        "id": "IecucAv2kn5I"
      }
    },
    {
      "cell_type": "code",
      "source": [
        "# criamos uma variável chamada Y que armazena os valores da variável resposta price do dataset.\n",
        "Y = dataset.price\n",
        "# criamos uma variável chamada X que contém os valores da variável explicativa grade do dataset\n",
        "X = sm.add_constant(dataset.grade)"
      ],
      "metadata": {
        "id": "qpk27iNZkqcN"
      },
      "execution_count": null,
      "outputs": []
    },
    {
      "cell_type": "code",
      "source": [
        "# cria o modelo de regressão\n",
        "resultado_regressao = sm.OLS(Y, X).fit()"
      ],
      "metadata": {
        "id": "TwAi4zeakwQn"
      },
      "execution_count": null,
      "outputs": []
    },
    {
      "cell_type": "code",
      "source": [
        "# imprime o resultado do modelo\n",
        "print(resultado_regressao.summary())"
      ],
      "metadata": {
        "colab": {
          "base_uri": "https://localhost:8080/"
        },
        "id": "2ZqO9sGdkyx3",
        "outputId": "8a073d59-49bb-46df-f436-6c2c6e307e04"
      },
      "execution_count": null,
      "outputs": [
        {
          "output_type": "stream",
          "name": "stdout",
          "text": [
            "                            OLS Regression Results                            \n",
            "==============================================================================\n",
            "Dep. Variable:                  price   R-squared:                       0.445\n",
            "Model:                            OLS   Adj. R-squared:                  0.445\n",
            "Method:                 Least Squares   F-statistic:                 1.736e+04\n",
            "Date:                Sat, 18 Mar 2023   Prob (F-statistic):               0.00\n",
            "Time:                        21:14:47   Log-Likelihood:            -3.0123e+05\n",
            "No. Observations:               21613   AIC:                         6.025e+05\n",
            "Df Residuals:                   21611   BIC:                         6.025e+05\n",
            "Df Model:                           1                                         \n",
            "Covariance Type:            nonrobust                                         \n",
            "==============================================================================\n",
            "                 coef    std err          t      P>|t|      [0.025      0.975]\n",
            "------------------------------------------------------------------------------\n",
            "const      -1.056e+06   1.23e+04    -86.166      0.000   -1.08e+06   -1.03e+06\n",
            "grade       2.085e+05   1582.103    131.760      0.000    2.05e+05    2.12e+05\n",
            "==============================================================================\n",
            "Omnibus:                    19920.375   Durbin-Watson:                   1.969\n",
            "Prob(Omnibus):                  0.000   Jarque-Bera (JB):          2053087.758\n",
            "Skew:                           4.090   Prob(JB):                         0.00\n",
            "Kurtosis:                      50.042   Cond. No.                         51.9\n",
            "==============================================================================\n",
            "\n",
            "Notes:\n",
            "[1] Standard Errors assume that the covariance matrix of the errors is correctly specified.\n"
          ]
        }
      ]
    },
    {
      "cell_type": "markdown",
      "source": [
        "Através da análise da regressão linear entre o preço do imóvel e a nota de classificação da casa (grade), foi calculado um coeficiente de 208.5026, o que significa que, em média, o preço do imóvel aumenta em 208.50 dólares para cada aumento de 1 unidade na nota de classificação da casa.\n",
        "\n",
        "O valor de R-quadrado (R-squared) de 0.445 indica que cerca de 44,5% da variação no preço do imóvel é explicada pela nota de classificação da casa. Ou seja, a nota de classificação da casa tem um efeito moderado na explicação do preço do imóvel, mas ainda há uma grande parcela de variação que não é explicada pela nota de classificação da casa."
      ],
      "metadata": {
        "id": "5uUWo-1Tk3NK"
      }
    },
    {
      "cell_type": "code",
      "source": [
        "# adicionamos uma nova coluna chamada 'Y_previsto2' com os valores preditos pelo modelo de regressão linear múltipla\n",
        "dataset2['Y_previsto2'] = resultado_regressao.predict()"
      ],
      "metadata": {
        "id": "CICFlCYek5dO"
      },
      "execution_count": null,
      "outputs": []
    },
    {
      "cell_type": "code",
      "source": [
        "# criamos um novo DataFrame com as colunas \"price\", \"grade\", \"Y_previsto\" e \"Y_previsto2\", com valores arredondados para 2 casas decimais.\n",
        "dataset2[['price','grade','Y_previsto','Y_previsto2']].round(2)"
      ],
      "metadata": {
        "colab": {
          "base_uri": "https://localhost:8080/",
          "height": 424
        },
        "id": "y4sq5sbVk-O0",
        "outputId": "d4c538ae-15ac-48f6-97af-e4426c0e85a7"
      },
      "execution_count": null,
      "outputs": [
        {
          "output_type": "execute_result",
          "data": {
            "text/plain": [
              "          price  grade  Y_previsto  Y_previsto2\n",
              "0      221900.0      7   287555.07    403157.96\n",
              "1      538000.0      7   677621.83    403157.96\n",
              "2      180000.0      6   172499.40    194700.40\n",
              "3      604000.0      7   506441.45    403157.96\n",
              "4      510000.0      8   427866.85    611615.52\n",
              "...         ...    ...         ...          ...\n",
              "21608  360000.0      8   385773.32    611615.52\n",
              "21609  400000.0      8   604659.70    611615.52\n",
              "21610  402101.0      7   242655.30    403157.96\n",
              "21611  400000.0      8   405416.97    611615.52\n",
              "21612  325000.0      7   242655.30    403157.96\n",
              "\n",
              "[21613 rows x 4 columns]"
            ],
            "text/html": [
              "\n",
              "  <div id=\"df-4f5be4eb-5ddb-4e8b-926a-a98bf6e090f8\">\n",
              "    <div class=\"colab-df-container\">\n",
              "      <div>\n",
              "<style scoped>\n",
              "    .dataframe tbody tr th:only-of-type {\n",
              "        vertical-align: middle;\n",
              "    }\n",
              "\n",
              "    .dataframe tbody tr th {\n",
              "        vertical-align: top;\n",
              "    }\n",
              "\n",
              "    .dataframe thead th {\n",
              "        text-align: right;\n",
              "    }\n",
              "</style>\n",
              "<table border=\"1\" class=\"dataframe\">\n",
              "  <thead>\n",
              "    <tr style=\"text-align: right;\">\n",
              "      <th></th>\n",
              "      <th>price</th>\n",
              "      <th>grade</th>\n",
              "      <th>Y_previsto</th>\n",
              "      <th>Y_previsto2</th>\n",
              "    </tr>\n",
              "  </thead>\n",
              "  <tbody>\n",
              "    <tr>\n",
              "      <th>0</th>\n",
              "      <td>221900.0</td>\n",
              "      <td>7</td>\n",
              "      <td>287555.07</td>\n",
              "      <td>403157.96</td>\n",
              "    </tr>\n",
              "    <tr>\n",
              "      <th>1</th>\n",
              "      <td>538000.0</td>\n",
              "      <td>7</td>\n",
              "      <td>677621.83</td>\n",
              "      <td>403157.96</td>\n",
              "    </tr>\n",
              "    <tr>\n",
              "      <th>2</th>\n",
              "      <td>180000.0</td>\n",
              "      <td>6</td>\n",
              "      <td>172499.40</td>\n",
              "      <td>194700.40</td>\n",
              "    </tr>\n",
              "    <tr>\n",
              "      <th>3</th>\n",
              "      <td>604000.0</td>\n",
              "      <td>7</td>\n",
              "      <td>506441.45</td>\n",
              "      <td>403157.96</td>\n",
              "    </tr>\n",
              "    <tr>\n",
              "      <th>4</th>\n",
              "      <td>510000.0</td>\n",
              "      <td>8</td>\n",
              "      <td>427866.85</td>\n",
              "      <td>611615.52</td>\n",
              "    </tr>\n",
              "    <tr>\n",
              "      <th>...</th>\n",
              "      <td>...</td>\n",
              "      <td>...</td>\n",
              "      <td>...</td>\n",
              "      <td>...</td>\n",
              "    </tr>\n",
              "    <tr>\n",
              "      <th>21608</th>\n",
              "      <td>360000.0</td>\n",
              "      <td>8</td>\n",
              "      <td>385773.32</td>\n",
              "      <td>611615.52</td>\n",
              "    </tr>\n",
              "    <tr>\n",
              "      <th>21609</th>\n",
              "      <td>400000.0</td>\n",
              "      <td>8</td>\n",
              "      <td>604659.70</td>\n",
              "      <td>611615.52</td>\n",
              "    </tr>\n",
              "    <tr>\n",
              "      <th>21610</th>\n",
              "      <td>402101.0</td>\n",
              "      <td>7</td>\n",
              "      <td>242655.30</td>\n",
              "      <td>403157.96</td>\n",
              "    </tr>\n",
              "    <tr>\n",
              "      <th>21611</th>\n",
              "      <td>400000.0</td>\n",
              "      <td>8</td>\n",
              "      <td>405416.97</td>\n",
              "      <td>611615.52</td>\n",
              "    </tr>\n",
              "    <tr>\n",
              "      <th>21612</th>\n",
              "      <td>325000.0</td>\n",
              "      <td>7</td>\n",
              "      <td>242655.30</td>\n",
              "      <td>403157.96</td>\n",
              "    </tr>\n",
              "  </tbody>\n",
              "</table>\n",
              "<p>21613 rows × 4 columns</p>\n",
              "</div>\n",
              "      <button class=\"colab-df-convert\" onclick=\"convertToInteractive('df-4f5be4eb-5ddb-4e8b-926a-a98bf6e090f8')\"\n",
              "              title=\"Convert this dataframe to an interactive table.\"\n",
              "              style=\"display:none;\">\n",
              "        \n",
              "  <svg xmlns=\"http://www.w3.org/2000/svg\" height=\"24px\"viewBox=\"0 0 24 24\"\n",
              "       width=\"24px\">\n",
              "    <path d=\"M0 0h24v24H0V0z\" fill=\"none\"/>\n",
              "    <path d=\"M18.56 5.44l.94 2.06.94-2.06 2.06-.94-2.06-.94-.94-2.06-.94 2.06-2.06.94zm-11 1L8.5 8.5l.94-2.06 2.06-.94-2.06-.94L8.5 2.5l-.94 2.06-2.06.94zm10 10l.94 2.06.94-2.06 2.06-.94-2.06-.94-.94-2.06-.94 2.06-2.06.94z\"/><path d=\"M17.41 7.96l-1.37-1.37c-.4-.4-.92-.59-1.43-.59-.52 0-1.04.2-1.43.59L10.3 9.45l-7.72 7.72c-.78.78-.78 2.05 0 2.83L4 21.41c.39.39.9.59 1.41.59.51 0 1.02-.2 1.41-.59l7.78-7.78 2.81-2.81c.8-.78.8-2.07 0-2.86zM5.41 20L4 18.59l7.72-7.72 1.47 1.35L5.41 20z\"/>\n",
              "  </svg>\n",
              "      </button>\n",
              "      \n",
              "  <style>\n",
              "    .colab-df-container {\n",
              "      display:flex;\n",
              "      flex-wrap:wrap;\n",
              "      gap: 12px;\n",
              "    }\n",
              "\n",
              "    .colab-df-convert {\n",
              "      background-color: #E8F0FE;\n",
              "      border: none;\n",
              "      border-radius: 50%;\n",
              "      cursor: pointer;\n",
              "      display: none;\n",
              "      fill: #1967D2;\n",
              "      height: 32px;\n",
              "      padding: 0 0 0 0;\n",
              "      width: 32px;\n",
              "    }\n",
              "\n",
              "    .colab-df-convert:hover {\n",
              "      background-color: #E2EBFA;\n",
              "      box-shadow: 0px 1px 2px rgba(60, 64, 67, 0.3), 0px 1px 3px 1px rgba(60, 64, 67, 0.15);\n",
              "      fill: #174EA6;\n",
              "    }\n",
              "\n",
              "    [theme=dark] .colab-df-convert {\n",
              "      background-color: #3B4455;\n",
              "      fill: #D2E3FC;\n",
              "    }\n",
              "\n",
              "    [theme=dark] .colab-df-convert:hover {\n",
              "      background-color: #434B5C;\n",
              "      box-shadow: 0px 1px 3px 1px rgba(0, 0, 0, 0.15);\n",
              "      filter: drop-shadow(0px 1px 2px rgba(0, 0, 0, 0.3));\n",
              "      fill: #FFFFFF;\n",
              "    }\n",
              "  </style>\n",
              "\n",
              "      <script>\n",
              "        const buttonEl =\n",
              "          document.querySelector('#df-4f5be4eb-5ddb-4e8b-926a-a98bf6e090f8 button.colab-df-convert');\n",
              "        buttonEl.style.display =\n",
              "          google.colab.kernel.accessAllowed ? 'block' : 'none';\n",
              "\n",
              "        async function convertToInteractive(key) {\n",
              "          const element = document.querySelector('#df-4f5be4eb-5ddb-4e8b-926a-a98bf6e090f8');\n",
              "          const dataTable =\n",
              "            await google.colab.kernel.invokeFunction('convertToInteractive',\n",
              "                                                     [key], {});\n",
              "          if (!dataTable) return;\n",
              "\n",
              "          const docLinkHtml = 'Like what you see? Visit the ' +\n",
              "            '<a target=\"_blank\" href=https://colab.research.google.com/notebooks/data_table.ipynb>data table notebook</a>'\n",
              "            + ' to learn more about interactive tables.';\n",
              "          element.innerHTML = '';\n",
              "          dataTable['output_type'] = 'display_data';\n",
              "          await google.colab.output.renderOutput(dataTable, element);\n",
              "          const docLink = document.createElement('div');\n",
              "          docLink.innerHTML = docLinkHtml;\n",
              "          element.appendChild(docLink);\n",
              "        }\n",
              "      </script>\n",
              "    </div>\n",
              "  </div>\n",
              "  "
            ]
          },
          "metadata": {},
          "execution_count": 41
        }
      ]
    },
    {
      "cell_type": "markdown",
      "source": [
        "A tabela apresenta as colunas \"price\", \"grade\", \"Y_previsto\" e \"Y_previsto2\". \"Price\" é o preço real do imóvel, \"grade\" é a avaliação do imóvel (numa escala de 1 a 13), \"Y_previsto\" é o preço previsto do imóvel usando o primeiro modelo de regressão linear e \"Y_previsto2\" é o preço previsto do imóvel usando o segundo modelo de regressão linear.\n",
        "\n",
        "Comparando as colunas \"Y_previsto\" e \"Y_previsto2\", percebe-se que o segundo modelo, que inclui mais variáveis explicativas, prevê preços mais altos em média. Essa diferença se deve à capacidade do modelo de capturar variações adicionais nos dados através das variáveis adicionadas."
      ],
      "metadata": {
        "id": "x7codhYXlCQ4"
      }
    },
    {
      "cell_type": "code",
      "source": [
        "# define a variável Y como a coluna 'price' do dataset\n",
        "Y = dataset.price\n",
        "# define a variável X como a coluna 'sqft_above' do dataset e adiciona uma constante (intercepto) à variável X\n",
        "X = sm.add_constant(dataset.sqft_above)\n",
        "# executa a regressão linear com a variável Y como variável dependente e a variável X como variável independente\n",
        "resultado_regressao = sm.OLS(Y, X).fit()\n",
        "# imprime o sumário dos resultados da regressão l\n",
        "print(resultado_regressao.summary())"
      ],
      "metadata": {
        "colab": {
          "base_uri": "https://localhost:8080/"
        },
        "id": "jU_3DdXdlDmY",
        "outputId": "0b7a9de0-a5e2-423f-c408-5104897c7edd"
      },
      "execution_count": null,
      "outputs": [
        {
          "output_type": "stream",
          "name": "stdout",
          "text": [
            "                            OLS Regression Results                            \n",
            "==============================================================================\n",
            "Dep. Variable:                  price   R-squared:                       0.367\n",
            "Model:                            OLS   Adj. R-squared:                  0.367\n",
            "Method:                 Least Squares   F-statistic:                 1.251e+04\n",
            "Date:                Sat, 18 Mar 2023   Prob (F-statistic):               0.00\n",
            "Time:                        21:16:04   Log-Likelihood:            -3.0267e+05\n",
            "No. Observations:               21613   AIC:                         6.053e+05\n",
            "Df Residuals:                   21611   BIC:                         6.054e+05\n",
            "Df Model:                           1                                         \n",
            "Covariance Type:            nonrobust                                         \n",
            "==============================================================================\n",
            "                 coef    std err          t      P>|t|      [0.025      0.975]\n",
            "------------------------------------------------------------------------------\n",
            "const       5.995e+04   4729.812     12.676      0.000    5.07e+04    6.92e+04\n",
            "sqft_above   268.4732      2.400    111.866      0.000     263.769     273.177\n",
            "==============================================================================\n",
            "Omnibus:                    16520.510   Durbin-Watson:                   1.987\n",
            "Prob(Omnibus):                  0.000   Jarque-Bera (JB):           732831.469\n",
            "Skew:                           3.268   Prob(JB):                         0.00\n",
            "Kurtosis:                      30.768   Cond. No.                     4.69e+03\n",
            "==============================================================================\n",
            "\n",
            "Notes:\n",
            "[1] Standard Errors assume that the covariance matrix of the errors is correctly specified.\n",
            "[2] The condition number is large, 4.69e+03. This might indicate that there are\n",
            "strong multicollinearity or other numerical problems.\n"
          ]
        }
      ]
    },
    {
      "cell_type": "markdown",
      "source": [
        "Através da análise da regressão linear entre o preço do imóvel e a área do imóvel acima do nível do solo (sqft_above), foi calculado um coeficiente de 268.4732, o que significa que, em média, o preço do imóvel aumenta em 268.47 dólares para cada aumento de 1 unidade na área do imóvel acima do nível do solo.\n",
        "\n",
        "O valor de R-quadrado (R-squared) de 0.367 indica que cerca de 36.7% da variação no preço do imóvel é explicada pela área do imóvel acima do nível do solo. Ou seja, a área do imóvel acima do nível do solo tem um efeito moderado na explicação do preço do imóvel, mas ainda há uma grande parcela de variação que não é explicada pela área do imóvel acima do nível do solo."
      ],
      "metadata": {
        "id": "d_8T2JFhlJ1B"
      }
    },
    {
      "cell_type": "code",
      "source": [
        "dataset2['Y_previsto3'] = resultado_regressao.predict()\n",
        "dataset2[['price','sqft_above','Y_previsto','Y_previsto2','Y_previsto3']].round(2)"
      ],
      "metadata": {
        "colab": {
          "base_uri": "https://localhost:8080/",
          "height": 424
        },
        "id": "A4lRm2RblKuV",
        "outputId": "19ac7d4b-74ff-497f-926b-c49a90f252a5"
      },
      "execution_count": null,
      "outputs": [
        {
          "output_type": "execute_result",
          "data": {
            "text/plain": [
              "          price  sqft_above  Y_previsto  Y_previsto2  Y_previsto3\n",
              "0      221900.0        1180   287555.07    403157.96    376751.55\n",
              "1      538000.0        2170   677621.83    403157.96    642540.01\n",
              "2      180000.0         770   172499.40    194700.40    266677.55\n",
              "3      604000.0        1050   506441.45    403157.96    341850.04\n",
              "4      510000.0        1680   427866.85    611615.52    510988.15\n",
              "...         ...         ...         ...          ...          ...\n",
              "21608  360000.0        1530   385773.32    611615.52    470717.17\n",
              "21609  400000.0        2310   604659.70    611615.52    680126.26\n",
              "21610  402101.0        1020   242655.30    403157.96    333795.84\n",
              "21611  400000.0        1600   405416.97    611615.52    489510.29\n",
              "21612  325000.0        1020   242655.30    403157.96    333795.84\n",
              "\n",
              "[21613 rows x 5 columns]"
            ],
            "text/html": [
              "\n",
              "  <div id=\"df-77333a3a-bfbf-4421-8e5e-318bc551d3d9\">\n",
              "    <div class=\"colab-df-container\">\n",
              "      <div>\n",
              "<style scoped>\n",
              "    .dataframe tbody tr th:only-of-type {\n",
              "        vertical-align: middle;\n",
              "    }\n",
              "\n",
              "    .dataframe tbody tr th {\n",
              "        vertical-align: top;\n",
              "    }\n",
              "\n",
              "    .dataframe thead th {\n",
              "        text-align: right;\n",
              "    }\n",
              "</style>\n",
              "<table border=\"1\" class=\"dataframe\">\n",
              "  <thead>\n",
              "    <tr style=\"text-align: right;\">\n",
              "      <th></th>\n",
              "      <th>price</th>\n",
              "      <th>sqft_above</th>\n",
              "      <th>Y_previsto</th>\n",
              "      <th>Y_previsto2</th>\n",
              "      <th>Y_previsto3</th>\n",
              "    </tr>\n",
              "  </thead>\n",
              "  <tbody>\n",
              "    <tr>\n",
              "      <th>0</th>\n",
              "      <td>221900.0</td>\n",
              "      <td>1180</td>\n",
              "      <td>287555.07</td>\n",
              "      <td>403157.96</td>\n",
              "      <td>376751.55</td>\n",
              "    </tr>\n",
              "    <tr>\n",
              "      <th>1</th>\n",
              "      <td>538000.0</td>\n",
              "      <td>2170</td>\n",
              "      <td>677621.83</td>\n",
              "      <td>403157.96</td>\n",
              "      <td>642540.01</td>\n",
              "    </tr>\n",
              "    <tr>\n",
              "      <th>2</th>\n",
              "      <td>180000.0</td>\n",
              "      <td>770</td>\n",
              "      <td>172499.40</td>\n",
              "      <td>194700.40</td>\n",
              "      <td>266677.55</td>\n",
              "    </tr>\n",
              "    <tr>\n",
              "      <th>3</th>\n",
              "      <td>604000.0</td>\n",
              "      <td>1050</td>\n",
              "      <td>506441.45</td>\n",
              "      <td>403157.96</td>\n",
              "      <td>341850.04</td>\n",
              "    </tr>\n",
              "    <tr>\n",
              "      <th>4</th>\n",
              "      <td>510000.0</td>\n",
              "      <td>1680</td>\n",
              "      <td>427866.85</td>\n",
              "      <td>611615.52</td>\n",
              "      <td>510988.15</td>\n",
              "    </tr>\n",
              "    <tr>\n",
              "      <th>...</th>\n",
              "      <td>...</td>\n",
              "      <td>...</td>\n",
              "      <td>...</td>\n",
              "      <td>...</td>\n",
              "      <td>...</td>\n",
              "    </tr>\n",
              "    <tr>\n",
              "      <th>21608</th>\n",
              "      <td>360000.0</td>\n",
              "      <td>1530</td>\n",
              "      <td>385773.32</td>\n",
              "      <td>611615.52</td>\n",
              "      <td>470717.17</td>\n",
              "    </tr>\n",
              "    <tr>\n",
              "      <th>21609</th>\n",
              "      <td>400000.0</td>\n",
              "      <td>2310</td>\n",
              "      <td>604659.70</td>\n",
              "      <td>611615.52</td>\n",
              "      <td>680126.26</td>\n",
              "    </tr>\n",
              "    <tr>\n",
              "      <th>21610</th>\n",
              "      <td>402101.0</td>\n",
              "      <td>1020</td>\n",
              "      <td>242655.30</td>\n",
              "      <td>403157.96</td>\n",
              "      <td>333795.84</td>\n",
              "    </tr>\n",
              "    <tr>\n",
              "      <th>21611</th>\n",
              "      <td>400000.0</td>\n",
              "      <td>1600</td>\n",
              "      <td>405416.97</td>\n",
              "      <td>611615.52</td>\n",
              "      <td>489510.29</td>\n",
              "    </tr>\n",
              "    <tr>\n",
              "      <th>21612</th>\n",
              "      <td>325000.0</td>\n",
              "      <td>1020</td>\n",
              "      <td>242655.30</td>\n",
              "      <td>403157.96</td>\n",
              "      <td>333795.84</td>\n",
              "    </tr>\n",
              "  </tbody>\n",
              "</table>\n",
              "<p>21613 rows × 5 columns</p>\n",
              "</div>\n",
              "      <button class=\"colab-df-convert\" onclick=\"convertToInteractive('df-77333a3a-bfbf-4421-8e5e-318bc551d3d9')\"\n",
              "              title=\"Convert this dataframe to an interactive table.\"\n",
              "              style=\"display:none;\">\n",
              "        \n",
              "  <svg xmlns=\"http://www.w3.org/2000/svg\" height=\"24px\"viewBox=\"0 0 24 24\"\n",
              "       width=\"24px\">\n",
              "    <path d=\"M0 0h24v24H0V0z\" fill=\"none\"/>\n",
              "    <path d=\"M18.56 5.44l.94 2.06.94-2.06 2.06-.94-2.06-.94-.94-2.06-.94 2.06-2.06.94zm-11 1L8.5 8.5l.94-2.06 2.06-.94-2.06-.94L8.5 2.5l-.94 2.06-2.06.94zm10 10l.94 2.06.94-2.06 2.06-.94-2.06-.94-.94-2.06-.94 2.06-2.06.94z\"/><path d=\"M17.41 7.96l-1.37-1.37c-.4-.4-.92-.59-1.43-.59-.52 0-1.04.2-1.43.59L10.3 9.45l-7.72 7.72c-.78.78-.78 2.05 0 2.83L4 21.41c.39.39.9.59 1.41.59.51 0 1.02-.2 1.41-.59l7.78-7.78 2.81-2.81c.8-.78.8-2.07 0-2.86zM5.41 20L4 18.59l7.72-7.72 1.47 1.35L5.41 20z\"/>\n",
              "  </svg>\n",
              "      </button>\n",
              "      \n",
              "  <style>\n",
              "    .colab-df-container {\n",
              "      display:flex;\n",
              "      flex-wrap:wrap;\n",
              "      gap: 12px;\n",
              "    }\n",
              "\n",
              "    .colab-df-convert {\n",
              "      background-color: #E8F0FE;\n",
              "      border: none;\n",
              "      border-radius: 50%;\n",
              "      cursor: pointer;\n",
              "      display: none;\n",
              "      fill: #1967D2;\n",
              "      height: 32px;\n",
              "      padding: 0 0 0 0;\n",
              "      width: 32px;\n",
              "    }\n",
              "\n",
              "    .colab-df-convert:hover {\n",
              "      background-color: #E2EBFA;\n",
              "      box-shadow: 0px 1px 2px rgba(60, 64, 67, 0.3), 0px 1px 3px 1px rgba(60, 64, 67, 0.15);\n",
              "      fill: #174EA6;\n",
              "    }\n",
              "\n",
              "    [theme=dark] .colab-df-convert {\n",
              "      background-color: #3B4455;\n",
              "      fill: #D2E3FC;\n",
              "    }\n",
              "\n",
              "    [theme=dark] .colab-df-convert:hover {\n",
              "      background-color: #434B5C;\n",
              "      box-shadow: 0px 1px 3px 1px rgba(0, 0, 0, 0.15);\n",
              "      filter: drop-shadow(0px 1px 2px rgba(0, 0, 0, 0.3));\n",
              "      fill: #FFFFFF;\n",
              "    }\n",
              "  </style>\n",
              "\n",
              "      <script>\n",
              "        const buttonEl =\n",
              "          document.querySelector('#df-77333a3a-bfbf-4421-8e5e-318bc551d3d9 button.colab-df-convert');\n",
              "        buttonEl.style.display =\n",
              "          google.colab.kernel.accessAllowed ? 'block' : 'none';\n",
              "\n",
              "        async function convertToInteractive(key) {\n",
              "          const element = document.querySelector('#df-77333a3a-bfbf-4421-8e5e-318bc551d3d9');\n",
              "          const dataTable =\n",
              "            await google.colab.kernel.invokeFunction('convertToInteractive',\n",
              "                                                     [key], {});\n",
              "          if (!dataTable) return;\n",
              "\n",
              "          const docLinkHtml = 'Like what you see? Visit the ' +\n",
              "            '<a target=\"_blank\" href=https://colab.research.google.com/notebooks/data_table.ipynb>data table notebook</a>'\n",
              "            + ' to learn more about interactive tables.';\n",
              "          element.innerHTML = '';\n",
              "          dataTable['output_type'] = 'display_data';\n",
              "          await google.colab.output.renderOutput(dataTable, element);\n",
              "          const docLink = document.createElement('div');\n",
              "          docLink.innerHTML = docLinkHtml;\n",
              "          element.appendChild(docLink);\n",
              "        }\n",
              "      </script>\n",
              "    </div>\n",
              "  </div>\n",
              "  "
            ]
          },
          "metadata": {},
          "execution_count": 43
        }
      ]
    },
    {
      "cell_type": "markdown",
      "source": [
        "A tabela apresentada inclui as colunas \"price\", \"sqft_above\", \"Y_previsto\", \"Y_previsto2\" e \"Y_previsto3\". \"Price\" é o preço real do imóvel, \"sqft_above\" é a área interna acima do nível do solo em pés quadrados, \"Y_previsto\" é o preço previsto do imóvel usando o primeiro modelo de regressão linear, \"Y_previsto2\" é o preço previsto do imóvel usando o segundo modelo de regressão linear e \"Y_previsto3\" é o preço previsto do imóvel usando o terceiro modelo de regressão linear.\n",
        "\n",
        "Comparando as colunas \"Y_previsto\", \"Y_previsto2\" e \"Y_previsto3\", é possível observar que o terceiro modelo, que inclui mais variáveis explicativas do que os modelos anteriores, prevê preços mais altos em média. Essa diferença se deve à capacidade do modelo de capturar variações adicionais nos dados através das variáveis adicionadas. No entanto, é importante lembrar que o modelo mais complexo nem sempre é o melhor, e é necessário avaliar outras métricas de desempenho do modelo, como o erro médio quadrático, para determinar qual modelo é mais adequado para prever os preços dos imóveis."
      ],
      "metadata": {
        "id": "eMCxwaAjlRf4"
      }
    },
    {
      "cell_type": "code",
      "source": [
        "Y = dataset.price\n",
        "X = sm.add_constant(dataset.bathrooms)\n",
        "resultado_regressao = sm.OLS(Y, X).fit()\n",
        "print(resultado_regressao.summary())"
      ],
      "metadata": {
        "colab": {
          "base_uri": "https://localhost:8080/"
        },
        "id": "X0K0T3rflSvy",
        "outputId": "14ad76ce-9f73-4587-9cdb-df4286448c84"
      },
      "execution_count": null,
      "outputs": [
        {
          "output_type": "stream",
          "name": "stdout",
          "text": [
            "                            OLS Regression Results                            \n",
            "==============================================================================\n",
            "Dep. Variable:                  price   R-squared:                       0.276\n",
            "Model:                            OLS   Adj. R-squared:                  0.276\n",
            "Method:                 Least Squares   F-statistic:                     8229.\n",
            "Date:                Sat, 18 Mar 2023   Prob (F-statistic):               0.00\n",
            "Time:                        21:17:06   Log-Likelihood:            -3.0412e+05\n",
            "No. Observations:               21613   AIC:                         6.082e+05\n",
            "Df Residuals:                   21611   BIC:                         6.083e+05\n",
            "Df Model:                           1                                         \n",
            "Covariance Type:            nonrobust                                         \n",
            "==============================================================================\n",
            "                 coef    std err          t      P>|t|      [0.025      0.975]\n",
            "------------------------------------------------------------------------------\n",
            "const       1.071e+04   6210.669      1.724      0.085   -1465.060    2.29e+04\n",
            "bathrooms   2.503e+05   2759.528     90.714      0.000    2.45e+05    2.56e+05\n",
            "==============================================================================\n",
            "Omnibus:                    17286.361   Durbin-Watson:                   1.960\n",
            "Prob(Omnibus):                  0.000   Jarque-Bera (JB):           887102.351\n",
            "Skew:                           3.458   Prob(JB):                         0.00\n",
            "Kurtosis:                      33.614   Cond. No.                         7.75\n",
            "==============================================================================\n",
            "\n",
            "Notes:\n",
            "[1] Standard Errors assume that the covariance matrix of the errors is correctly specified.\n"
          ]
        }
      ]
    },
    {
      "cell_type": "markdown",
      "source": [
        "Através da análise da regressão linear entre o preço do imóvel e o número de banheiros (bathrooms), foi calculado um coeficiente de 250,320 dólares, o que significa que, em média, o preço do imóvel aumenta em 250,320 dólares para cada aumento de 1 unidade no número de banheiros.\n",
        "\n",
        "O valor de R-quadrado (R-squared) de 0.276 indica que cerca de 27.6% da variação no preço do imóvel é explicada pelo número de banheiros. Ou seja, o número de banheiros tem um efeito moderado na explicação do preço do imóvel, mas ainda há uma grande parcela de variação que não é explicada pelo número de banheiros."
      ],
      "metadata": {
        "id": "PaU9gG7alYS1"
      }
    },
    {
      "cell_type": "code",
      "source": [
        "dataset2['Y_previsto4'] = resultado_regressao.predict()\n",
        "dataset2[['price','bathrooms','Y_previsto','Y_previsto2','Y_previsto3','Y_previsto4']].round(2)"
      ],
      "metadata": {
        "colab": {
          "base_uri": "https://localhost:8080/",
          "height": 424
        },
        "id": "DhNR2xm5lZQ4",
        "outputId": "2aed4956-51d8-436a-fbbd-b5db77658b41"
      },
      "execution_count": null,
      "outputs": [
        {
          "output_type": "execute_result",
          "data": {
            "text/plain": [
              "          price  bathrooms  Y_previsto  Y_previsto2  Y_previsto3  Y_previsto4\n",
              "0      221900.0       1.00   287555.07    403157.96    376751.55    261034.82\n",
              "1      538000.0       2.25   677621.83    403157.96    642540.01    573942.97\n",
              "2      180000.0       1.00   172499.40    194700.40    266677.55    261034.82\n",
              "3      604000.0       3.00   506441.45    403157.96    341850.04    761687.86\n",
              "4      510000.0       2.00   427866.85    611615.52    510988.15    511361.34\n",
              "...         ...        ...         ...          ...          ...          ...\n",
              "21608  360000.0       2.50   385773.32    611615.52    470717.17    636524.60\n",
              "21609  400000.0       2.50   604659.70    611615.52    680126.26    636524.60\n",
              "21610  402101.0       0.75   242655.30    403157.96    333795.84    198453.20\n",
              "21611  400000.0       2.50   405416.97    611615.52    489510.29    636524.60\n",
              "21612  325000.0       0.75   242655.30    403157.96    333795.84    198453.20\n",
              "\n",
              "[21613 rows x 6 columns]"
            ],
            "text/html": [
              "\n",
              "  <div id=\"df-4ffd10e6-f04a-4029-88d0-fa2272618836\">\n",
              "    <div class=\"colab-df-container\">\n",
              "      <div>\n",
              "<style scoped>\n",
              "    .dataframe tbody tr th:only-of-type {\n",
              "        vertical-align: middle;\n",
              "    }\n",
              "\n",
              "    .dataframe tbody tr th {\n",
              "        vertical-align: top;\n",
              "    }\n",
              "\n",
              "    .dataframe thead th {\n",
              "        text-align: right;\n",
              "    }\n",
              "</style>\n",
              "<table border=\"1\" class=\"dataframe\">\n",
              "  <thead>\n",
              "    <tr style=\"text-align: right;\">\n",
              "      <th></th>\n",
              "      <th>price</th>\n",
              "      <th>bathrooms</th>\n",
              "      <th>Y_previsto</th>\n",
              "      <th>Y_previsto2</th>\n",
              "      <th>Y_previsto3</th>\n",
              "      <th>Y_previsto4</th>\n",
              "    </tr>\n",
              "  </thead>\n",
              "  <tbody>\n",
              "    <tr>\n",
              "      <th>0</th>\n",
              "      <td>221900.0</td>\n",
              "      <td>1.00</td>\n",
              "      <td>287555.07</td>\n",
              "      <td>403157.96</td>\n",
              "      <td>376751.55</td>\n",
              "      <td>261034.82</td>\n",
              "    </tr>\n",
              "    <tr>\n",
              "      <th>1</th>\n",
              "      <td>538000.0</td>\n",
              "      <td>2.25</td>\n",
              "      <td>677621.83</td>\n",
              "      <td>403157.96</td>\n",
              "      <td>642540.01</td>\n",
              "      <td>573942.97</td>\n",
              "    </tr>\n",
              "    <tr>\n",
              "      <th>2</th>\n",
              "      <td>180000.0</td>\n",
              "      <td>1.00</td>\n",
              "      <td>172499.40</td>\n",
              "      <td>194700.40</td>\n",
              "      <td>266677.55</td>\n",
              "      <td>261034.82</td>\n",
              "    </tr>\n",
              "    <tr>\n",
              "      <th>3</th>\n",
              "      <td>604000.0</td>\n",
              "      <td>3.00</td>\n",
              "      <td>506441.45</td>\n",
              "      <td>403157.96</td>\n",
              "      <td>341850.04</td>\n",
              "      <td>761687.86</td>\n",
              "    </tr>\n",
              "    <tr>\n",
              "      <th>4</th>\n",
              "      <td>510000.0</td>\n",
              "      <td>2.00</td>\n",
              "      <td>427866.85</td>\n",
              "      <td>611615.52</td>\n",
              "      <td>510988.15</td>\n",
              "      <td>511361.34</td>\n",
              "    </tr>\n",
              "    <tr>\n",
              "      <th>...</th>\n",
              "      <td>...</td>\n",
              "      <td>...</td>\n",
              "      <td>...</td>\n",
              "      <td>...</td>\n",
              "      <td>...</td>\n",
              "      <td>...</td>\n",
              "    </tr>\n",
              "    <tr>\n",
              "      <th>21608</th>\n",
              "      <td>360000.0</td>\n",
              "      <td>2.50</td>\n",
              "      <td>385773.32</td>\n",
              "      <td>611615.52</td>\n",
              "      <td>470717.17</td>\n",
              "      <td>636524.60</td>\n",
              "    </tr>\n",
              "    <tr>\n",
              "      <th>21609</th>\n",
              "      <td>400000.0</td>\n",
              "      <td>2.50</td>\n",
              "      <td>604659.70</td>\n",
              "      <td>611615.52</td>\n",
              "      <td>680126.26</td>\n",
              "      <td>636524.60</td>\n",
              "    </tr>\n",
              "    <tr>\n",
              "      <th>21610</th>\n",
              "      <td>402101.0</td>\n",
              "      <td>0.75</td>\n",
              "      <td>242655.30</td>\n",
              "      <td>403157.96</td>\n",
              "      <td>333795.84</td>\n",
              "      <td>198453.20</td>\n",
              "    </tr>\n",
              "    <tr>\n",
              "      <th>21611</th>\n",
              "      <td>400000.0</td>\n",
              "      <td>2.50</td>\n",
              "      <td>405416.97</td>\n",
              "      <td>611615.52</td>\n",
              "      <td>489510.29</td>\n",
              "      <td>636524.60</td>\n",
              "    </tr>\n",
              "    <tr>\n",
              "      <th>21612</th>\n",
              "      <td>325000.0</td>\n",
              "      <td>0.75</td>\n",
              "      <td>242655.30</td>\n",
              "      <td>403157.96</td>\n",
              "      <td>333795.84</td>\n",
              "      <td>198453.20</td>\n",
              "    </tr>\n",
              "  </tbody>\n",
              "</table>\n",
              "<p>21613 rows × 6 columns</p>\n",
              "</div>\n",
              "      <button class=\"colab-df-convert\" onclick=\"convertToInteractive('df-4ffd10e6-f04a-4029-88d0-fa2272618836')\"\n",
              "              title=\"Convert this dataframe to an interactive table.\"\n",
              "              style=\"display:none;\">\n",
              "        \n",
              "  <svg xmlns=\"http://www.w3.org/2000/svg\" height=\"24px\"viewBox=\"0 0 24 24\"\n",
              "       width=\"24px\">\n",
              "    <path d=\"M0 0h24v24H0V0z\" fill=\"none\"/>\n",
              "    <path d=\"M18.56 5.44l.94 2.06.94-2.06 2.06-.94-2.06-.94-.94-2.06-.94 2.06-2.06.94zm-11 1L8.5 8.5l.94-2.06 2.06-.94-2.06-.94L8.5 2.5l-.94 2.06-2.06.94zm10 10l.94 2.06.94-2.06 2.06-.94-2.06-.94-.94-2.06-.94 2.06-2.06.94z\"/><path d=\"M17.41 7.96l-1.37-1.37c-.4-.4-.92-.59-1.43-.59-.52 0-1.04.2-1.43.59L10.3 9.45l-7.72 7.72c-.78.78-.78 2.05 0 2.83L4 21.41c.39.39.9.59 1.41.59.51 0 1.02-.2 1.41-.59l7.78-7.78 2.81-2.81c.8-.78.8-2.07 0-2.86zM5.41 20L4 18.59l7.72-7.72 1.47 1.35L5.41 20z\"/>\n",
              "  </svg>\n",
              "      </button>\n",
              "      \n",
              "  <style>\n",
              "    .colab-df-container {\n",
              "      display:flex;\n",
              "      flex-wrap:wrap;\n",
              "      gap: 12px;\n",
              "    }\n",
              "\n",
              "    .colab-df-convert {\n",
              "      background-color: #E8F0FE;\n",
              "      border: none;\n",
              "      border-radius: 50%;\n",
              "      cursor: pointer;\n",
              "      display: none;\n",
              "      fill: #1967D2;\n",
              "      height: 32px;\n",
              "      padding: 0 0 0 0;\n",
              "      width: 32px;\n",
              "    }\n",
              "\n",
              "    .colab-df-convert:hover {\n",
              "      background-color: #E2EBFA;\n",
              "      box-shadow: 0px 1px 2px rgba(60, 64, 67, 0.3), 0px 1px 3px 1px rgba(60, 64, 67, 0.15);\n",
              "      fill: #174EA6;\n",
              "    }\n",
              "\n",
              "    [theme=dark] .colab-df-convert {\n",
              "      background-color: #3B4455;\n",
              "      fill: #D2E3FC;\n",
              "    }\n",
              "\n",
              "    [theme=dark] .colab-df-convert:hover {\n",
              "      background-color: #434B5C;\n",
              "      box-shadow: 0px 1px 3px 1px rgba(0, 0, 0, 0.15);\n",
              "      filter: drop-shadow(0px 1px 2px rgba(0, 0, 0, 0.3));\n",
              "      fill: #FFFFFF;\n",
              "    }\n",
              "  </style>\n",
              "\n",
              "      <script>\n",
              "        const buttonEl =\n",
              "          document.querySelector('#df-4ffd10e6-f04a-4029-88d0-fa2272618836 button.colab-df-convert');\n",
              "        buttonEl.style.display =\n",
              "          google.colab.kernel.accessAllowed ? 'block' : 'none';\n",
              "\n",
              "        async function convertToInteractive(key) {\n",
              "          const element = document.querySelector('#df-4ffd10e6-f04a-4029-88d0-fa2272618836');\n",
              "          const dataTable =\n",
              "            await google.colab.kernel.invokeFunction('convertToInteractive',\n",
              "                                                     [key], {});\n",
              "          if (!dataTable) return;\n",
              "\n",
              "          const docLinkHtml = 'Like what you see? Visit the ' +\n",
              "            '<a target=\"_blank\" href=https://colab.research.google.com/notebooks/data_table.ipynb>data table notebook</a>'\n",
              "            + ' to learn more about interactive tables.';\n",
              "          element.innerHTML = '';\n",
              "          dataTable['output_type'] = 'display_data';\n",
              "          await google.colab.output.renderOutput(dataTable, element);\n",
              "          const docLink = document.createElement('div');\n",
              "          docLink.innerHTML = docLinkHtml;\n",
              "          element.appendChild(docLink);\n",
              "        }\n",
              "      </script>\n",
              "    </div>\n",
              "  </div>\n",
              "  "
            ]
          },
          "metadata": {},
          "execution_count": 45
        }
      ]
    },
    {
      "cell_type": "markdown",
      "source": [
        "A tabela apresentada inclui as colunas \"price\", \"bathrooms\", \"Y_previsto\", \"Y_previsto2\", e \"Y_previsto3\". \"Price\" é o preço real do imóvel, \"bathrooms\" é o número de banheiros no imóvel, \"Y_previsto\" é o preço previsto do imóvel usando o primeiro modelo de regressão linear, \"Y_previsto2\" é o preço previsto do imóvel usando o segundo modelo de regressão linear e \"Y_previsto3\" é o preço previsto do imóvel usando o terceiro modelo de regressão linear.\n",
        "\n",
        "Comparando as colunas \"Y_previsto\", \"Y_previsto2\" e \"Y_previsto3\", é possível observar que o terceiro modelo, que inclui mais variáveis explicativas do que os modelos anteriores, prevê preços mais altos em média. Essa diferença se deve à capacidade do modelo de capturar variações adicionais nos dados através das variáveis adicionadas. No entanto, assim como no caso anterior, é importante lembrar que o modelo mais complexo nem sempre é o melhor, e é necessário avaliar outras métricas de desempenho do modelo, como o erro médio quadrático, para determinar qual modelo é mais adequado para prever os preços dos imóveis."
      ],
      "metadata": {
        "id": "utIpbvY-lety"
      }
    },
    {
      "cell_type": "code",
      "source": [
        "Y = dataset.price\n",
        "X = sm.add_constant(dataset.view)\n",
        "resultado_regressao = sm.OLS(Y, X).fit()\n",
        "print(resultado_regressao.summary())"
      ],
      "metadata": {
        "colab": {
          "base_uri": "https://localhost:8080/"
        },
        "id": "NyMPetA2lf7k",
        "outputId": "dd1e3a5e-57d6-40f8-a31e-b7f380177efe"
      },
      "execution_count": null,
      "outputs": [
        {
          "output_type": "stream",
          "name": "stdout",
          "text": [
            "                            OLS Regression Results                            \n",
            "==============================================================================\n",
            "Dep. Variable:                  price   R-squared:                       0.158\n",
            "Model:                            OLS   Adj. R-squared:                  0.158\n",
            "Method:                 Least Squares   F-statistic:                     4050.\n",
            "Date:                Sat, 18 Mar 2023   Prob (F-statistic):               0.00\n",
            "Time:                        21:18:00   Log-Likelihood:            -3.0575e+05\n",
            "No. Observations:               21613   AIC:                         6.115e+05\n",
            "Df Residuals:                   21611   BIC:                         6.115e+05\n",
            "Df Model:                           1                                         \n",
            "Covariance Type:            nonrobust                                         \n",
            "==============================================================================\n",
            "                 coef    std err          t      P>|t|      [0.025      0.975]\n",
            "------------------------------------------------------------------------------\n",
            "const       4.955e+05   2396.476    206.759      0.000    4.91e+05       5e+05\n",
            "view        1.903e+05   2990.660     63.643      0.000    1.84e+05    1.96e+05\n",
            "==============================================================================\n",
            "Omnibus:                    17927.231   Durbin-Watson:                   1.960\n",
            "Prob(Omnibus):                  0.000   Jarque-Bera (JB):          1034210.275\n",
            "Skew:                           3.625   Prob(JB):                         0.00\n",
            "Kurtosis:                      36.104   Cond. No.                         1.46\n",
            "==============================================================================\n",
            "\n",
            "Notes:\n",
            "[1] Standard Errors assume that the covariance matrix of the errors is correctly specified.\n"
          ]
        }
      ]
    },
    {
      "cell_type": "markdown",
      "source": [
        "Através da análise da regressão linear entre o preço do imóvel e a variável \"view\" (indicador de qualidade da vista), foi calculado um coeficiente de 190,270. Isso significa que, em média, o preço do imóvel aumenta em 190,270 dólares para cada aumento de 1 unidade na qualidade da vista.\n",
        "\n",
        "O valor de R-quadrado (R-squared) de 0.158 indica que cerca de 15.8% da variação no preço do imóvel é explicada pela qualidade da vista. Ou seja, a qualidade da vista tem um efeito moderado na explicação do preço do imóvel, mas ainda há uma grande parcela de variação que não é explicada pela qualidade da vista."
      ],
      "metadata": {
        "id": "s3LsxGdVll2f"
      }
    },
    {
      "cell_type": "code",
      "source": [
        "dataset2['Y_previsto5'] = resultado_regressao.predict()\n",
        "dataset2[['price','view','Y_previsto','Y_previsto2','Y_previsto3','Y_previsto4','Y_previsto5']].round(2)"
      ],
      "metadata": {
        "colab": {
          "base_uri": "https://localhost:8080/",
          "height": 424
        },
        "id": "tHO0etwTlm9P",
        "outputId": "f8b8f51b-713a-44de-9ad6-61cc2a889fc8"
      },
      "execution_count": null,
      "outputs": [
        {
          "output_type": "execute_result",
          "data": {
            "text/plain": [
              "          price  view  Y_previsto  Y_previsto2  Y_previsto3  Y_previsto4  \\\n",
              "0      221900.0     0   287555.07    403157.96    376751.55    261034.82   \n",
              "1      538000.0     0   677621.83    403157.96    642540.01    573942.97   \n",
              "2      180000.0     0   172499.40    194700.40    266677.55    261034.82   \n",
              "3      604000.0     0   506441.45    403157.96    341850.04    761687.86   \n",
              "4      510000.0     0   427866.85    611615.52    510988.15    511361.34   \n",
              "...         ...   ...         ...          ...          ...          ...   \n",
              "21608  360000.0     0   385773.32    611615.52    470717.17    636524.60   \n",
              "21609  400000.0     0   604659.70    611615.52    680126.26    636524.60   \n",
              "21610  402101.0     0   242655.30    403157.96    333795.84    198453.20   \n",
              "21611  400000.0     0   405416.97    611615.52    489510.29    636524.60   \n",
              "21612  325000.0     0   242655.30    403157.96    333795.84    198453.20   \n",
              "\n",
              "       Y_previsto5  \n",
              "0        495491.94  \n",
              "1        495491.94  \n",
              "2        495491.94  \n",
              "3        495491.94  \n",
              "4        495491.94  \n",
              "...            ...  \n",
              "21608    495491.94  \n",
              "21609    495491.94  \n",
              "21610    495491.94  \n",
              "21611    495491.94  \n",
              "21612    495491.94  \n",
              "\n",
              "[21613 rows x 7 columns]"
            ],
            "text/html": [
              "\n",
              "  <div id=\"df-c2e1f6c0-276a-424f-81ee-c2a1e7ae31a9\">\n",
              "    <div class=\"colab-df-container\">\n",
              "      <div>\n",
              "<style scoped>\n",
              "    .dataframe tbody tr th:only-of-type {\n",
              "        vertical-align: middle;\n",
              "    }\n",
              "\n",
              "    .dataframe tbody tr th {\n",
              "        vertical-align: top;\n",
              "    }\n",
              "\n",
              "    .dataframe thead th {\n",
              "        text-align: right;\n",
              "    }\n",
              "</style>\n",
              "<table border=\"1\" class=\"dataframe\">\n",
              "  <thead>\n",
              "    <tr style=\"text-align: right;\">\n",
              "      <th></th>\n",
              "      <th>price</th>\n",
              "      <th>view</th>\n",
              "      <th>Y_previsto</th>\n",
              "      <th>Y_previsto2</th>\n",
              "      <th>Y_previsto3</th>\n",
              "      <th>Y_previsto4</th>\n",
              "      <th>Y_previsto5</th>\n",
              "    </tr>\n",
              "  </thead>\n",
              "  <tbody>\n",
              "    <tr>\n",
              "      <th>0</th>\n",
              "      <td>221900.0</td>\n",
              "      <td>0</td>\n",
              "      <td>287555.07</td>\n",
              "      <td>403157.96</td>\n",
              "      <td>376751.55</td>\n",
              "      <td>261034.82</td>\n",
              "      <td>495491.94</td>\n",
              "    </tr>\n",
              "    <tr>\n",
              "      <th>1</th>\n",
              "      <td>538000.0</td>\n",
              "      <td>0</td>\n",
              "      <td>677621.83</td>\n",
              "      <td>403157.96</td>\n",
              "      <td>642540.01</td>\n",
              "      <td>573942.97</td>\n",
              "      <td>495491.94</td>\n",
              "    </tr>\n",
              "    <tr>\n",
              "      <th>2</th>\n",
              "      <td>180000.0</td>\n",
              "      <td>0</td>\n",
              "      <td>172499.40</td>\n",
              "      <td>194700.40</td>\n",
              "      <td>266677.55</td>\n",
              "      <td>261034.82</td>\n",
              "      <td>495491.94</td>\n",
              "    </tr>\n",
              "    <tr>\n",
              "      <th>3</th>\n",
              "      <td>604000.0</td>\n",
              "      <td>0</td>\n",
              "      <td>506441.45</td>\n",
              "      <td>403157.96</td>\n",
              "      <td>341850.04</td>\n",
              "      <td>761687.86</td>\n",
              "      <td>495491.94</td>\n",
              "    </tr>\n",
              "    <tr>\n",
              "      <th>4</th>\n",
              "      <td>510000.0</td>\n",
              "      <td>0</td>\n",
              "      <td>427866.85</td>\n",
              "      <td>611615.52</td>\n",
              "      <td>510988.15</td>\n",
              "      <td>511361.34</td>\n",
              "      <td>495491.94</td>\n",
              "    </tr>\n",
              "    <tr>\n",
              "      <th>...</th>\n",
              "      <td>...</td>\n",
              "      <td>...</td>\n",
              "      <td>...</td>\n",
              "      <td>...</td>\n",
              "      <td>...</td>\n",
              "      <td>...</td>\n",
              "      <td>...</td>\n",
              "    </tr>\n",
              "    <tr>\n",
              "      <th>21608</th>\n",
              "      <td>360000.0</td>\n",
              "      <td>0</td>\n",
              "      <td>385773.32</td>\n",
              "      <td>611615.52</td>\n",
              "      <td>470717.17</td>\n",
              "      <td>636524.60</td>\n",
              "      <td>495491.94</td>\n",
              "    </tr>\n",
              "    <tr>\n",
              "      <th>21609</th>\n",
              "      <td>400000.0</td>\n",
              "      <td>0</td>\n",
              "      <td>604659.70</td>\n",
              "      <td>611615.52</td>\n",
              "      <td>680126.26</td>\n",
              "      <td>636524.60</td>\n",
              "      <td>495491.94</td>\n",
              "    </tr>\n",
              "    <tr>\n",
              "      <th>21610</th>\n",
              "      <td>402101.0</td>\n",
              "      <td>0</td>\n",
              "      <td>242655.30</td>\n",
              "      <td>403157.96</td>\n",
              "      <td>333795.84</td>\n",
              "      <td>198453.20</td>\n",
              "      <td>495491.94</td>\n",
              "    </tr>\n",
              "    <tr>\n",
              "      <th>21611</th>\n",
              "      <td>400000.0</td>\n",
              "      <td>0</td>\n",
              "      <td>405416.97</td>\n",
              "      <td>611615.52</td>\n",
              "      <td>489510.29</td>\n",
              "      <td>636524.60</td>\n",
              "      <td>495491.94</td>\n",
              "    </tr>\n",
              "    <tr>\n",
              "      <th>21612</th>\n",
              "      <td>325000.0</td>\n",
              "      <td>0</td>\n",
              "      <td>242655.30</td>\n",
              "      <td>403157.96</td>\n",
              "      <td>333795.84</td>\n",
              "      <td>198453.20</td>\n",
              "      <td>495491.94</td>\n",
              "    </tr>\n",
              "  </tbody>\n",
              "</table>\n",
              "<p>21613 rows × 7 columns</p>\n",
              "</div>\n",
              "      <button class=\"colab-df-convert\" onclick=\"convertToInteractive('df-c2e1f6c0-276a-424f-81ee-c2a1e7ae31a9')\"\n",
              "              title=\"Convert this dataframe to an interactive table.\"\n",
              "              style=\"display:none;\">\n",
              "        \n",
              "  <svg xmlns=\"http://www.w3.org/2000/svg\" height=\"24px\"viewBox=\"0 0 24 24\"\n",
              "       width=\"24px\">\n",
              "    <path d=\"M0 0h24v24H0V0z\" fill=\"none\"/>\n",
              "    <path d=\"M18.56 5.44l.94 2.06.94-2.06 2.06-.94-2.06-.94-.94-2.06-.94 2.06-2.06.94zm-11 1L8.5 8.5l.94-2.06 2.06-.94-2.06-.94L8.5 2.5l-.94 2.06-2.06.94zm10 10l.94 2.06.94-2.06 2.06-.94-2.06-.94-.94-2.06-.94 2.06-2.06.94z\"/><path d=\"M17.41 7.96l-1.37-1.37c-.4-.4-.92-.59-1.43-.59-.52 0-1.04.2-1.43.59L10.3 9.45l-7.72 7.72c-.78.78-.78 2.05 0 2.83L4 21.41c.39.39.9.59 1.41.59.51 0 1.02-.2 1.41-.59l7.78-7.78 2.81-2.81c.8-.78.8-2.07 0-2.86zM5.41 20L4 18.59l7.72-7.72 1.47 1.35L5.41 20z\"/>\n",
              "  </svg>\n",
              "      </button>\n",
              "      \n",
              "  <style>\n",
              "    .colab-df-container {\n",
              "      display:flex;\n",
              "      flex-wrap:wrap;\n",
              "      gap: 12px;\n",
              "    }\n",
              "\n",
              "    .colab-df-convert {\n",
              "      background-color: #E8F0FE;\n",
              "      border: none;\n",
              "      border-radius: 50%;\n",
              "      cursor: pointer;\n",
              "      display: none;\n",
              "      fill: #1967D2;\n",
              "      height: 32px;\n",
              "      padding: 0 0 0 0;\n",
              "      width: 32px;\n",
              "    }\n",
              "\n",
              "    .colab-df-convert:hover {\n",
              "      background-color: #E2EBFA;\n",
              "      box-shadow: 0px 1px 2px rgba(60, 64, 67, 0.3), 0px 1px 3px 1px rgba(60, 64, 67, 0.15);\n",
              "      fill: #174EA6;\n",
              "    }\n",
              "\n",
              "    [theme=dark] .colab-df-convert {\n",
              "      background-color: #3B4455;\n",
              "      fill: #D2E3FC;\n",
              "    }\n",
              "\n",
              "    [theme=dark] .colab-df-convert:hover {\n",
              "      background-color: #434B5C;\n",
              "      box-shadow: 0px 1px 3px 1px rgba(0, 0, 0, 0.15);\n",
              "      filter: drop-shadow(0px 1px 2px rgba(0, 0, 0, 0.3));\n",
              "      fill: #FFFFFF;\n",
              "    }\n",
              "  </style>\n",
              "\n",
              "      <script>\n",
              "        const buttonEl =\n",
              "          document.querySelector('#df-c2e1f6c0-276a-424f-81ee-c2a1e7ae31a9 button.colab-df-convert');\n",
              "        buttonEl.style.display =\n",
              "          google.colab.kernel.accessAllowed ? 'block' : 'none';\n",
              "\n",
              "        async function convertToInteractive(key) {\n",
              "          const element = document.querySelector('#df-c2e1f6c0-276a-424f-81ee-c2a1e7ae31a9');\n",
              "          const dataTable =\n",
              "            await google.colab.kernel.invokeFunction('convertToInteractive',\n",
              "                                                     [key], {});\n",
              "          if (!dataTable) return;\n",
              "\n",
              "          const docLinkHtml = 'Like what you see? Visit the ' +\n",
              "            '<a target=\"_blank\" href=https://colab.research.google.com/notebooks/data_table.ipynb>data table notebook</a>'\n",
              "            + ' to learn more about interactive tables.';\n",
              "          element.innerHTML = '';\n",
              "          dataTable['output_type'] = 'display_data';\n",
              "          await google.colab.output.renderOutput(dataTable, element);\n",
              "          const docLink = document.createElement('div');\n",
              "          docLink.innerHTML = docLinkHtml;\n",
              "          element.appendChild(docLink);\n",
              "        }\n",
              "      </script>\n",
              "    </div>\n",
              "  </div>\n",
              "  "
            ]
          },
          "metadata": {},
          "execution_count": 47
        }
      ]
    },
    {
      "cell_type": "markdown",
      "source": [
        "A tabela apresentada inclui as colunas \"price\", \"view\", \"Y_previsto\", \"Y_previsto2\", \"Y_previsto3\", \"Y_previsto4\" e \"Y_previsto5\". \"Price\" é o preço real do imóvel, \"view\" é o número de vezes que o imóvel foi visualizado, \"Y_previsto\" é o preço previsto do imóvel usando o primeiro modelo de regressão linear, \"Y_previsto2\" é o preço previsto do imóvel usando o segundo modelo de regressão linear, \"Y_previsto3\" é o preço previsto do imóvel usando o terceiro modelo de regressão linear, \"Y_previsto4\" é o preço previsto do imóvel usando o quarto modelo de regressão linear e \"Y_previsto5\" é o preço previsto do imóvel usando o quinto modelo de regressão linear.\n",
        "\n",
        "Comparando as colunas \"Y_previsto\", \"Y_previsto2\", \"Y_previsto3\", \"Y_previsto4\" e \"Y_previsto5\", é possível observar que o quinto modelo, que inclui mais variáveis explicativas do que os modelos anteriores, prevê preços mais altos em média. Essa diferença se deve à capacidade do modelo de capturar variações adicionais nos dados através das variáveis adicionadas. No entanto, assim como nos casos anteriores, é importante lembrar que o modelo mais complexo nem sempre é o melhor, e é necessário avaliar outras métricas de desempenho do modelo para determinar qual modelo é mais adequado para prever os preços dos imóveis. Além disso, é importante considerar que o número de visualizações do imóvel pode não ser uma variável causal do preço, mas sim uma variável correlacionada que está relacionada a outras características do imóvel que realmente afetam o preço.\n",
        "\n",
        "\n",
        "\n"
      ],
      "metadata": {
        "id": "9ItDk2FMlthT"
      }
    },
    {
      "cell_type": "markdown",
      "source": [
        "---"
      ],
      "metadata": {
        "id": "JE68M7BwRn7g"
      }
    }
  ]
}